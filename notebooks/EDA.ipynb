{
 "cells": [
  {
   "cell_type": "code",
   "execution_count": 30,
   "metadata": {},
   "outputs": [],
   "source": [
    "import os\n",
    "import polars as pl\n",
    "pl.Config(tbl_rows=50)\n",
    "import matplotlib.pyplot as plt"
   ]
  },
  {
   "cell_type": "code",
   "execution_count": 49,
   "metadata": {},
   "outputs": [],
   "source": [
    "def read_csv_with_lowercase_columns(file_path: str) -> pl.DataFrame:\n",
    "    \"\"\"\n",
    "    Lee un archivo CSV y convierte todos los nombres de las columnas a minúsculas.\n",
    "\n",
    "    Parameters:\n",
    "    file_path (str): La ruta del archivo CSV.\n",
    "\n",
    "    Returns:\n",
    "    pl.DataFrame: Un DataFrame de polars con nombres de columnas en minúsculas.\n",
    "    \"\"\"\n",
    "    # Leer el archivo CSV\n",
    "    df = pl.read_csv(file_path,new_columns=[\"id\"])\n",
    "    \n",
    "    # Transformar los nombres de las columnas a minúsculas\n",
    "    df = df.rename({col: col.lower() for col in df.columns})\n",
    "    \n",
    "    return df\n",
    "\n",
    "\n",
    "def count_unique_values(df: pl.DataFrame, columns: list) -> dict:\n",
    "    \"\"\"\n",
    "    Cuenta los valores únicos de las columnas especificadas en un DataFrame.\n",
    "\n",
    "    Parameters:\n",
    "    df (pl.DataFrame): El DataFrame de polars.\n",
    "    columns (list): Una lista de nombres de columnas para contar los valores únicos.\n",
    "\n",
    "    Returns:\n",
    "    dict: Un diccionario con los nombres de las columnas y la cantidad de valores únicos.\n",
    "    \"\"\"\n",
    "    unique_counts = {col: df[col].n_unique() for col in columns}\n",
    "    return unique_counts\n",
    "\n",
    "def count_distinct_grouped_by(df: pl.DataFrame, y_column: str, x_columns: list, z_columns: list = None) -> pl.DataFrame:\n",
    "    \"\"\"\n",
    "    Cuenta la cantidad de elementos distintos de una columna Y agrupado por los valores de una o más columnas X,\n",
    "    ordena los resultados por una o más columnas Z de forma descendente, y calcula el porcentaje sobre el total\n",
    "    de cada valor de la primera columna de agrupación.\n",
    "\n",
    "    Parameters:\n",
    "    df (pl.DataFrame): El DataFrame de polars.\n",
    "    y_column (str): El nombre de la columna Y cuyos valores distintos se contarán.\n",
    "    x_columns (list): Una lista de nombres de columnas X por las que se agrupará.\n",
    "    z_columns (list, optional): Una lista de nombres de columnas Z por las que se ordenará de forma descendente.\n",
    "\n",
    "    Returns:\n",
    "    pl.DataFrame: Un nuevo DataFrame con los resultados de la cantidad de valores distintos de Y agrupados por X,\n",
    "                  ordenados por las columnas Z y con el porcentaje calculado.\n",
    "    \"\"\"\n",
    "    # Agrupar por las columnas X y contar los valores distintos de Y\n",
    "    result = df.group_by(x_columns).agg([\n",
    "        pl.col(y_column).n_unique().alias(f\"{y_column}_distinct_count\")\n",
    "    ])\n",
    "    \n",
    "    # Si hay más de una columna en x_columns, calcular el total por cada valor de la primera columna de agrupación\n",
    "    if len(x_columns) > 1:\n",
    "        total_by_first_column = result.group_by(x_columns[0]).agg([\n",
    "            pl.col(f\"{y_column}_distinct_count\").sum().alias(\"total_first_column\")\n",
    "        ])\n",
    "        \n",
    "        # Unir los totales al resultado original\n",
    "        result = result.join(total_by_first_column, on=x_columns[0])\n",
    "    else:\n",
    "        # Si solo hay una columna de agrupación, calcular el total general\n",
    "        total_general = result[f\"{y_column}_distinct_count\"].sum()\n",
    "        result = result.with_columns([\n",
    "            pl.lit(total_general).alias(\"total_first_column\")\n",
    "        ])\n",
    "    \n",
    "    # Calcular el porcentaje\n",
    "    result = result.with_columns([\n",
    "        (pl.col(f\"{y_column}_distinct_count\") / pl.col(\"total_first_column\") * 100).alias(f\"{y_column}_percentage\")\n",
    "    ])\n",
    "    \n",
    "    # Si se proporcionan columnas Z, ordenar por esas columnas en orden descendente\n",
    "    if z_columns:\n",
    "        result = result.sort(by=z_columns, descending = True)\n",
    "    \n",
    "    return result\n",
    "\n",
    "def plot_histograms(df, columns):\n",
    "    \"\"\"\n",
    "    Plots histograms for the specified columns in the DataFrame.\n",
    "\n",
    "    Parameters:\n",
    "    df (pl.DataFrame): The DataFrame containing the data.\n",
    "    columns (list): A list of column names (strings) for which histograms should be plotted.\n",
    "    \"\"\"\n",
    "    num_columns = len(columns)\n",
    "    fig, axs = plt.subplots(1, num_columns, figsize=(5*num_columns, 5))\n",
    "    \n",
    "    if num_columns == 1:\n",
    "        axs = [axs]  # Ensure axs is iterable if there's only one column\n",
    "\n",
    "    for i, column in enumerate(columns):\n",
    "        data = df.select(column).to_series()\n",
    "        axs[i].hist(data, bins=10, color='skyblue', edgecolor='black')\n",
    "        axs[i].set_title(f'Histogram of {column}')\n",
    "        axs[i].set_xlabel(column)\n",
    "        axs[i].set_ylabel('Frequency')\n",
    "\n",
    "    plt.tight_layout()\n",
    "    plt.show()"
   ]
  },
  {
   "cell_type": "code",
   "execution_count": 3,
   "metadata": {},
   "outputs": [
    {
     "name": "stdout",
     "output_type": "stream",
     "text": [
      "shape: (5, 6)\n",
      "┌─────┬────────────┬────────┬──────────────┬───────────────┬──────────────────┐\n",
      "│ id  ┆ account_id ┆ sku_id ┆ invoice_date ┆ order_id      ┆ items_phys_cases │\n",
      "│ --- ┆ ---        ┆ ---    ┆ ---          ┆ ---           ┆ ---              │\n",
      "│ i64 ┆ i64        ┆ i64    ┆ i64          ┆ str           ┆ f64              │\n",
      "╞═════╪════════════╪════════╪══════════════╪═══════════════╪══════════════════╡\n",
      "│ 0   ┆ 430606     ┆ 7038   ┆ 20220729     ┆ 512-3880249-0 ┆ 100.0            │\n",
      "│ 1   ┆ 323267     ┆ 14933  ┆ 20220729     ┆ 512-3882307-0 ┆ 1.0              │\n",
      "│ 2   ┆ 357825     ┆ 21971  ┆ 20220723     ┆ 512-3852880-0 ┆ 8.0              │\n",
      "│ 3   ┆ 444926     ┆ 7038   ┆ 20220805     ┆ 512-3913163-0 ┆ 20.0             │\n",
      "│ 4   ┆ 450771     ┆ 7030   ┆ 20220816     ┆ 512-3957000-0 ┆ 5.0              │\n",
      "└─────┴────────────┴────────┴──────────────┴───────────────┴──────────────────┘\n"
     ]
    }
   ],
   "source": [
    "# Read the csv files of the atributes\n",
    "file_path_atributes = \"../data/raw/atributos.csv\"\n",
    "atributes = read_csv_with_lowercase_columns(file_path_atributes)\n",
    "categorical = [\"poc\",\"bussinesssegment\",\"concentracion\",\"nse\",\"segmentounico\",\"canal\"]\n",
    "numerical = [\"totalvolumen\",\"skudistintospromediosxorden\",\"skudistintostotales\"]\n",
    "# Read the csv files of the transactions\n",
    "file_path_transactions = \"../data/raw/transacciones.csv\"\n",
    "transactions = read_csv_with_lowercase_columns(file_path_transactions)\n",
    "# Display the first rows of the DataFrame of the transactions\n",
    "print(transactions.head())"
   ]
  },
  {
   "cell_type": "code",
   "execution_count": 4,
   "metadata": {},
   "outputs": [
    {
     "data": {
      "text/html": [
       "<div><style>\n",
       ".dataframe > thead > tr,\n",
       ".dataframe > tbody > tr {\n",
       "  text-align: right;\n",
       "  white-space: pre-wrap;\n",
       "}\n",
       "</style>\n",
       "<small>shape: (5, 10)</small><table border=\"1\" class=\"dataframe\"><thead><tr><th>id</th><th>poc</th><th>bussinesssegment</th><th>totalvolumen</th><th>skudistintospromediosxorden</th><th>skudistintostotales</th><th>concentracion</th><th>nse</th><th>segmentounico</th><th>canal</th></tr><tr><td>i64</td><td>i64</td><td>str</td><td>f64</td><td>f64</td><td>i64</td><td>str</td><td>str</td><td>str</td><td>str</td></tr></thead><tbody><tr><td>10</td><td>175519</td><td>&quot;HighUsage&quot;</td><td>5.18752</td><td>4.1</td><td>16</td><td>&quot;Medio&quot;</td><td>&quot;Bajo&quot;</td><td>&quot;4.Activos&quot;</td><td>&quot;Kioscos/Maxikioscos&quot;</td></tr><tr><td>13</td><td>28533</td><td>&quot;HighUsage&quot;</td><td>4.76866</td><td>3.9211</td><td>34</td><td>&quot;Alto&quot;</td><td>&quot;Medio&quot;</td><td>&quot;4.Activos&quot;</td><td>&quot;Tradicional&quot;</td></tr><tr><td>19</td><td>32182</td><td>&quot;PowerUsage&quot;</td><td>5.9793</td><td>6.75</td><td>34</td><td>&quot;Alto&quot;</td><td>&quot;Medio&quot;</td><td>&quot;4.Activos&quot;</td><td>&quot;Tradicional&quot;</td></tr><tr><td>20</td><td>327976</td><td>&quot;MinimalUsage&quot;</td><td>6.02852</td><td>3.5833</td><td>14</td><td>&quot;Alto&quot;</td><td>&quot;Medio&quot;</td><td>&quot;4.Activos&quot;</td><td>&quot;COMIDA&quot;</td></tr><tr><td>24</td><td>354640</td><td>&quot;PowerUsage&quot;</td><td>7.525</td><td>3.2</td><td>18</td><td>&quot;Bajo&quot;</td><td>&quot;S/D&quot;</td><td>&quot;4.Activos&quot;</td><td>&quot;Tradicional&quot;</td></tr></tbody></table></div>"
      ],
      "text/plain": [
       "shape: (5, 10)\n",
       "┌─────┬────────┬──────────────┬──────────────┬───┬─────────────┬───────┬─────────────┬─────────────┐\n",
       "│ id  ┆ poc    ┆ bussinessseg ┆ totalvolumen ┆ … ┆ concentraci ┆ nse   ┆ segmentouni ┆ canal       │\n",
       "│ --- ┆ ---    ┆ ment         ┆ ---          ┆   ┆ on          ┆ ---   ┆ co          ┆ ---         │\n",
       "│ i64 ┆ i64    ┆ ---          ┆ f64          ┆   ┆ ---         ┆ str   ┆ ---         ┆ str         │\n",
       "│     ┆        ┆ str          ┆              ┆   ┆ str         ┆       ┆ str         ┆             │\n",
       "╞═════╪════════╪══════════════╪══════════════╪═══╪═════════════╪═══════╪═════════════╪═════════════╡\n",
       "│ 10  ┆ 175519 ┆ HighUsage    ┆ 5.18752      ┆ … ┆ Medio       ┆ Bajo  ┆ 4.Activos   ┆ Kioscos/Max │\n",
       "│     ┆        ┆              ┆              ┆   ┆             ┆       ┆             ┆ ikioscos    │\n",
       "│ 13  ┆ 28533  ┆ HighUsage    ┆ 4.76866      ┆ … ┆ Alto        ┆ Medio ┆ 4.Activos   ┆ Tradicional │\n",
       "│ 19  ┆ 32182  ┆ PowerUsage   ┆ 5.9793       ┆ … ┆ Alto        ┆ Medio ┆ 4.Activos   ┆ Tradicional │\n",
       "│ 20  ┆ 327976 ┆ MinimalUsage ┆ 6.02852      ┆ … ┆ Alto        ┆ Medio ┆ 4.Activos   ┆ COMIDA      │\n",
       "│ 24  ┆ 354640 ┆ PowerUsage   ┆ 7.525        ┆ … ┆ Bajo        ┆ S/D   ┆ 4.Activos   ┆ Tradicional │\n",
       "└─────┴────────┴──────────────┴──────────────┴───┴─────────────┴───────┴─────────────┴─────────────┘"
      ]
     },
     "execution_count": 4,
     "metadata": {},
     "output_type": "execute_result"
    }
   ],
   "source": [
    "# Display the first rows of the DataFrame of the atribues\n",
    "atributes.head()"
   ]
  },
  {
   "cell_type": "code",
   "execution_count": 5,
   "metadata": {},
   "outputs": [
    {
     "data": {
      "text/html": [
       "<div><style>\n",
       ".dataframe > thead > tr,\n",
       ".dataframe > tbody > tr {\n",
       "  text-align: right;\n",
       "  white-space: pre-wrap;\n",
       "}\n",
       "</style>\n",
       "<small>shape: (9, 4)</small><table border=\"1\" class=\"dataframe\"><thead><tr><th>statistic</th><th>totalvolumen</th><th>skudistintospromediosxorden</th><th>skudistintostotales</th></tr><tr><td>str</td><td>f64</td><td>f64</td><td>f64</td></tr></thead><tbody><tr><td>&quot;count&quot;</td><td>4400.0</td><td>4400.0</td><td>4400.0</td></tr><tr><td>&quot;null_count&quot;</td><td>0.0</td><td>0.0</td><td>0.0</td></tr><tr><td>&quot;mean&quot;</td><td>22.272537</td><td>5.911031</td><td>27.832727</td></tr><tr><td>&quot;std&quot;</td><td>106.642437</td><td>3.227491</td><td>21.640289</td></tr><tr><td>&quot;min&quot;</td><td>0.02124</td><td>0.7027</td><td>1.0</td></tr><tr><td>&quot;25%&quot;</td><td>2.12124</td><td>3.6667</td><td>12.0</td></tr><tr><td>&quot;50%&quot;</td><td>5.6011</td><td>5.1429</td><td>22.0</td></tr><tr><td>&quot;75%&quot;</td><td>13.95536</td><td>7.3542</td><td>38.0</td></tr><tr><td>&quot;max&quot;</td><td>4274.44416</td><td>33.0</td><td>157.0</td></tr></tbody></table></div>"
      ],
      "text/plain": [
       "shape: (9, 4)\n",
       "┌────────────┬──────────────┬─────────────────────────────┬─────────────────────┐\n",
       "│ statistic  ┆ totalvolumen ┆ skudistintospromediosxorden ┆ skudistintostotales │\n",
       "│ ---        ┆ ---          ┆ ---                         ┆ ---                 │\n",
       "│ str        ┆ f64          ┆ f64                         ┆ f64                 │\n",
       "╞════════════╪══════════════╪═════════════════════════════╪═════════════════════╡\n",
       "│ count      ┆ 4400.0       ┆ 4400.0                      ┆ 4400.0              │\n",
       "│ null_count ┆ 0.0          ┆ 0.0                         ┆ 0.0                 │\n",
       "│ mean       ┆ 22.272537    ┆ 5.911031                    ┆ 27.832727           │\n",
       "│ std        ┆ 106.642437   ┆ 3.227491                    ┆ 21.640289           │\n",
       "│ min        ┆ 0.02124      ┆ 0.7027                      ┆ 1.0                 │\n",
       "│ 25%        ┆ 2.12124      ┆ 3.6667                      ┆ 12.0                │\n",
       "│ 50%        ┆ 5.6011       ┆ 5.1429                      ┆ 22.0                │\n",
       "│ 75%        ┆ 13.95536     ┆ 7.3542                      ┆ 38.0                │\n",
       "│ max        ┆ 4274.44416   ┆ 33.0                        ┆ 157.0               │\n",
       "└────────────┴──────────────┴─────────────────────────────┴─────────────────────┘"
      ]
     },
     "execution_count": 5,
     "metadata": {},
     "output_type": "execute_result"
    }
   ],
   "source": [
    "# measures of central tendency for numerical data\n",
    "atributes[numerical].describe()"
   ]
  },
  {
   "cell_type": "code",
   "execution_count": 6,
   "metadata": {},
   "outputs": [
    {
     "data": {
      "text/plain": [
       "{'totalvolumen': 4323,\n",
       " 'skudistintospromediosxorden': 1573,\n",
       " 'skudistintostotales': 124}"
      ]
     },
     "execution_count": 6,
     "metadata": {},
     "output_type": "execute_result"
    }
   ],
   "source": [
    "results = count_unique_values(atributes, numerical)\n",
    "results"
   ]
  },
  {
   "cell_type": "code",
   "execution_count": 7,
   "metadata": {},
   "outputs": [
    {
     "data": {
      "text/plain": [
       "{'poc': 4400,\n",
       " 'bussinesssegment': 4,\n",
       " 'concentracion': 4,\n",
       " 'nse': 4,\n",
       " 'segmentounico': 6,\n",
       " 'canal': 12}"
      ]
     },
     "execution_count": 7,
     "metadata": {},
     "output_type": "execute_result"
    }
   ],
   "source": [
    "results = count_unique_values(atributes, categorical)\n",
    "results"
   ]
  },
  {
   "cell_type": "code",
   "execution_count": 8,
   "metadata": {},
   "outputs": [
    {
     "data": {
      "image/png": "[encoded data removed]",
      "text/plain": [
       "<Figure size 1500x500 with 3 Axes>"
      ]
     },
     "metadata": {},
     "output_type": "display_data"
    }
   ],
   "source": [
    "plot_histograms(atributes, numerical)"
   ]
  },
  {
   "cell_type": "code",
   "execution_count": 61,
   "metadata": {},
   "outputs": [
    {
     "data": {
      "text/html": [
       "<div><style>\n",
       ".dataframe > thead > tr,\n",
       ".dataframe > tbody > tr {\n",
       "  text-align: right;\n",
       "  white-space: pre-wrap;\n",
       "}\n",
       "</style>\n",
       "<small>shape: (4, 4)</small><table border=\"1\" class=\"dataframe\"><thead><tr><th>bussinesssegment</th><th>poc_distinct_count</th><th>total_first_column</th><th>poc_percentage</th></tr><tr><td>str</td><td>u32</td><td>i32</td><td>f64</td></tr></thead><tbody><tr><td>&quot;PowerUsage&quot;</td><td>1213</td><td>4400</td><td>27.568182</td></tr><tr><td>&quot;HighUsage&quot;</td><td>1213</td><td>4400</td><td>27.568182</td></tr><tr><td>&quot;MediumUsage&quot;</td><td>1050</td><td>4400</td><td>23.863636</td></tr><tr><td>&quot;MinimalUsage&quot;</td><td>924</td><td>4400</td><td>21.0</td></tr></tbody></table></div>"
      ],
      "text/plain": [
       "shape: (4, 4)\n",
       "┌──────────────────┬────────────────────┬────────────────────┬────────────────┐\n",
       "│ bussinesssegment ┆ poc_distinct_count ┆ total_first_column ┆ poc_percentage │\n",
       "│ ---              ┆ ---                ┆ ---                ┆ ---            │\n",
       "│ str              ┆ u32                ┆ i32                ┆ f64            │\n",
       "╞══════════════════╪════════════════════╪════════════════════╪════════════════╡\n",
       "│ PowerUsage       ┆ 1213               ┆ 4400               ┆ 27.568182      │\n",
       "│ HighUsage        ┆ 1213               ┆ 4400               ┆ 27.568182      │\n",
       "│ MediumUsage      ┆ 1050               ┆ 4400               ┆ 23.863636      │\n",
       "│ MinimalUsage     ┆ 924                ┆ 4400               ┆ 21.0           │\n",
       "└──────────────────┴────────────────────┴────────────────────┴────────────────┘"
      ]
     },
     "execution_count": 61,
     "metadata": {},
     "output_type": "execute_result"
    }
   ],
   "source": [
    "# Contar la cantidad de valores distintos en 'poc' agrupado por 'bussinesssegment'\n",
    "result = count_distinct_grouped_by(atributes, y_column=\"poc\", x_columns=[\"bussinesssegment\"],z_columns=[\"poc_percentage\"])\n",
    "result\n"
   ]
  },
  {
   "cell_type": "code",
   "execution_count": 58,
   "metadata": {},
   "outputs": [
    {
     "data": {
      "text/html": [
       "<div><style>\n",
       ".dataframe > thead > tr,\n",
       ".dataframe > tbody > tr {\n",
       "  text-align: right;\n",
       "  white-space: pre-wrap;\n",
       "}\n",
       "</style>\n",
       "<small>shape: (4, 4)</small><table border=\"1\" class=\"dataframe\"><thead><tr><th>nse</th><th>poc_distinct_count</th><th>total_first_column</th><th>poc_percentage</th></tr><tr><td>str</td><td>u32</td><td>i32</td><td>f64</td></tr></thead><tbody><tr><td>&quot;Medio&quot;</td><td>2430</td><td>4400</td><td>55.227273</td></tr><tr><td>&quot;S/D&quot;</td><td>1023</td><td>4400</td><td>23.25</td></tr><tr><td>&quot;Bajo&quot;</td><td>879</td><td>4400</td><td>19.977273</td></tr><tr><td>&quot;Alto&quot;</td><td>68</td><td>4400</td><td>1.545455</td></tr></tbody></table></div>"
      ],
      "text/plain": [
       "shape: (4, 4)\n",
       "┌───────┬────────────────────┬────────────────────┬────────────────┐\n",
       "│ nse   ┆ poc_distinct_count ┆ total_first_column ┆ poc_percentage │\n",
       "│ ---   ┆ ---                ┆ ---                ┆ ---            │\n",
       "│ str   ┆ u32                ┆ i32                ┆ f64            │\n",
       "╞═══════╪════════════════════╪════════════════════╪════════════════╡\n",
       "│ Medio ┆ 2430               ┆ 4400               ┆ 55.227273      │\n",
       "│ S/D   ┆ 1023               ┆ 4400               ┆ 23.25          │\n",
       "│ Bajo  ┆ 879                ┆ 4400               ┆ 19.977273      │\n",
       "│ Alto  ┆ 68                 ┆ 4400               ┆ 1.545455       │\n",
       "└───────┴────────────────────┴────────────────────┴────────────────┘"
      ]
     },
     "execution_count": 58,
     "metadata": {},
     "output_type": "execute_result"
    }
   ],
   "source": [
    "# Contar la cantidad de valores distintos en 'poc' agrupado por 'bussinesssegment'\n",
    "result = count_distinct_grouped_by(atributes, y_column=\"poc\", x_columns=[\"nse\"],z_columns=[\"poc_percentage\"])\n",
    "result.head(100)"
   ]
  },
  {
   "cell_type": "code",
   "execution_count": 57,
   "metadata": {},
   "outputs": [
    {
     "data": {
      "text/html": [
       "<div><style>\n",
       ".dataframe > thead > tr,\n",
       ".dataframe > tbody > tr {\n",
       "  text-align: right;\n",
       "  white-space: pre-wrap;\n",
       "}\n",
       "</style>\n",
       "<small>shape: (6, 4)</small><table border=\"1\" class=\"dataframe\"><thead><tr><th>segmentounico</th><th>poc_distinct_count</th><th>total_first_column</th><th>poc_percentage</th></tr><tr><td>str</td><td>u32</td><td>i32</td><td>f64</td></tr></thead><tbody><tr><td>&quot;4.Activos&quot;</td><td>1894</td><td>4400</td><td>43.045455</td></tr><tr><td>&quot;1.Inactivos&quot;</td><td>884</td><td>4400</td><td>20.090909</td></tr><tr><td>&quot;2.Masivos&quot;</td><td>790</td><td>4400</td><td>17.954545</td></tr><tr><td>&quot;5.Select&quot;</td><td>631</td><td>4400</td><td>14.340909</td></tr><tr><td>&quot;3.Potenciales&quot;</td><td>126</td><td>4400</td><td>2.863636</td></tr><tr><td>null</td><td>75</td><td>4400</td><td>1.704545</td></tr></tbody></table></div>"
      ],
      "text/plain": [
       "shape: (6, 4)\n",
       "┌───────────────┬────────────────────┬────────────────────┬────────────────┐\n",
       "│ segmentounico ┆ poc_distinct_count ┆ total_first_column ┆ poc_percentage │\n",
       "│ ---           ┆ ---                ┆ ---                ┆ ---            │\n",
       "│ str           ┆ u32                ┆ i32                ┆ f64            │\n",
       "╞═══════════════╪════════════════════╪════════════════════╪════════════════╡\n",
       "│ 4.Activos     ┆ 1894               ┆ 4400               ┆ 43.045455      │\n",
       "│ 1.Inactivos   ┆ 884                ┆ 4400               ┆ 20.090909      │\n",
       "│ 2.Masivos     ┆ 790                ┆ 4400               ┆ 17.954545      │\n",
       "│ 5.Select      ┆ 631                ┆ 4400               ┆ 14.340909      │\n",
       "│ 3.Potenciales ┆ 126                ┆ 4400               ┆ 2.863636       │\n",
       "│ null          ┆ 75                 ┆ 4400               ┆ 1.704545       │\n",
       "└───────────────┴────────────────────┴────────────────────┴────────────────┘"
      ]
     },
     "execution_count": 57,
     "metadata": {},
     "output_type": "execute_result"
    }
   ],
   "source": [
    "# Contar la cantidad de valores distintos en 'poc' agrupado por 'bussinesssegment'\n",
    "result = count_distinct_grouped_by(atributes, y_column=\"poc\", x_columns=[\"segmentounico\"],z_columns=[\"poc_percentage\"])\n",
    "result"
   ]
  },
  {
   "cell_type": "code",
   "execution_count": 56,
   "metadata": {},
   "outputs": [
    {
     "data": {
      "text/html": [
       "<div><style>\n",
       ".dataframe > thead > tr,\n",
       ".dataframe > tbody > tr {\n",
       "  text-align: right;\n",
       "  white-space: pre-wrap;\n",
       "}\n",
       "</style>\n",
       "<small>shape: (12, 4)</small><table border=\"1\" class=\"dataframe\"><thead><tr><th>canal</th><th>poc_distinct_count</th><th>total_first_column</th><th>poc_percentage</th></tr><tr><td>str</td><td>u32</td><td>i32</td><td>f64</td></tr></thead><tbody><tr><td>&quot;Tradicional&quot;</td><td>2657</td><td>4400</td><td>60.386364</td></tr><tr><td>&quot;Kioscos/Maxikioscos&quot;</td><td>820</td><td>4400</td><td>18.636364</td></tr><tr><td>&quot;COMIDA&quot;</td><td>412</td><td>4400</td><td>9.363636</td></tr><tr><td>&quot;Autoservicio&quot;</td><td>186</td><td>4400</td><td>4.227273</td></tr><tr><td>&quot;BEBIDA&quot;</td><td>100</td><td>4400</td><td>2.272727</td></tr><tr><td>&quot;ENTRETENIMIENTO&quot;</td><td>79</td><td>4400</td><td>1.795455</td></tr><tr><td>&quot;Mayorista&quot;</td><td>52</td><td>4400</td><td>1.181818</td></tr><tr><td>&quot;Instituciones&quot;</td><td>43</td><td>4400</td><td>0.977273</td></tr><tr><td>&quot;KA Minoristas&quot;</td><td>18</td><td>4400</td><td>0.409091</td></tr><tr><td>&quot;OTROS REF&quot;</td><td>16</td><td>4400</td><td>0.363636</td></tr><tr><td>null</td><td>14</td><td>4400</td><td>0.318182</td></tr><tr><td>&quot;Bar/Restaurant&quot;</td><td>3</td><td>4400</td><td>0.068182</td></tr></tbody></table></div>"
      ],
      "text/plain": [
       "shape: (12, 4)\n",
       "┌─────────────────────┬────────────────────┬────────────────────┬────────────────┐\n",
       "│ canal               ┆ poc_distinct_count ┆ total_first_column ┆ poc_percentage │\n",
       "│ ---                 ┆ ---                ┆ ---                ┆ ---            │\n",
       "│ str                 ┆ u32                ┆ i32                ┆ f64            │\n",
       "╞═════════════════════╪════════════════════╪════════════════════╪════════════════╡\n",
       "│ Tradicional         ┆ 2657               ┆ 4400               ┆ 60.386364      │\n",
       "│ Kioscos/Maxikioscos ┆ 820                ┆ 4400               ┆ 18.636364      │\n",
       "│ COMIDA              ┆ 412                ┆ 4400               ┆ 9.363636       │\n",
       "│ Autoservicio        ┆ 186                ┆ 4400               ┆ 4.227273       │\n",
       "│ BEBIDA              ┆ 100                ┆ 4400               ┆ 2.272727       │\n",
       "│ ENTRETENIMIENTO     ┆ 79                 ┆ 4400               ┆ 1.795455       │\n",
       "│ Mayorista           ┆ 52                 ┆ 4400               ┆ 1.181818       │\n",
       "│ Instituciones       ┆ 43                 ┆ 4400               ┆ 0.977273       │\n",
       "│ KA Minoristas       ┆ 18                 ┆ 4400               ┆ 0.409091       │\n",
       "│ OTROS REF           ┆ 16                 ┆ 4400               ┆ 0.363636       │\n",
       "│ null                ┆ 14                 ┆ 4400               ┆ 0.318182       │\n",
       "│ Bar/Restaurant      ┆ 3                  ┆ 4400               ┆ 0.068182       │\n",
       "└─────────────────────┴────────────────────┴────────────────────┴────────────────┘"
      ]
     },
     "execution_count": 56,
     "metadata": {},
     "output_type": "execute_result"
    }
   ],
   "source": [
    "# Contar la cantidad de valores distintos en 'poc' agrupado por 'bussinesssegment'\n",
    "result = count_distinct_grouped_by(atributes, y_column=\"poc\", x_columns=[\"canal\"],z_columns=[\"poc_percentage\"])\n",
    "result"
   ]
  },
  {
   "cell_type": "code",
   "execution_count": 63,
   "metadata": {},
   "outputs": [
    {
     "data": {
      "text/html": [
       "<div><style>\n",
       ".dataframe > thead > tr,\n",
       ".dataframe > tbody > tr {\n",
       "  text-align: right;\n",
       "  white-space: pre-wrap;\n",
       "}\n",
       "</style>\n",
       "<small>shape: (16, 5)</small><table border=\"1\" class=\"dataframe\"><thead><tr><th>bussinesssegment</th><th>nse</th><th>poc_distinct_count</th><th>total_first_column</th><th>poc_percentage</th></tr><tr><td>str</td><td>str</td><td>u32</td><td>u32</td><td>f64</td></tr></thead><tbody><tr><td>&quot;PowerUsage&quot;</td><td>&quot;S/D&quot;</td><td>229</td><td>1213</td><td>18.878813</td></tr><tr><td>&quot;PowerUsage&quot;</td><td>&quot;Medio&quot;</td><td>702</td><td>1213</td><td>57.873042</td></tr><tr><td>&quot;PowerUsage&quot;</td><td>&quot;Bajo&quot;</td><td>270</td><td>1213</td><td>22.258862</td></tr><tr><td>&quot;PowerUsage&quot;</td><td>&quot;Alto&quot;</td><td>12</td><td>1213</td><td>0.989283</td></tr><tr><td>&quot;MinimalUsage&quot;</td><td>&quot;S/D&quot;</td><td>275</td><td>924</td><td>29.761905</td></tr><tr><td>&quot;MinimalUsage&quot;</td><td>&quot;Medio&quot;</td><td>487</td><td>924</td><td>52.705628</td></tr><tr><td>&quot;MinimalUsage&quot;</td><td>&quot;Bajo&quot;</td><td>147</td><td>924</td><td>15.909091</td></tr><tr><td>&quot;MinimalUsage&quot;</td><td>&quot;Alto&quot;</td><td>15</td><td>924</td><td>1.623377</td></tr><tr><td>&quot;MediumUsage&quot;</td><td>&quot;S/D&quot;</td><td>264</td><td>1050</td><td>25.142857</td></tr><tr><td>&quot;MediumUsage&quot;</td><td>&quot;Medio&quot;</td><td>586</td><td>1050</td><td>55.809524</td></tr><tr><td>&quot;MediumUsage&quot;</td><td>&quot;Bajo&quot;</td><td>185</td><td>1050</td><td>17.619048</td></tr><tr><td>&quot;MediumUsage&quot;</td><td>&quot;Alto&quot;</td><td>15</td><td>1050</td><td>1.428571</td></tr><tr><td>&quot;HighUsage&quot;</td><td>&quot;S/D&quot;</td><td>255</td><td>1213</td><td>21.022259</td></tr><tr><td>&quot;HighUsage&quot;</td><td>&quot;Medio&quot;</td><td>655</td><td>1213</td><td>53.998351</td></tr><tr><td>&quot;HighUsage&quot;</td><td>&quot;Bajo&quot;</td><td>277</td><td>1213</td><td>22.835944</td></tr><tr><td>&quot;HighUsage&quot;</td><td>&quot;Alto&quot;</td><td>26</td><td>1213</td><td>2.143446</td></tr></tbody></table></div>"
      ],
      "text/plain": [
       "shape: (16, 5)\n",
       "┌──────────────────┬───────┬────────────────────┬────────────────────┬────────────────┐\n",
       "│ bussinesssegment ┆ nse   ┆ poc_distinct_count ┆ total_first_column ┆ poc_percentage │\n",
       "│ ---              ┆ ---   ┆ ---                ┆ ---                ┆ ---            │\n",
       "│ str              ┆ str   ┆ u32                ┆ u32                ┆ f64            │\n",
       "╞══════════════════╪═══════╪════════════════════╪════════════════════╪════════════════╡\n",
       "│ PowerUsage       ┆ S/D   ┆ 229                ┆ 1213               ┆ 18.878813      │\n",
       "│ PowerUsage       ┆ Medio ┆ 702                ┆ 1213               ┆ 57.873042      │\n",
       "│ PowerUsage       ┆ Bajo  ┆ 270                ┆ 1213               ┆ 22.258862      │\n",
       "│ PowerUsage       ┆ Alto  ┆ 12                 ┆ 1213               ┆ 0.989283       │\n",
       "│ MinimalUsage     ┆ S/D   ┆ 275                ┆ 924                ┆ 29.761905      │\n",
       "│ MinimalUsage     ┆ Medio ┆ 487                ┆ 924                ┆ 52.705628      │\n",
       "│ MinimalUsage     ┆ Bajo  ┆ 147                ┆ 924                ┆ 15.909091      │\n",
       "│ MinimalUsage     ┆ Alto  ┆ 15                 ┆ 924                ┆ 1.623377       │\n",
       "│ MediumUsage      ┆ S/D   ┆ 264                ┆ 1050               ┆ 25.142857      │\n",
       "│ MediumUsage      ┆ Medio ┆ 586                ┆ 1050               ┆ 55.809524      │\n",
       "│ MediumUsage      ┆ Bajo  ┆ 185                ┆ 1050               ┆ 17.619048      │\n",
       "│ MediumUsage      ┆ Alto  ┆ 15                 ┆ 1050               ┆ 1.428571       │\n",
       "│ HighUsage        ┆ S/D   ┆ 255                ┆ 1213               ┆ 21.022259      │\n",
       "│ HighUsage        ┆ Medio ┆ 655                ┆ 1213               ┆ 53.998351      │\n",
       "│ HighUsage        ┆ Bajo  ┆ 277                ┆ 1213               ┆ 22.835944      │\n",
       "│ HighUsage        ┆ Alto  ┆ 26                 ┆ 1213               ┆ 2.143446       │\n",
       "└──────────────────┴───────┴────────────────────┴────────────────────┴────────────────┘"
      ]
     },
     "execution_count": 63,
     "metadata": {},
     "output_type": "execute_result"
    }
   ],
   "source": [
    "# Contar la cantidad de valores distintos en 'poc' agrupado por 'bussinesssegment'\n",
    "result = count_distinct_grouped_by(atributes, y_column=\"poc\", x_columns=[\"bussinesssegment\",\"nse\"],z_columns=[\"bussinesssegment\",\"nse\"])\n",
    "result.head(100)\n"
   ]
  },
  {
   "cell_type": "code",
   "execution_count": null,
   "metadata": {},
   "outputs": [],
   "source": []
  }
 ],
 "metadata": {
  "kernelspec": {
   "display_name": "challenge_abinbev",
   "language": "python",
   "name": "python3"
  },
  "language_info": {
   "codemirror_mode": {
    "name": "ipython",
    "version": 3
   },
   "file_extension": ".py",
   "mimetype": "text/x-python",
   "name": "python",
   "nbconvert_exporter": "python",
   "pygments_lexer": "ipython3",
   "version": "3.12.5"
  }
 },
 "nbformat": 4,
 "nbformat_minor": 2
}
