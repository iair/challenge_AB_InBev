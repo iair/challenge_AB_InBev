{
 "cells": [
  {
   "cell_type": "code",
   "execution_count": 1,
   "metadata": {},
   "outputs": [],
   "source": [
    "import os\n",
    "import polars as pl"
   ]
  },
  {
   "cell_type": "code",
   "execution_count": 2,
   "metadata": {},
   "outputs": [],
   "source": [
    "def read_csv_with_lowercase_columns(file_path: str) -> pl.DataFrame:\n",
    "    \"\"\"\n",
    "    Lee un archivo CSV y convierte todos los nombres de las columnas a minúsculas.\n",
    "\n",
    "    Parameters:\n",
    "    file_path (str): La ruta del archivo CSV.\n",
    "\n",
    "    Returns:\n",
    "    pl.DataFrame: Un DataFrame de polars con nombres de columnas en minúsculas.\n",
    "    \"\"\"\n",
    "    # Leer el archivo CSV\n",
    "    df = pl.read_csv(file_path,new_columns=[\"id\"])\n",
    "    \n",
    "    # Transformar los nombres de las columnas a minúsculas\n",
    "    df = df.rename({col: col.lower() for col in df.columns})\n",
    "    \n",
    "    return df\n",
    "\n",
    "\n",
    "def count_unique_values(df: pl.DataFrame, columns: list) -> dict:\n",
    "    \"\"\"\n",
    "    Cuenta los valores únicos de las columnas especificadas en un DataFrame.\n",
    "\n",
    "    Parameters:\n",
    "    df (pl.DataFrame): El DataFrame de polars.\n",
    "    columns (list): Una lista de nombres de columnas para contar los valores únicos.\n",
    "\n",
    "    Returns:\n",
    "    dict: Un diccionario con los nombres de las columnas y la cantidad de valores únicos.\n",
    "    \"\"\"\n",
    "    unique_counts = {col: df[col].n_unique() for col in columns}\n",
    "    return unique_counts"
   ]
  },
  {
   "cell_type": "code",
   "execution_count": 3,
   "metadata": {},
   "outputs": [
    {
     "name": "stdout",
     "output_type": "stream",
     "text": [
      "shape: (5, 6)\n",
      "┌─────┬────────────┬────────┬──────────────┬───────────────┬──────────────────┐\n",
      "│ id  ┆ account_id ┆ sku_id ┆ invoice_date ┆ order_id      ┆ items_phys_cases │\n",
      "│ --- ┆ ---        ┆ ---    ┆ ---          ┆ ---           ┆ ---              │\n",
      "│ i64 ┆ i64        ┆ i64    ┆ i64          ┆ str           ┆ f64              │\n",
      "╞═════╪════════════╪════════╪══════════════╪═══════════════╪══════════════════╡\n",
      "│ 0   ┆ 430606     ┆ 7038   ┆ 20220729     ┆ 512-3880249-0 ┆ 100.0            │\n",
      "│ 1   ┆ 323267     ┆ 14933  ┆ 20220729     ┆ 512-3882307-0 ┆ 1.0              │\n",
      "│ 2   ┆ 357825     ┆ 21971  ┆ 20220723     ┆ 512-3852880-0 ┆ 8.0              │\n",
      "│ 3   ┆ 444926     ┆ 7038   ┆ 20220805     ┆ 512-3913163-0 ┆ 20.0             │\n",
      "│ 4   ┆ 450771     ┆ 7030   ┆ 20220816     ┆ 512-3957000-0 ┆ 5.0              │\n",
      "└─────┴────────────┴────────┴──────────────┴───────────────┴──────────────────┘\n"
     ]
    }
   ],
   "source": [
    "# Read the csv files of the atributes\n",
    "file_path_atributes = \"../data/raw/atributos.csv\"\n",
    "atributes = read_csv_with_lowercase_columns(file_path_atributes)\n",
    "categorical = [\"poc\",\"bussinesssegment\",\"concentracion\",\"nse\",\"segmentounico\",\"canal\"]\n",
    "numerical = [\"totalvolumen\",\"skudistintospromediosxorden\",\"skudistintostotales\"]\n",
    "# Read the csv files of the transactions\n",
    "file_path_transactions = \"../data/raw/transacciones.csv\"\n",
    "transactions = read_csv_with_lowercase_columns(file_path_transactions)\n",
    "# Display the first rows of the DataFrame of the transactions\n",
    "print(transactions.head())"
   ]
  },
  {
   "cell_type": "code",
   "execution_count": 4,
   "metadata": {},
   "outputs": [
    {
     "data": {
      "text/html": [
       "<div><style>\n",
       ".dataframe > thead > tr,\n",
       ".dataframe > tbody > tr {\n",
       "  text-align: right;\n",
       "  white-space: pre-wrap;\n",
       "}\n",
       "</style>\n",
       "<small>shape: (5, 10)</small><table border=\"1\" class=\"dataframe\"><thead><tr><th>id</th><th>poc</th><th>bussinesssegment</th><th>totalvolumen</th><th>skudistintospromediosxorden</th><th>skudistintostotales</th><th>concentracion</th><th>nse</th><th>segmentounico</th><th>canal</th></tr><tr><td>i64</td><td>i64</td><td>str</td><td>f64</td><td>f64</td><td>i64</td><td>str</td><td>str</td><td>str</td><td>str</td></tr></thead><tbody><tr><td>10</td><td>175519</td><td>&quot;HighUsage&quot;</td><td>5.18752</td><td>4.1</td><td>16</td><td>&quot;Medio&quot;</td><td>&quot;Bajo&quot;</td><td>&quot;4.Activos&quot;</td><td>&quot;Kioscos/Maxikioscos&quot;</td></tr><tr><td>13</td><td>28533</td><td>&quot;HighUsage&quot;</td><td>4.76866</td><td>3.9211</td><td>34</td><td>&quot;Alto&quot;</td><td>&quot;Medio&quot;</td><td>&quot;4.Activos&quot;</td><td>&quot;Tradicional&quot;</td></tr><tr><td>19</td><td>32182</td><td>&quot;PowerUsage&quot;</td><td>5.9793</td><td>6.75</td><td>34</td><td>&quot;Alto&quot;</td><td>&quot;Medio&quot;</td><td>&quot;4.Activos&quot;</td><td>&quot;Tradicional&quot;</td></tr><tr><td>20</td><td>327976</td><td>&quot;MinimalUsage&quot;</td><td>6.02852</td><td>3.5833</td><td>14</td><td>&quot;Alto&quot;</td><td>&quot;Medio&quot;</td><td>&quot;4.Activos&quot;</td><td>&quot;COMIDA&quot;</td></tr><tr><td>24</td><td>354640</td><td>&quot;PowerUsage&quot;</td><td>7.525</td><td>3.2</td><td>18</td><td>&quot;Bajo&quot;</td><td>&quot;S/D&quot;</td><td>&quot;4.Activos&quot;</td><td>&quot;Tradicional&quot;</td></tr></tbody></table></div>"
      ],
      "text/plain": [
       "shape: (5, 10)\n",
       "┌─────┬────────┬──────────────┬──────────────┬───┬─────────────┬───────┬─────────────┬─────────────┐\n",
       "│ id  ┆ poc    ┆ bussinessseg ┆ totalvolumen ┆ … ┆ concentraci ┆ nse   ┆ segmentouni ┆ canal       │\n",
       "│ --- ┆ ---    ┆ ment         ┆ ---          ┆   ┆ on          ┆ ---   ┆ co          ┆ ---         │\n",
       "│ i64 ┆ i64    ┆ ---          ┆ f64          ┆   ┆ ---         ┆ str   ┆ ---         ┆ str         │\n",
       "│     ┆        ┆ str          ┆              ┆   ┆ str         ┆       ┆ str         ┆             │\n",
       "╞═════╪════════╪══════════════╪══════════════╪═══╪═════════════╪═══════╪═════════════╪═════════════╡\n",
       "│ 10  ┆ 175519 ┆ HighUsage    ┆ 5.18752      ┆ … ┆ Medio       ┆ Bajo  ┆ 4.Activos   ┆ Kioscos/Max │\n",
       "│     ┆        ┆              ┆              ┆   ┆             ┆       ┆             ┆ ikioscos    │\n",
       "│ 13  ┆ 28533  ┆ HighUsage    ┆ 4.76866      ┆ … ┆ Alto        ┆ Medio ┆ 4.Activos   ┆ Tradicional │\n",
       "│ 19  ┆ 32182  ┆ PowerUsage   ┆ 5.9793       ┆ … ┆ Alto        ┆ Medio ┆ 4.Activos   ┆ Tradicional │\n",
       "│ 20  ┆ 327976 ┆ MinimalUsage ┆ 6.02852      ┆ … ┆ Alto        ┆ Medio ┆ 4.Activos   ┆ COMIDA      │\n",
       "│ 24  ┆ 354640 ┆ PowerUsage   ┆ 7.525        ┆ … ┆ Bajo        ┆ S/D   ┆ 4.Activos   ┆ Tradicional │\n",
       "└─────┴────────┴──────────────┴──────────────┴───┴─────────────┴───────┴─────────────┴─────────────┘"
      ]
     },
     "execution_count": 4,
     "metadata": {},
     "output_type": "execute_result"
    }
   ],
   "source": [
    "# Display the first rows of the DataFrame of the atribues\n",
    "atributes.head()"
   ]
  },
  {
   "cell_type": "code",
   "execution_count": 5,
   "metadata": {},
   "outputs": [
    {
     "data": {
      "text/html": [
       "<div><style>\n",
       ".dataframe > thead > tr,\n",
       ".dataframe > tbody > tr {\n",
       "  text-align: right;\n",
       "  white-space: pre-wrap;\n",
       "}\n",
       "</style>\n",
       "<small>shape: (9, 4)</small><table border=\"1\" class=\"dataframe\"><thead><tr><th>statistic</th><th>totalvolumen</th><th>skudistintospromediosxorden</th><th>skudistintostotales</th></tr><tr><td>str</td><td>f64</td><td>f64</td><td>f64</td></tr></thead><tbody><tr><td>&quot;count&quot;</td><td>4400.0</td><td>4400.0</td><td>4400.0</td></tr><tr><td>&quot;null_count&quot;</td><td>0.0</td><td>0.0</td><td>0.0</td></tr><tr><td>&quot;mean&quot;</td><td>22.272537</td><td>5.911031</td><td>27.832727</td></tr><tr><td>&quot;std&quot;</td><td>106.642437</td><td>3.227491</td><td>21.640289</td></tr><tr><td>&quot;min&quot;</td><td>0.02124</td><td>0.7027</td><td>1.0</td></tr><tr><td>&quot;25%&quot;</td><td>2.12124</td><td>3.6667</td><td>12.0</td></tr><tr><td>&quot;50%&quot;</td><td>5.6011</td><td>5.1429</td><td>22.0</td></tr><tr><td>&quot;75%&quot;</td><td>13.95536</td><td>7.3542</td><td>38.0</td></tr><tr><td>&quot;max&quot;</td><td>4274.44416</td><td>33.0</td><td>157.0</td></tr></tbody></table></div>"
      ],
      "text/plain": [
       "shape: (9, 4)\n",
       "┌────────────┬──────────────┬─────────────────────────────┬─────────────────────┐\n",
       "│ statistic  ┆ totalvolumen ┆ skudistintospromediosxorden ┆ skudistintostotales │\n",
       "│ ---        ┆ ---          ┆ ---                         ┆ ---                 │\n",
       "│ str        ┆ f64          ┆ f64                         ┆ f64                 │\n",
       "╞════════════╪══════════════╪═════════════════════════════╪═════════════════════╡\n",
       "│ count      ┆ 4400.0       ┆ 4400.0                      ┆ 4400.0              │\n",
       "│ null_count ┆ 0.0          ┆ 0.0                         ┆ 0.0                 │\n",
       "│ mean       ┆ 22.272537    ┆ 5.911031                    ┆ 27.832727           │\n",
       "│ std        ┆ 106.642437   ┆ 3.227491                    ┆ 21.640289           │\n",
       "│ min        ┆ 0.02124      ┆ 0.7027                      ┆ 1.0                 │\n",
       "│ 25%        ┆ 2.12124      ┆ 3.6667                      ┆ 12.0                │\n",
       "│ 50%        ┆ 5.6011       ┆ 5.1429                      ┆ 22.0                │\n",
       "│ 75%        ┆ 13.95536     ┆ 7.3542                      ┆ 38.0                │\n",
       "│ max        ┆ 4274.44416   ┆ 33.0                        ┆ 157.0               │\n",
       "└────────────┴──────────────┴─────────────────────────────┴─────────────────────┘"
      ]
     },
     "execution_count": 5,
     "metadata": {},
     "output_type": "execute_result"
    }
   ],
   "source": [
    "# measures of central tendency for numerical data\n",
    "atributes[numerical].describe()"
   ]
  },
  {
   "cell_type": "code",
   "execution_count": 6,
   "metadata": {},
   "outputs": [
    {
     "data": {
      "text/plain": [
       "{'totalvolumen': 4323,\n",
       " 'skudistintospromediosxorden': 1573,\n",
       " 'skudistintostotales': 124}"
      ]
     },
     "execution_count": 6,
     "metadata": {},
     "output_type": "execute_result"
    }
   ],
   "source": [
    "results = count_unique_values(atributes, numerical)\n",
    "results"
   ]
  },
  {
   "cell_type": "code",
   "execution_count": 7,
   "metadata": {},
   "outputs": [
    {
     "data": {
      "text/plain": [
       "{'poc': 4400,\n",
       " 'bussinesssegment': 4,\n",
       " 'concentracion': 4,\n",
       " 'nse': 4,\n",
       " 'segmentounico': 6,\n",
       " 'canal': 12}"
      ]
     },
     "execution_count": 7,
     "metadata": {},
     "output_type": "execute_result"
    }
   ],
   "source": [
    "results = count_unique_values(atributes, categorical)\n",
    "results"
   ]
  }
 ],
 "metadata": {
  "kernelspec": {
   "display_name": "challenge_abinbev",
   "language": "python",
   "name": "python3"
  },
  "language_info": {
   "codemirror_mode": {
    "name": "ipython",
    "version": 3
   },
   "file_extension": ".py",
   "mimetype": "text/x-python",
   "name": "python",
   "nbconvert_exporter": "python",
   "pygments_lexer": "ipython3",
   "version": "3.12.5"
  }
 },
 "nbformat": 4,
 "nbformat_minor": 2
}
