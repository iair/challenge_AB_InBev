{
 "cells": [
  {
   "cell_type": "code",
   "execution_count": 1,
   "metadata": {},
   "outputs": [],
   "source": [
    "from utils import *\n",
    "from functools import reduce\n",
    "import polars as pl\n",
    "from datetime import datetime\n",
    "from collections import defaultdict\n",
    "import numpy as np\n",
    "from sklearn.metrics.pairwise import cosine_similarity\n",
    "from collections import Counter"
   ]
  },
  {
   "cell_type": "code",
   "execution_count": 2,
   "metadata": {},
   "outputs": [
    {
     "name": "stdout",
     "output_type": "stream",
     "text": [
      "shape: (5, 6)\n",
      "┌──────────────┬────────────┬────────────────┬───────────────────┬──────────────┬──────────────────┐\n",
      "│ invoice_date ┆ account_id ┆ order_id       ┆ sku_id            ┆ sku_id_count ┆ items_phys_cases │\n",
      "│ ---          ┆ ---        ┆ ---            ┆ ---               ┆ ---          ┆ ---              │\n",
      "│ date         ┆ str        ┆ str            ┆ list[str]         ┆ u32          ┆ i64              │\n",
      "╞══════════════╪════════════╪════════════════╪═══════════════════╪══════════════╪══════════════════╡\n",
      "│ 2022-05-24   ┆ 398523     ┆ 512-3599611-0  ┆ [\"7026\", \"23902\", ┆ 7            ┆ 18               │\n",
      "│              ┆            ┆                ┆ … \"23287\"]        ┆              ┆                  │\n",
      "│ 2022-05-24   ┆ 185697     ┆ 512-3601992-0  ┆ [\"25119\", \"2201\", ┆ 4            ┆ 10               │\n",
      "│              ┆            ┆                ┆ … \"7038\"]         ┆              ┆                  │\n",
      "│ 2022-05-24   ┆ 417417     ┆ 102-38960009-0 ┆ [\"7651\"]          ┆ 1            ┆ 3                │\n",
      "│ 2022-05-24   ┆ 75296      ┆ 512-3601848-0  ┆ [\"19088\",         ┆ 3            ┆ 5                │\n",
      "│              ┆            ┆                ┆ \"77676\", \"7038\"]  ┆              ┆                  │\n",
      "│ 2022-05-24   ┆ 397146     ┆ 512-3603702-0  ┆ [\"24880\",         ┆ 3            ┆ 10               │\n",
      "│              ┆            ┆                ┆ \"25120\", \"24927\"] ┆              ┆                  │\n",
      "└──────────────┴────────────┴────────────────┴───────────────────┴──────────────┴──────────────────┘\n"
     ]
    }
   ],
   "source": [
    "# Read the csv files of the atributes\n",
    "file_path_atributes = \"../data/processed/atributes.parquet\"\n",
    "atributes = pl.read_parquet(file_path_atributes)\n",
    "# Read the csv files of the transactions\n",
    "file_path_transactions = \"../data/processed/transactions.parquet\"\n",
    "transactions = pl.read_parquet(file_path_transactions)\n",
    "# Read the csv files of the baskets\n",
    "file_path_baskets = \"../data/processed/baskets.parquet\"\n",
    "baskets = pl.read_parquet(file_path_baskets)\n",
    "# Read the csv files of the temporal metrics of the transactions\n",
    "file_path_temporal_metrics = \"../data/processed/temporal_metrics.parquet\"\n",
    "temporal_metrics = pl.read_parquet(file_path_temporal_metrics)\n",
    "# Display the first rows of the DataFrame of the transactions\n",
    "print(baskets.head())"
   ]
  },
  {
   "cell_type": "markdown",
   "metadata": {},
   "source": [
    "## Modelado\n",
    "\n",
    "Se implementarán los algoritmos TIFUKNN y , pues son los dos algoritmos que combinan de forma adecuada la simplicidad con buena performance en los benchmark públicos según la literatura. El proceso es el siguiente:\n",
    "\n",
    "1.- Matriz de artículos y usuarios: creamos una matriz donde las filas representan los artículos y las columnas representan a los usuarios. Los valores de la matriz son las cantidades de artículos comprados por cada usuario.\n",
    "\n",
    "2.- Similitud de coseno: calculamos la similitud de coseno entre artículos para identificar SKU similares.\n",
    "\n",
    "3.- Predicción: el algoritmo TIFUKNN predice la próxima cesta en función de los artículos más similares a los del historial de compras del cliente.\n",
    "\n",
    "4.- Evaluación: calculamos la precisión y la recuperación en K para medir qué tan bien el modelo predice la próxima cesta."
   ]
  },
  {
   "cell_type": "code",
   "execution_count": 3,
   "metadata": {},
   "outputs": [
    {
     "data": {
      "text/html": [
       "<div><style>\n",
       ".dataframe > thead > tr,\n",
       ".dataframe > tbody > tr {\n",
       "  text-align: right;\n",
       "  white-space: pre-wrap;\n",
       "}\n",
       "</style>\n",
       "<small>shape: (5, 6)</small><table border=\"1\" class=\"dataframe\"><thead><tr><th></th><th>account_id</th><th>sku_id</th><th>invoice_date</th><th>order_id</th><th>items_phys_cases</th></tr><tr><td>i64</td><td>str</td><td>str</td><td>date</td><td>str</td><td>i64</td></tr></thead><tbody><tr><td>0</td><td>&quot;430606&quot;</td><td>&quot;7038&quot;</td><td>2022-07-29</td><td>&quot;512-3880249-0&quot;</td><td>100</td></tr><tr><td>1</td><td>&quot;323267&quot;</td><td>&quot;14933&quot;</td><td>2022-07-29</td><td>&quot;512-3882307-0&quot;</td><td>1</td></tr><tr><td>2</td><td>&quot;357825&quot;</td><td>&quot;21971&quot;</td><td>2022-07-23</td><td>&quot;512-3852880-0&quot;</td><td>8</td></tr><tr><td>3</td><td>&quot;444926&quot;</td><td>&quot;7038&quot;</td><td>2022-08-05</td><td>&quot;512-3913163-0&quot;</td><td>20</td></tr><tr><td>4</td><td>&quot;450771&quot;</td><td>&quot;7030&quot;</td><td>2022-08-16</td><td>&quot;512-3957000-0&quot;</td><td>5</td></tr></tbody></table></div>"
      ],
      "text/plain": [
       "shape: (5, 6)\n",
       "┌─────┬────────────┬────────┬──────────────┬───────────────┬──────────────────┐\n",
       "│     ┆ account_id ┆ sku_id ┆ invoice_date ┆ order_id      ┆ items_phys_cases │\n",
       "│ --- ┆ ---        ┆ ---    ┆ ---          ┆ ---           ┆ ---              │\n",
       "│ i64 ┆ str        ┆ str    ┆ date         ┆ str           ┆ i64              │\n",
       "╞═════╪════════════╪════════╪══════════════╪═══════════════╪══════════════════╡\n",
       "│ 0   ┆ 430606     ┆ 7038   ┆ 2022-07-29   ┆ 512-3880249-0 ┆ 100              │\n",
       "│ 1   ┆ 323267     ┆ 14933  ┆ 2022-07-29   ┆ 512-3882307-0 ┆ 1                │\n",
       "│ 2   ┆ 357825     ┆ 21971  ┆ 2022-07-23   ┆ 512-3852880-0 ┆ 8                │\n",
       "│ 3   ┆ 444926     ┆ 7038   ┆ 2022-08-05   ┆ 512-3913163-0 ┆ 20               │\n",
       "│ 4   ┆ 450771     ┆ 7030   ┆ 2022-08-16   ┆ 512-3957000-0 ┆ 5                │\n",
       "└─────┴────────────┴────────┴──────────────┴───────────────┴──────────────────┘"
      ]
     },
     "execution_count": 3,
     "metadata": {},
     "output_type": "execute_result"
    }
   ],
   "source": [
    "pd_transactions = transactions.to_pandas()\n",
    "transactions.head()"
   ]
  },
  {
   "cell_type": "code",
   "execution_count": 4,
   "metadata": {},
   "outputs": [
    {
     "name": "stdout",
     "output_type": "stream",
     "text": [
      "Biweekly Train Baskets:\n",
      "(23536, 4)\n",
      "Training Data:\n",
      "(199015, 7)\n",
      "Evaluation Data:\n",
      "(81813, 7)\n"
     ]
    }
   ],
   "source": [
    "#Define Biweekly Periods\n",
    "pd_transactions['biweekly_period'] = pd_transactions['invoice_date'].dt.isocalendar().week // 2\n",
    "#Aggregate Transactions into Biweekly Baskets\n",
    "biweekly_train_baskets = pd_transactions.groupby(['account_id', 'biweekly_period']).agg({\n",
    "    'sku_id': lambda x: list(x),\n",
    "    'items_phys_cases': 'sum'\n",
    "}).reset_index()\n",
    "#Separate the Data into Training and Evaluation Sets\n",
    "max_period = pd_transactions['biweekly_period'].max()\n",
    "train_data = pd_transactions[pd_transactions['biweekly_period'] < max_period - 1]\n",
    "eval_data = pd_transactions[pd_transactions['biweekly_period'] >= max_period - 1]\n",
    "print(\"Biweekly Train Baskets:\")\n",
    "print(biweekly_train_baskets.shape)\n",
    "print(\"Training Data:\")\n",
    "print(train_data.shape)\n",
    "print(\"Evaluation Data:\")\n",
    "print(eval_data.shape)"
   ]
  },
  {
   "cell_type": "code",
   "execution_count": 5,
   "metadata": {},
   "outputs": [
    {
     "data": {
      "text/html": [
       "<div>\n",
       "<style scoped>\n",
       "    .dataframe tbody tr th:only-of-type {\n",
       "        vertical-align: middle;\n",
       "    }\n",
       "\n",
       "    .dataframe tbody tr th {\n",
       "        vertical-align: top;\n",
       "    }\n",
       "\n",
       "    .dataframe thead th {\n",
       "        text-align: right;\n",
       "    }\n",
       "</style>\n",
       "<table border=\"1\" class=\"dataframe\">\n",
       "  <thead>\n",
       "    <tr style=\"text-align: right;\">\n",
       "      <th></th>\n",
       "      <th>account_id</th>\n",
       "      <th>biweekly_period</th>\n",
       "      <th>sku_id</th>\n",
       "      <th>items_phys_cases</th>\n",
       "    </tr>\n",
       "  </thead>\n",
       "  <tbody>\n",
       "    <tr>\n",
       "      <th>0</th>\n",
       "      <td>100640</td>\n",
       "      <td>12</td>\n",
       "      <td>[25452, 23287, 1418, 1422, 25454, 11522, 25384...</td>\n",
       "      <td>11</td>\n",
       "    </tr>\n",
       "    <tr>\n",
       "      <th>1</th>\n",
       "      <td>100640</td>\n",
       "      <td>13</td>\n",
       "      <td>[19336, 23902, 2218, 19336, 25452, 1483, 24118...</td>\n",
       "      <td>13</td>\n",
       "    </tr>\n",
       "    <tr>\n",
       "      <th>2</th>\n",
       "      <td>100640</td>\n",
       "      <td>14</td>\n",
       "      <td>[24118, 21973]</td>\n",
       "      <td>6</td>\n",
       "    </tr>\n",
       "    <tr>\n",
       "      <th>3</th>\n",
       "      <td>100640</td>\n",
       "      <td>15</td>\n",
       "      <td>[7038, 23902, 24118, 1416, 1418]</td>\n",
       "      <td>5</td>\n",
       "    </tr>\n",
       "    <tr>\n",
       "      <th>4</th>\n",
       "      <td>100640</td>\n",
       "      <td>16</td>\n",
       "      <td>[24118, 21973, 21973, 7038, 25644, 1483, 16527...</td>\n",
       "      <td>10</td>\n",
       "    </tr>\n",
       "  </tbody>\n",
       "</table>\n",
       "</div>"
      ],
      "text/plain": [
       "  account_id  biweekly_period  \\\n",
       "0     100640               12   \n",
       "1     100640               13   \n",
       "2     100640               14   \n",
       "3     100640               15   \n",
       "4     100640               16   \n",
       "\n",
       "                                              sku_id  items_phys_cases  \n",
       "0  [25452, 23287, 1418, 1422, 25454, 11522, 25384...                11  \n",
       "1  [19336, 23902, 2218, 19336, 25452, 1483, 24118...                13  \n",
       "2                                     [24118, 21973]                 6  \n",
       "3                   [7038, 23902, 24118, 1416, 1418]                 5  \n",
       "4  [24118, 21973, 21973, 7038, 25644, 1483, 16527...                10  "
      ]
     },
     "execution_count": 5,
     "metadata": {},
     "output_type": "execute_result"
    }
   ],
   "source": [
    "biweekly_train_baskets.head()"
   ]
  },
  {
   "cell_type": "code",
   "execution_count": 6,
   "metadata": {},
   "outputs": [
    {
     "data": {
      "text/html": [
       "<div>\n",
       "<style scoped>\n",
       "    .dataframe tbody tr th:only-of-type {\n",
       "        vertical-align: middle;\n",
       "    }\n",
       "\n",
       "    .dataframe tbody tr th {\n",
       "        vertical-align: top;\n",
       "    }\n",
       "\n",
       "    .dataframe thead th {\n",
       "        text-align: right;\n",
       "    }\n",
       "</style>\n",
       "<table border=\"1\" class=\"dataframe\">\n",
       "  <thead>\n",
       "    <tr style=\"text-align: right;\">\n",
       "      <th></th>\n",
       "      <th></th>\n",
       "      <th>account_id</th>\n",
       "      <th>sku_id</th>\n",
       "      <th>invoice_date</th>\n",
       "      <th>order_id</th>\n",
       "      <th>items_phys_cases</th>\n",
       "      <th>biweekly_period</th>\n",
       "    </tr>\n",
       "  </thead>\n",
       "  <tbody>\n",
       "    <tr>\n",
       "      <th>0</th>\n",
       "      <td>0</td>\n",
       "      <td>430606</td>\n",
       "      <td>7038</td>\n",
       "      <td>2022-07-29</td>\n",
       "      <td>512-3880249-0</td>\n",
       "      <td>100</td>\n",
       "      <td>15</td>\n",
       "    </tr>\n",
       "    <tr>\n",
       "      <th>1</th>\n",
       "      <td>1</td>\n",
       "      <td>323267</td>\n",
       "      <td>14933</td>\n",
       "      <td>2022-07-29</td>\n",
       "      <td>512-3882307-0</td>\n",
       "      <td>1</td>\n",
       "      <td>15</td>\n",
       "    </tr>\n",
       "    <tr>\n",
       "      <th>2</th>\n",
       "      <td>2</td>\n",
       "      <td>357825</td>\n",
       "      <td>21971</td>\n",
       "      <td>2022-07-23</td>\n",
       "      <td>512-3852880-0</td>\n",
       "      <td>8</td>\n",
       "      <td>14</td>\n",
       "    </tr>\n",
       "    <tr>\n",
       "      <th>3</th>\n",
       "      <td>3</td>\n",
       "      <td>444926</td>\n",
       "      <td>7038</td>\n",
       "      <td>2022-08-05</td>\n",
       "      <td>512-3913163-0</td>\n",
       "      <td>20</td>\n",
       "      <td>15</td>\n",
       "    </tr>\n",
       "    <tr>\n",
       "      <th>5</th>\n",
       "      <td>5</td>\n",
       "      <td>174250</td>\n",
       "      <td>14191</td>\n",
       "      <td>2022-07-01</td>\n",
       "      <td>512-3757476-0</td>\n",
       "      <td>70</td>\n",
       "      <td>13</td>\n",
       "    </tr>\n",
       "  </tbody>\n",
       "</table>\n",
       "</div>"
      ],
      "text/plain": [
       "     account_id sku_id invoice_date       order_id  items_phys_cases  \\\n",
       "0  0     430606   7038   2022-07-29  512-3880249-0               100   \n",
       "1  1     323267  14933   2022-07-29  512-3882307-0                 1   \n",
       "2  2     357825  21971   2022-07-23  512-3852880-0                 8   \n",
       "3  3     444926   7038   2022-08-05  512-3913163-0                20   \n",
       "5  5     174250  14191   2022-07-01  512-3757476-0                70   \n",
       "\n",
       "   biweekly_period  \n",
       "0               15  \n",
       "1               15  \n",
       "2               14  \n",
       "3               15  \n",
       "5               13  "
      ]
     },
     "execution_count": 6,
     "metadata": {},
     "output_type": "execute_result"
    }
   ],
   "source": [
    "train_data.head()"
   ]
  },
  {
   "cell_type": "code",
   "execution_count": 7,
   "metadata": {},
   "outputs": [],
   "source": [
    "# Build the item-user matrix\n",
    "# each row corresponds to an SKU and each column to a customer. The values in the matrix will be the total items_phys_cases purchased by the customer for that SKU.\n",
    "def build_item_user_matrix(df):\n",
    "    item_user_matrix = defaultdict(lambda: defaultdict(int))\n",
    "\n",
    "    for _, row in df.iterrows():\n",
    "        for sku in row['sku_id']:\n",
    "            item_user_matrix[sku][row['account_id']] += row['items_phys_cases']\n",
    "\n",
    "    return item_user_matrix\n",
    "\n",
    "item_user_matrix = build_item_user_matrix(train_data)"
   ]
  },
  {
   "cell_type": "code",
   "execution_count": 8,
   "metadata": {},
   "outputs": [],
   "source": [
    "#Compute the Cosine Similarity between Items based on the item-user matrix.\n",
    "users = train_data['account_id'].unique()\n",
    "items = list(item_user_matrix.keys())\n",
    "item_user_vectors = np.array([\n",
    "    [item_user_matrix[item].get(user, 0) for user in users]\n",
    "    for item in items\n",
    "])\n",
    "\n",
    "# Compute the cosine similarity between items\n",
    "item_similarity = cosine_similarity(item_user_vectors)\n"
   ]
  },
  {
   "cell_type": "code",
   "execution_count": 32,
   "metadata": {},
   "outputs": [],
   "source": [
    "def predict_next_basket(history, item_similarity, items, k=5):\n",
    "    all_items = [sku for basket in history for sku in basket]\n",
    "    item_freq = Counter(all_items)\n",
    "\n",
    "    recommendations = []\n",
    "    for item, freq in item_freq.items():\n",
    "        if item in items:\n",
    "            similar_items_idx = np.argsort(item_similarity[items.index(item)])[::-1][:k]\n",
    "            recommendations.extend([(items[i], item_similarity[items.index(item), i] * freq) for i in similar_items_idx])\n",
    "\n",
    "    recommendations = sorted(recommendations, key=lambda x: x[1], reverse=True)\n",
    "    return [r[0] for r in recommendations[:k]]\n",
    "\n",
    "predicted_baskets = {}\n",
    "\n",
    "for account_id, history in train_data_grouped['sku_id'].items():\n",
    "    predicted_baskets[account_id] = predict_next_basket(history, item_similarity, items, k=5)"
   ]
  },
  {
   "cell_type": "code",
   "execution_count": 49,
   "metadata": {},
   "outputs": [
    {
     "name": "stdout",
     "output_type": "stream",
     "text": [
      "Average Precision of k = 5: 0.4524\n",
      "Average Recall: 0.5564\n",
      "Average F1 Score: 0.4943\n",
      "Average Precision of k=5 over 2: 0.7160\n"
     ]
    }
   ],
   "source": [
    "def precision_at_k(predicted, actual, k=5):\n",
    "    predicted_set = set(predicted[:k])\n",
    "    actual_set = set(actual)\n",
    "    return len(predicted_set & actual_set) / len(predicted_set)\n",
    "\n",
    "def recall_at_k(predicted, actual, k=5):\n",
    "    predicted_set = set(predicted[:k])\n",
    "    actual_set = set(actual)\n",
    "    return len(predicted_set & actual_set) / len(actual_set)\n",
    "\n",
    "def f1_at_k(precision, recall):\n",
    "    if precision + recall == 0:\n",
    "        return 0\n",
    "    return 2 * (precision * recall) / (precision + recall)\n",
    "\n",
    "def precision_at_k_over_2(predicted, actual, k=5):\n",
    "    predicted_set = set(predicted[:k])\n",
    "    actual_set = set(actual)\n",
    "    result = len(predicted_set & actual_set) / 3\n",
    "    return result\n",
    "\n",
    "# Evaluate the model\n",
    "precisions = []\n",
    "recalls = []\n",
    "f1_scores = []\n",
    "precision_over_2_scores = []  # Renaming the list to avoid conflict\n",
    "\n",
    "# Group the evaluation data by account_id and biweekly_period\n",
    "eval_data_grouped = eval_data.groupby('account_id').agg({'sku_id': lambda x: list(x)})\n",
    "\n",
    "for account_id, actual_basket in eval_data_grouped['sku_id'].items():\n",
    "    if account_id in predicted_baskets:\n",
    "        predicted_basket = predicted_baskets[account_id]\n",
    "        precision = precision_at_k(predicted_basket, actual_basket[0], k=5)\n",
    "        recall = recall_at_k(predicted_basket, actual_basket[0], k=5)\n",
    "        f1 = f1_at_k(precision, recall)\n",
    "        precision_at_k_over_2_score = precision_at_k_over_2(predicted_basket, actual_basket[0], k=5)  # Renaming variable\n",
    "        \n",
    "        precisions.append(precision)\n",
    "        recalls.append(recall)\n",
    "        f1_scores.append(f1)\n",
    "        precision_over_2_scores.append(precision_at_k_over_2_score)  # Updating the list name\n",
    "\n",
    "average_precision = np.mean(precisions)\n",
    "average_recall = np.mean(recalls)\n",
    "average_f1 = np.mean(f1_scores)\n",
    "average_precision_at_k_over_2 = np.mean(precision_over_2_scores)  # Using updated list name\n",
    "\n",
    "print(f\"Average Precision of k = 5: {average_precision:.4f}\")\n",
    "print(f\"Average Recall: {average_recall:.4f}\")\n",
    "print(f\"Average F1 Score: {average_f1:.4f}\")\n",
    "print(f\"Average Precision of k=5 over 2: {average_precision_at_k_over_2:.4f}\")\n"
   ]
  }
 ],
 "metadata": {
  "kernelspec": {
   "display_name": "challenge_abinbev",
   "language": "python",
   "name": "python3"
  },
  "language_info": {
   "codemirror_mode": {
    "name": "ipython",
    "version": 3
   },
   "file_extension": ".py",
   "mimetype": "text/x-python",
   "name": "python",
   "nbconvert_exporter": "python",
   "pygments_lexer": "ipython3",
   "version": "3.12.5"
  }
 },
 "nbformat": 4,
 "nbformat_minor": 2
}
