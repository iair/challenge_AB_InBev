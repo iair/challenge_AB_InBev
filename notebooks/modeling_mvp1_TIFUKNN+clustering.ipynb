{
 "cells": [
  {
   "cell_type": "code",
   "execution_count": 1,
   "metadata": {},
   "outputs": [],
   "source": [
    "from utils import *\n",
    "from functools import reduce\n",
    "import polars as pl\n",
    "import numpy as np\n",
    "import pandas as pd\n",
    "from datetime import datetime\n",
    "from collections import defaultdict\n",
    "from collections import Counter\n",
    "from collections import defaultdict\n",
    "from typing import Dict, Any\n",
    "import gower\n",
    "from scipy.cluster.hierarchy import linkage, dendrogram, fcluster\n",
    "import matplotlib.pyplot as plt"
   ]
  },
  {
   "cell_type": "code",
   "execution_count": 2,
   "metadata": {},
   "outputs": [
    {
     "data": {
      "text/html": [
       "<div>\n",
       "<style scoped>\n",
       "    .dataframe tbody tr th:only-of-type {\n",
       "        vertical-align: middle;\n",
       "    }\n",
       "\n",
       "    .dataframe tbody tr th {\n",
       "        vertical-align: top;\n",
       "    }\n",
       "\n",
       "    .dataframe thead th {\n",
       "        text-align: right;\n",
       "    }\n",
       "</style>\n",
       "<table border=\"1\" class=\"dataframe\">\n",
       "  <thead>\n",
       "    <tr style=\"text-align: right;\">\n",
       "      <th></th>\n",
       "      <th>column_0</th>\n",
       "      <th>poc</th>\n",
       "      <th>bussinesssegment</th>\n",
       "      <th>totalvolumen</th>\n",
       "      <th>skudistintospromediosxorden</th>\n",
       "      <th>skudistintostotales</th>\n",
       "      <th>concentracion</th>\n",
       "      <th>segmentounico</th>\n",
       "      <th>canal</th>\n",
       "    </tr>\n",
       "  </thead>\n",
       "  <tbody>\n",
       "    <tr>\n",
       "      <th>0</th>\n",
       "      <td>10</td>\n",
       "      <td>175519</td>\n",
       "      <td>HighUsage</td>\n",
       "      <td>5.18752</td>\n",
       "      <td>4.1000</td>\n",
       "      <td>16</td>\n",
       "      <td>Medio</td>\n",
       "      <td>4.Activos</td>\n",
       "      <td>Kioscos/Maxikioscos</td>\n",
       "    </tr>\n",
       "    <tr>\n",
       "      <th>1</th>\n",
       "      <td>13</td>\n",
       "      <td>28533</td>\n",
       "      <td>HighUsage</td>\n",
       "      <td>4.76866</td>\n",
       "      <td>3.9211</td>\n",
       "      <td>34</td>\n",
       "      <td>Alto</td>\n",
       "      <td>4.Activos</td>\n",
       "      <td>Tradicional</td>\n",
       "    </tr>\n",
       "    <tr>\n",
       "      <th>2</th>\n",
       "      <td>19</td>\n",
       "      <td>32182</td>\n",
       "      <td>PowerUsage</td>\n",
       "      <td>5.97930</td>\n",
       "      <td>6.7500</td>\n",
       "      <td>34</td>\n",
       "      <td>Alto</td>\n",
       "      <td>4.Activos</td>\n",
       "      <td>Tradicional</td>\n",
       "    </tr>\n",
       "    <tr>\n",
       "      <th>3</th>\n",
       "      <td>20</td>\n",
       "      <td>327976</td>\n",
       "      <td>MinimalUsage</td>\n",
       "      <td>6.02852</td>\n",
       "      <td>3.5833</td>\n",
       "      <td>14</td>\n",
       "      <td>Alto</td>\n",
       "      <td>4.Activos</td>\n",
       "      <td>COMIDA</td>\n",
       "    </tr>\n",
       "    <tr>\n",
       "      <th>4</th>\n",
       "      <td>24</td>\n",
       "      <td>354640</td>\n",
       "      <td>PowerUsage</td>\n",
       "      <td>7.52500</td>\n",
       "      <td>3.2000</td>\n",
       "      <td>18</td>\n",
       "      <td>Bajo</td>\n",
       "      <td>4.Activos</td>\n",
       "      <td>Tradicional</td>\n",
       "    </tr>\n",
       "  </tbody>\n",
       "</table>\n",
       "</div>"
      ],
      "text/plain": [
       "   column_0     poc bussinesssegment  totalvolumen  \\\n",
       "0        10  175519        HighUsage       5.18752   \n",
       "1        13   28533        HighUsage       4.76866   \n",
       "2        19   32182       PowerUsage       5.97930   \n",
       "3        20  327976     MinimalUsage       6.02852   \n",
       "4        24  354640       PowerUsage       7.52500   \n",
       "\n",
       "   skudistintospromediosxorden  skudistintostotales concentracion  \\\n",
       "0                       4.1000                   16         Medio   \n",
       "1                       3.9211                   34          Alto   \n",
       "2                       6.7500                   34          Alto   \n",
       "3                       3.5833                   14          Alto   \n",
       "4                       3.2000                   18          Bajo   \n",
       "\n",
       "  segmentounico                canal  \n",
       "0     4.Activos  Kioscos/Maxikioscos  \n",
       "1     4.Activos          Tradicional  \n",
       "2     4.Activos          Tradicional  \n",
       "3     4.Activos               COMIDA  \n",
       "4     4.Activos          Tradicional  "
      ]
     },
     "execution_count": 2,
     "metadata": {},
     "output_type": "execute_result"
    }
   ],
   "source": [
    "# Read the csv files of the transactions\n",
    "file_path_transactions = \"../data/processed/transactions.parquet\"\n",
    "transactions = pl.read_parquet(file_path_transactions)\n",
    "pd_transactions = transactions.to_pandas()\n",
    "pd_transactions.sort_values(by=['account_id', 'invoice_date'])\n",
    "# Read the csv files of the baskets\n",
    "file_path_baskets = \"../data/processed/baskets.parquet\"\n",
    "baskets = pl.read_parquet(file_path_baskets)\n",
    "# Read the csv files of the temporal metrics of the transactions\n",
    "file_path_temporal_metrics = \"../data/processed/temporal_metrics.parquet\"\n",
    "temporal_metrics = pl.read_parquet(file_path_temporal_metrics)\n",
    "pd_temporal_metrics = temporal_metrics.to_pandas()\n",
    "# Read the csv files of the atributes\n",
    "file_path_atributes = \"../data/processed/atributes.parquet\"\n",
    "atributes = pl.read_parquet(file_path_atributes)\n",
    "pd_atributes = atributes.to_pandas()\n",
    "pd_atributes['poc'] = pd_atributes['poc'].astype(str)\n",
    "pd_atributes.head()"
   ]
  },
  {
   "cell_type": "markdown",
   "metadata": {},
   "source": [
    "## Entrenamiento"
   ]
  },
  {
   "cell_type": "markdown",
   "metadata": {},
   "source": [
    "### Separación de los datos"
   ]
  },
  {
   "cell_type": "code",
   "execution_count": 4,
   "metadata": {},
   "outputs": [
    {
     "name": "stdout",
     "output_type": "stream",
     "text": [
      "Max period\n",
      "17\n",
      "Biweekly Train Baskets:\n",
      "(23536, 4)\n",
      "Training Data:\n",
      "(244171, 7)\n",
      "Evaluation Data:\n",
      "(36657, 7)\n",
      "Percentage of Evaluation Data:\n",
      "15.012839362577866\n"
     ]
    }
   ],
   "source": [
    "pd_transactions['biweekly_period'] = pd_transactions['invoice_date'].dt.isocalendar().week // 2\n",
    "biweekly_train_baskets = pd_transactions.groupby(['account_id', 'biweekly_period']).agg({\n",
    "    'sku_id': lambda x: list(x),\n",
    "    'items_phys_cases': 'sum'\n",
    "}).reset_index()\n",
    "max_period = pd_transactions['biweekly_period'].max()\n",
    "train_data = pd_transactions[pd_transactions['biweekly_period'] < max_period ]\n",
    "eval_data = pd_transactions[pd_transactions['biweekly_period'] == max_period ]\n",
    "print('Max period')\n",
    "print(max_period)\n",
    "print(\"Biweekly Train Baskets:\")\n",
    "print(biweekly_train_baskets.shape)\n",
    "print(\"Training Data:\")\n",
    "print(train_data.shape)\n",
    "print(\"Evaluation Data:\")\n",
    "print(eval_data.shape)\n",
    "print(\"Percentage of Evaluation Data:\")\n",
    "print(100*eval_data.shape[0]/train_data.shape[0])"
   ]
  },
  {
   "cell_type": "markdown",
   "metadata": {},
   "source": [
    "## Aplicar la distancia de Gower y la agrupación jerárquica para segmentar a los usuarios\n",
    "\n",
    "Distancia de Gower: esta métrica de distancia es ideal para conjuntos de datos con tipos mixtos (numéricos, ordinales categóricos y nominales categóricos).\n",
    "\n",
    "Agrupamiento jerárquico: utilizamos la función de enlace con el método \"promedio\" para realizar la agrupación aglomerativa.\n",
    "\n",
    "Dendrograma: el dendrograma ayuda a visualizar el proceso de agrupación y a decidir dónde cortar el árbol para formar los clústeres.\n",
    "\n",
    "Asignación de clústeres: utilizamos fcluster para asignar etiquetas de clústeres en función del dendrograma."
   ]
  },
  {
   "cell_type": "code",
   "execution_count": null,
   "metadata": {},
   "outputs": [],
   "source": [
    "# Compute Gower distance matrix\n",
    "gower_dist = gower.gower_matrix(pd_atributes)"
   ]
  },
  {
   "cell_type": "code",
   "execution_count": null,
   "metadata": {},
   "outputs": [],
   "source": [
    "# Perform hierarchical clustering using the Gower distance matrix\n",
    "Z = linkage(gower_dist, method='average')\n",
    "\n",
    "# Plot the dendrogram to visualize the clusters\n",
    "plt.figure(figsize=(14, 10))\n",
    "dendrogram(Z, labels=pd_atributes['poc'].values)\n",
    "plt.title(\"Hierarchical Clustering Dendrogram\")\n",
    "plt.xlabel(\"POC\")\n",
    "plt.ylabel(\"Distance\")\n",
    "plt.show()"
   ]
  },
  {
   "cell_type": "code",
   "execution_count": null,
   "metadata": {},
   "outputs": [],
   "source": [
    "num_clusters = 7\n",
    "clusters = fcluster(Z, t=num_clusters, criterion='maxclust')\n",
    "pd_atributes['cluster'] = clusters\n",
    "pd_atributes.groupby(by=clusters).count()['poc']"
   ]
  },
  {
   "cell_type": "code",
   "execution_count": null,
   "metadata": {},
   "outputs": [],
   "source": [
    "# Group by the clusters to understand their characteristics\n",
    "numerical = [\"totalvolumen\",\"skudistintospromediosxorden\",\"skudistintostotales\"]\n",
    "pd_atributes.groupby('cluster')[numerical].describe().T"
   ]
  },
  {
   "cell_type": "markdown",
   "metadata": {},
   "source": [
    "## Entrenamiento del modelo utilizando la variable de clusterización que creamos y el algoritmo TIFUKNN.\n",
    "\n",
    "El proceso es el siguiente:\n",
    "\n",
    "* Agregar segmentación al dataset de transacciones: asignar a cada usuario en el conjunto de datos de transacciones a un clúster según los resultados de la segmentación.\n",
    "\n",
    "* Construir una matriz de usuario-artículo por grupo: construimos la matriz de usuario-artículo por separado para cada grupo.\n",
    "\n",
    "* Calcular la similitud de los elementos: calculamos la similitud del coseno entre los elementos dentro de cada grupo.\n",
    "\n",
    "* Predecir la próxima canasta con TIFUKNN: mejoraamos el algoritmo TIFUKNN considerando solo usuarios similares dentro del mismo grupo.\n",
    "\n",
    "* Evaluar el modelo: medimos la efectividad de tus predicciones usando precisión, recuperación y puntaje F1. Además de nuestra de efectividad sobre 3 SKU\n",
    "\n",
    "Este enfoque garantiza que la predicción de la próxima canasta se adapte al comportamiento específico de los usuarios dentro del mismo grupo, lo que genera recomendaciones más personalizadas y precisas. "
   ]
  },
  {
   "cell_type": "code",
   "execution_count": null,
   "metadata": {},
   "outputs": [],
   "source": [
    "pd_transactions_cluster = pd_transactions.merge(pd_atributes[['poc', 'cluster']], how='left', left_on='account_id', right_on='poc')\n",
    "print(pd_transactions_cluster.shape[0])\n",
    "print(100* (pd_transactions_cluster.poc.isnull().sum()/pd_transactions.shape[0]))\n",
    "pd_transactions_cluster.isnull().sum()"
   ]
  },
  {
   "cell_type": "code",
   "execution_count": null,
   "metadata": {},
   "outputs": [],
   "source": [
    "pd_transactions_cluster.dropna(inplace=True)\n",
    "print(pd_transactions_cluster.shape)\n",
    "pd_transactions_cluster.isnull().sum()"
   ]
  },
  {
   "cell_type": "code",
   "execution_count": null,
   "metadata": {},
   "outputs": [],
   "source": [
    "pd_transactions_cluster.to_parquet(\"../data/processed/pd_transactions_cluster.parquet\")"
   ]
  },
  {
   "cell_type": "markdown",
   "metadata": {},
   "source": [
    "## Inference \n",
    "\n",
    "This is the model trained on the all dataset and it's showing you how to use the function to predict the next basket for one account id. As you can see the algorithm takes 6 seconds in calculate the matrix with item-user similarity by cluster and the prediction happens in less than 1 second, so it's possible to use a lambda function in AWS or something similar in Azure or GCP to delivery it in production.\n",
    "\n",
    "We have choosed to leave the number of items (k_item) in five, since it was the best combination of good results in training and a number of items that could be display as recommendation on the app withouth generate the need for scrolling down too much"
   ]
  },
  {
   "cell_type": "code",
   "execution_count": null,
   "metadata": {},
   "outputs": [],
   "source": [
    "cluster_item_user_matrices = build_item_user_matrix_by_cluster(pd_transactions_cluster, \n",
    "                                                               cluster_col='cluster',\n",
    "                                                               sku_col='sku_id',\n",
    "                                                               user_col='account_id',\n",
    "                                                               qty_col='items_phys_cases')\n",
    "cluster_item_similarity = compute_similarity_by_cluster(cluster_item_user_matrices, \n",
    "                                                        pd_transactions_cluster, \n",
    "                                                        cluster_col='cluster', \n",
    "                                                        user_col='account_id')"
   ]
  },
  {
   "cell_type": "code",
   "execution_count": null,
   "metadata": {},
   "outputs": [],
   "source": [
    "k_item = 5\n",
    "predicted_baskets = {}\n",
    "for account_id in pd_transactions_cluster['account_id'].unique():\n",
    "    predicted_baskets[account_id] = predict_next_basket_clustered(account_id, \n",
    "                                                                  cluster_item_similarity=cluster_item_similarity, \n",
    "                                                                  df=pd_transactions_cluster, \n",
    "                                                                  user_col='account_id', \n",
    "                                                                  cluster_col='cluster', \n",
    "                                                                  sku_col='sku_id', \n",
    "                                                                  k=k_item)\n",
    "# Display some of the predictions\n",
    "print(\"Predicted Baskets:\")\n",
    "for account_id, basket in predicted_baskets.items():\n",
    "    print(f\"Account {account_id}: {basket}\")\n",
    "    break"
   ]
  },
  {
   "cell_type": "code",
   "execution_count": null,
   "metadata": {},
   "outputs": [],
   "source": [
    "print(100*len(predicted_baskets.keys())/pd_atributes.shape[0])\n",
    "print(100*len(predicted_baskets.keys())/len(pd_transactions.account_id.unique()))"
   ]
  }
 ],
 "metadata": {
  "kernelspec": {
   "display_name": "challenge_abinbev",
   "language": "python",
   "name": "python3"
  },
  "language_info": {
   "codemirror_mode": {
    "name": "ipython",
    "version": 3
   },
   "file_extension": ".py",
   "mimetype": "text/x-python",
   "name": "python",
   "nbconvert_exporter": "python",
   "pygments_lexer": "ipython3",
   "version": "3.12.5"
  }
 },
 "nbformat": 4,
 "nbformat_minor": 2
}
