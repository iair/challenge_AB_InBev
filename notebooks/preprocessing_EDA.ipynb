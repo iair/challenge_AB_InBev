{
 "cells": [
  {
   "cell_type": "markdown",
   "metadata": {},
   "source": [
    "# AB InBev Beer Challenge"
   ]
  },
  {
   "cell_type": "markdown",
   "metadata": {},
   "source": [
    "## Configuración y funciones a utilizar"
   ]
  },
  {
   "cell_type": "code",
   "execution_count": 1,
   "metadata": {},
   "outputs": [],
   "source": [
    "from utils import *\n",
    "from functools import reduce"
   ]
  },
  {
   "cell_type": "markdown",
   "metadata": {},
   "source": [
    "## Extracción de los datos"
   ]
  },
  {
   "cell_type": "code",
   "execution_count": 2,
   "metadata": {},
   "outputs": [
    {
     "data": {
      "text/html": [
       "<div><style>\n",
       ".dataframe > thead > tr,\n",
       ".dataframe > tbody > tr {\n",
       "  text-align: right;\n",
       "  white-space: pre-wrap;\n",
       "}\n",
       "</style>\n",
       "<small>shape: (5, 6)</small><table border=\"1\" class=\"dataframe\"><thead><tr><th></th><th>account_id</th><th>sku_id</th><th>invoice_date</th><th>order_id</th><th>items_phys_cases</th></tr><tr><td>i64</td><td>i64</td><td>i64</td><td>i64</td><td>str</td><td>f64</td></tr></thead><tbody><tr><td>0</td><td>430606</td><td>7038</td><td>20220729</td><td>&quot;512-3880249-0&quot;</td><td>100.0</td></tr><tr><td>1</td><td>323267</td><td>14933</td><td>20220729</td><td>&quot;512-3882307-0&quot;</td><td>1.0</td></tr><tr><td>2</td><td>357825</td><td>21971</td><td>20220723</td><td>&quot;512-3852880-0&quot;</td><td>8.0</td></tr><tr><td>3</td><td>444926</td><td>7038</td><td>20220805</td><td>&quot;512-3913163-0&quot;</td><td>20.0</td></tr><tr><td>4</td><td>450771</td><td>7030</td><td>20220816</td><td>&quot;512-3957000-0&quot;</td><td>5.0</td></tr></tbody></table></div>"
      ],
      "text/plain": [
       "shape: (5, 6)\n",
       "┌─────┬────────────┬────────┬──────────────┬───────────────┬──────────────────┐\n",
       "│     ┆ account_id ┆ sku_id ┆ invoice_date ┆ order_id      ┆ items_phys_cases │\n",
       "│ --- ┆ ---        ┆ ---    ┆ ---          ┆ ---           ┆ ---              │\n",
       "│ i64 ┆ i64        ┆ i64    ┆ i64          ┆ str           ┆ f64              │\n",
       "╞═════╪════════════╪════════╪══════════════╪═══════════════╪══════════════════╡\n",
       "│ 0   ┆ 430606     ┆ 7038   ┆ 20220729     ┆ 512-3880249-0 ┆ 100.0            │\n",
       "│ 1   ┆ 323267     ┆ 14933  ┆ 20220729     ┆ 512-3882307-0 ┆ 1.0              │\n",
       "│ 2   ┆ 357825     ┆ 21971  ┆ 20220723     ┆ 512-3852880-0 ┆ 8.0              │\n",
       "│ 3   ┆ 444926     ┆ 7038   ┆ 20220805     ┆ 512-3913163-0 ┆ 20.0             │\n",
       "│ 4   ┆ 450771     ┆ 7030   ┆ 20220816     ┆ 512-3957000-0 ┆ 5.0              │\n",
       "└─────┴────────────┴────────┴──────────────┴───────────────┴──────────────────┘"
      ]
     },
     "execution_count": 2,
     "metadata": {},
     "output_type": "execute_result"
    }
   ],
   "source": [
    "# Read the csv files of the atributes\n",
    "file_path_atributes = \"../data/raw/atributos.csv\"\n",
    "atributes = read_csv_with_lowercase_columns(file_path_atributes)\n",
    "categorical = [\"bussinesssegment\",\"concentracion\",\"nse\",\"segmentounico\",\"canal\"]\n",
    "numerical = [\"totalvolumen\",\"skudistintospromediosxorden\",\"skudistintostotales\"]\n",
    "# Read the csv files of the transactions\n",
    "file_path_transactions = \"../data/raw/transacciones.csv\"\n",
    "transactions = read_csv_with_lowercase_columns(file_path_transactions)\n",
    "# Display the first rows of the DataFrame of the transactions\n",
    "transactions.head()"
   ]
  },
  {
   "cell_type": "code",
   "execution_count": 3,
   "metadata": {},
   "outputs": [
    {
     "data": {
      "text/html": [
       "<div><style>\n",
       ".dataframe > thead > tr,\n",
       ".dataframe > tbody > tr {\n",
       "  text-align: right;\n",
       "  white-space: pre-wrap;\n",
       "}\n",
       "</style>\n",
       "<small>shape: (5, 10)</small><table border=\"1\" class=\"dataframe\"><thead><tr><th></th><th>poc</th><th>bussinesssegment</th><th>totalvolumen</th><th>skudistintospromediosxorden</th><th>skudistintostotales</th><th>concentracion</th><th>nse</th><th>segmentounico</th><th>canal</th></tr><tr><td>i64</td><td>i64</td><td>str</td><td>f64</td><td>f64</td><td>i64</td><td>str</td><td>str</td><td>str</td><td>str</td></tr></thead><tbody><tr><td>10</td><td>175519</td><td>&quot;HighUsage&quot;</td><td>5.18752</td><td>4.1</td><td>16</td><td>&quot;Medio&quot;</td><td>&quot;Bajo&quot;</td><td>&quot;4.Activos&quot;</td><td>&quot;Kioscos/Maxikioscos&quot;</td></tr><tr><td>13</td><td>28533</td><td>&quot;HighUsage&quot;</td><td>4.76866</td><td>3.9211</td><td>34</td><td>&quot;Alto&quot;</td><td>&quot;Medio&quot;</td><td>&quot;4.Activos&quot;</td><td>&quot;Tradicional&quot;</td></tr><tr><td>19</td><td>32182</td><td>&quot;PowerUsage&quot;</td><td>5.9793</td><td>6.75</td><td>34</td><td>&quot;Alto&quot;</td><td>&quot;Medio&quot;</td><td>&quot;4.Activos&quot;</td><td>&quot;Tradicional&quot;</td></tr><tr><td>20</td><td>327976</td><td>&quot;MinimalUsage&quot;</td><td>6.02852</td><td>3.5833</td><td>14</td><td>&quot;Alto&quot;</td><td>&quot;Medio&quot;</td><td>&quot;4.Activos&quot;</td><td>&quot;COMIDA&quot;</td></tr><tr><td>24</td><td>354640</td><td>&quot;PowerUsage&quot;</td><td>7.525</td><td>3.2</td><td>18</td><td>&quot;Bajo&quot;</td><td>&quot;S/D&quot;</td><td>&quot;4.Activos&quot;</td><td>&quot;Tradicional&quot;</td></tr></tbody></table></div>"
      ],
      "text/plain": [
       "shape: (5, 10)\n",
       "┌─────┬────────┬──────────────┬──────────────┬───┬─────────────┬───────┬─────────────┬─────────────┐\n",
       "│     ┆ poc    ┆ bussinessseg ┆ totalvolumen ┆ … ┆ concentraci ┆ nse   ┆ segmentouni ┆ canal       │\n",
       "│ --- ┆ ---    ┆ ment         ┆ ---          ┆   ┆ on          ┆ ---   ┆ co          ┆ ---         │\n",
       "│ i64 ┆ i64    ┆ ---          ┆ f64          ┆   ┆ ---         ┆ str   ┆ ---         ┆ str         │\n",
       "│     ┆        ┆ str          ┆              ┆   ┆ str         ┆       ┆ str         ┆             │\n",
       "╞═════╪════════╪══════════════╪══════════════╪═══╪═════════════╪═══════╪═════════════╪═════════════╡\n",
       "│ 10  ┆ 175519 ┆ HighUsage    ┆ 5.18752      ┆ … ┆ Medio       ┆ Bajo  ┆ 4.Activos   ┆ Kioscos/Max │\n",
       "│     ┆        ┆              ┆              ┆   ┆             ┆       ┆             ┆ ikioscos    │\n",
       "│ 13  ┆ 28533  ┆ HighUsage    ┆ 4.76866      ┆ … ┆ Alto        ┆ Medio ┆ 4.Activos   ┆ Tradicional │\n",
       "│ 19  ┆ 32182  ┆ PowerUsage   ┆ 5.9793       ┆ … ┆ Alto        ┆ Medio ┆ 4.Activos   ┆ Tradicional │\n",
       "│ 20  ┆ 327976 ┆ MinimalUsage ┆ 6.02852      ┆ … ┆ Alto        ┆ Medio ┆ 4.Activos   ┆ COMIDA      │\n",
       "│ 24  ┆ 354640 ┆ PowerUsage   ┆ 7.525        ┆ … ┆ Bajo        ┆ S/D   ┆ 4.Activos   ┆ Tradicional │\n",
       "└─────┴────────┴──────────────┴──────────────┴───┴─────────────┴───────┴─────────────┴─────────────┘"
      ]
     },
     "execution_count": 3,
     "metadata": {},
     "output_type": "execute_result"
    }
   ],
   "source": [
    "# Display the first rows of the DataFrame of the atribues\n",
    "atributes.head()"
   ]
  },
  {
   "cell_type": "markdown",
   "metadata": {},
   "source": [
    "## Preprocesamiento necesario para EDA\n",
    "\n",
    "En las los atributos:\n",
    "\n",
    "* Calidad de los datos:\n",
    "    * Revisar valores nulos\n",
    "    * Revisar valores fuera de rango\n",
    "    * Cuantificar outliers\n",
    "\n",
    "En las transacciones:\n",
    "\n",
    "* Calidad de los datos:\n",
    "    *Revisar valores nulos\n",
    "    * Revisar valores fuera de rango\n",
    "    * Cuantificar outliers\n",
    "\n",
    "Transformaciones y/o agregaciones:\n",
    "\n",
    "* Convertir invoice_date a un formato de fecha: Aunque actualmente es un entero,convertiremos la variable invoice_date a un tipo de dato de fecha para realizar análisis temporales.\n",
    "\n",
    "* Crear dataset aparte con agrupación por cliente: Dado que estamos interesados en el comportamiento de compra de los clientes, vamos a agrupar los datos por account_id para analizar patrones de compra individuales.\n",
    "\n",
    "* Crear dataset aparte con agrupación por item: Dado que también estamos interesados en el comportamiento de compra sobre los items, vamos a agrupar los datos por sku_id para analizar patrones de compra que se dan en general para los items.\n"
   ]
  },
  {
   "cell_type": "markdown",
   "metadata": {},
   "source": [
    "### Datos de atributos de los clientes"
   ]
  },
  {
   "cell_type": "markdown",
   "metadata": {},
   "source": [
    "#### Calidad de los datos:\n",
    "* Revisar valores nulos \n",
    "* Revisar valores fuera de rango\n",
    "* Cuantificar outliers"
   ]
  },
  {
   "cell_type": "markdown",
   "metadata": {},
   "source": [
    "##### **Análsis de valores nulos**\n",
    "\n",
    "* Al notar que las distribuciones del dataset de no nulos es distinta, analizamos la relación entre las variables categóricas en cuestion: nse, concentracion, segmento unico y canal donde validamos que no son independientes entre si. Dado esto y que por su definición los efectos del NSE en latinoamerica normalmente están contenidos la cantidad de comercios en la zona debido a la segregación de las ciudades, es que hemos decidido eliminar la columna del NSE para no alterar las distribuciones de las métricas de interés.\n",
    "\n",
    "* Con respecto al resto de los valores nulos, sumados corresponden al 8.8% de los datos y podemos notar que no generan un cambio en la distribución de las métricas de interés cuando eliminamos sus filas. Sin embargo, al analizar quienes son los clientes que hay en los valores nulos, podemos notar que solo un 20% es de bajo poder de compra y que dentro de los que tienen poco uso de la plataforma, hay varios con un potencial bueno de compra para el negocio por lo que se decide no hacer la eliminación de clientes.\n",
    "\n",
    "* Un proxy de la concentración deberían ser las métricas de venta y las otras categorías, por lo que imputamos los valores faltantes de las variables categóricas concentración, segmento único y canal utilizando dichas variables explicativas"
   ]
  },
  {
   "cell_type": "code",
   "execution_count": 4,
   "metadata": {},
   "outputs": [
    {
     "name": "stdout",
     "output_type": "stream",
     "text": [
      "shape: (10, 3)\n",
      "┌─────────────────────────────┬────────────┬─────────────────┐\n",
      "│ column                      ┆ null_count ┆ null_percentage │\n",
      "│ ---                         ┆ ---        ┆ ---             │\n",
      "│ str                         ┆ u32        ┆ f64             │\n",
      "╞═════════════════════════════╪════════════╪═════════════════╡\n",
      "│                             ┆ 0          ┆ 0.0             │\n",
      "│ poc                         ┆ 0          ┆ 0.0             │\n",
      "│ bussinesssegment            ┆ 0          ┆ 0.0             │\n",
      "│ totalvolumen                ┆ 0          ┆ 0.0             │\n",
      "│ skudistintospromediosxorden ┆ 0          ┆ 0.0             │\n",
      "│ skudistintostotales         ┆ 0          ┆ 0.0             │\n",
      "│ concentracion               ┆ 326        ┆ 7.409091        │\n",
      "│ nse                         ┆ 1023       ┆ 23.25           │\n",
      "│ segmentounico               ┆ 75         ┆ 1.704545        │\n",
      "│ canal                       ┆ 14         ┆ 0.318182        │\n",
      "└─────────────────────────────┴────────────┴─────────────────┘\n"
     ]
    },
    {
     "data": {
      "text/html": [
       "<div><style>\n",
       ".dataframe > thead > tr,\n",
       ".dataframe > tbody > tr {\n",
       "  text-align: right;\n",
       "  white-space: pre-wrap;\n",
       "}\n",
       "</style>\n",
       "<small>shape: (9, 4)</small><table border=\"1\" class=\"dataframe\"><thead><tr><th>statistic</th><th>totalvolumen</th><th>skudistintospromediosxorden</th><th>skudistintostotales</th></tr><tr><td>str</td><td>f64</td><td>f64</td><td>f64</td></tr></thead><tbody><tr><td>&quot;count&quot;</td><td>4400.0</td><td>4400.0</td><td>4400.0</td></tr><tr><td>&quot;null_count&quot;</td><td>0.0</td><td>0.0</td><td>0.0</td></tr><tr><td>&quot;mean&quot;</td><td>22.272537</td><td>5.911031</td><td>27.832727</td></tr><tr><td>&quot;std&quot;</td><td>106.642437</td><td>3.227491</td><td>21.640289</td></tr><tr><td>&quot;min&quot;</td><td>0.02124</td><td>0.7027</td><td>1.0</td></tr><tr><td>&quot;25%&quot;</td><td>2.12124</td><td>3.6667</td><td>12.0</td></tr><tr><td>&quot;50%&quot;</td><td>5.6011</td><td>5.1429</td><td>22.0</td></tr><tr><td>&quot;75%&quot;</td><td>13.95536</td><td>7.3542</td><td>38.0</td></tr><tr><td>&quot;max&quot;</td><td>4274.44416</td><td>33.0</td><td>157.0</td></tr></tbody></table></div>"
      ],
      "text/plain": [
       "shape: (9, 4)\n",
       "┌────────────┬──────────────┬─────────────────────────────┬─────────────────────┐\n",
       "│ statistic  ┆ totalvolumen ┆ skudistintospromediosxorden ┆ skudistintostotales │\n",
       "│ ---        ┆ ---          ┆ ---                         ┆ ---                 │\n",
       "│ str        ┆ f64          ┆ f64                         ┆ f64                 │\n",
       "╞════════════╪══════════════╪═════════════════════════════╪═════════════════════╡\n",
       "│ count      ┆ 4400.0       ┆ 4400.0                      ┆ 4400.0              │\n",
       "│ null_count ┆ 0.0          ┆ 0.0                         ┆ 0.0                 │\n",
       "│ mean       ┆ 22.272537    ┆ 5.911031                    ┆ 27.832727           │\n",
       "│ std        ┆ 106.642437   ┆ 3.227491                    ┆ 21.640289           │\n",
       "│ min        ┆ 0.02124      ┆ 0.7027                      ┆ 1.0                 │\n",
       "│ 25%        ┆ 2.12124      ┆ 3.6667                      ┆ 12.0                │\n",
       "│ 50%        ┆ 5.6011       ┆ 5.1429                      ┆ 22.0                │\n",
       "│ 75%        ┆ 13.95536     ┆ 7.3542                      ┆ 38.0                │\n",
       "│ max        ┆ 4274.44416   ┆ 33.0                        ┆ 157.0               │\n",
       "└────────────┴──────────────┴─────────────────────────────┴─────────────────────┘"
      ]
     },
     "execution_count": 4,
     "metadata": {},
     "output_type": "execute_result"
    }
   ],
   "source": [
    "# Reemplazar \"S/D\" por nulos en las columnas \"nse\" y \"concentración\"\n",
    "atributes = replace_sd_with_null(atributes, [\"nse\", \"concentracion\"])\n",
    "# Revisar valores nulos en el DataFrame\n",
    "null_values_df = check_null_values(atributes)\n",
    "# Mostrar el resultado\n",
    "print(null_values_df)\n",
    "atributes[numerical].describe()"
   ]
  },
  {
   "cell_type": "markdown",
   "metadata": {},
   "source": [
    "##### NSE"
   ]
  },
  {
   "cell_type": "code",
   "execution_count": 5,
   "metadata": {},
   "outputs": [
    {
     "name": "stdout",
     "output_type": "stream",
     "text": [
      "shape: (9, 4)\n",
      "┌────────────┬──────────────┬─────────────────────────────┬─────────────────────┐\n",
      "│ statistic  ┆ totalvolumen ┆ skudistintospromediosxorden ┆ skudistintostotales │\n",
      "│ ---        ┆ ---          ┆ ---                         ┆ ---                 │\n",
      "│ str        ┆ f64          ┆ f64                         ┆ f64                 │\n",
      "╞════════════╪══════════════╪═════════════════════════════╪═════════════════════╡\n",
      "│ count      ┆ 1075.0       ┆ 1075.0                      ┆ 1075.0              │\n",
      "│ null_count ┆ 0.0          ┆ 0.0                         ┆ 0.0                 │\n",
      "│ mean       ┆ 26.813149    ┆ 6.182723                    ┆ 25.525581           │\n",
      "│ std        ┆ 114.105641   ┆ 3.501458                    ┆ 19.875404           │\n",
      "│ min        ┆ 0.02508      ┆ 0.75                        ┆ 1.0                 │\n",
      "│ 25%        ┆ 1.82192      ┆ 3.8333                      ┆ 11.0                │\n",
      "│ 50%        ┆ 4.8178       ┆ 5.5                         ┆ 20.0                │\n",
      "│ 75%        ┆ 12.66096     ┆ 7.6563                      ┆ 34.0                │\n",
      "│ max        ┆ 1623.86264   ┆ 33.0                        ┆ 114.0               │\n",
      "└────────────┴──────────────┴─────────────────────────────┴─────────────────────┘\n"
     ]
    },
    {
     "data": {
      "image/png": "[encoded data removed]",
      "text/plain": [
       "<Figure size 1200x600 with 3 Axes>"
      ]
     },
     "metadata": {},
     "output_type": "display_data"
    }
   ],
   "source": [
    "# filtramos los nulos\n",
    "df_with_nulls = filter_rows_with_nulls(atributes)\n",
    "# Mostrar las características de los valores nulos\n",
    "print(df_with_nulls[numerical].describe())\n",
    "plot_boxplots(df_with_nulls,numerical)"
   ]
  },
  {
   "cell_type": "code",
   "execution_count": 6,
   "metadata": {},
   "outputs": [
    {
     "data": {
      "text/html": [
       "<div>\n",
       "<style scoped>\n",
       "    .dataframe tbody tr th:only-of-type {\n",
       "        vertical-align: middle;\n",
       "    }\n",
       "\n",
       "    .dataframe tbody tr th {\n",
       "        vertical-align: top;\n",
       "    }\n",
       "\n",
       "    .dataframe thead th {\n",
       "        text-align: right;\n",
       "    }\n",
       "</style>\n",
       "<table border=\"1\" class=\"dataframe\">\n",
       "  <thead>\n",
       "    <tr style=\"text-align: right;\">\n",
       "      <th></th>\n",
       "      <th>bussinesssegment</th>\n",
       "      <th>concentracion</th>\n",
       "      <th>nse</th>\n",
       "      <th>segmentounico</th>\n",
       "      <th>canal</th>\n",
       "    </tr>\n",
       "  </thead>\n",
       "  <tbody>\n",
       "    <tr>\n",
       "      <th>bussinesssegment</th>\n",
       "      <td>False</td>\n",
       "      <td>True</td>\n",
       "      <td>True</td>\n",
       "      <td>True</td>\n",
       "      <td>True</td>\n",
       "    </tr>\n",
       "    <tr>\n",
       "      <th>concentracion</th>\n",
       "      <td>True</td>\n",
       "      <td>False</td>\n",
       "      <td>True</td>\n",
       "      <td>True</td>\n",
       "      <td>True</td>\n",
       "    </tr>\n",
       "    <tr>\n",
       "      <th>nse</th>\n",
       "      <td>True</td>\n",
       "      <td>True</td>\n",
       "      <td>False</td>\n",
       "      <td>True</td>\n",
       "      <td>True</td>\n",
       "    </tr>\n",
       "    <tr>\n",
       "      <th>segmentounico</th>\n",
       "      <td>True</td>\n",
       "      <td>True</td>\n",
       "      <td>True</td>\n",
       "      <td>False</td>\n",
       "      <td>True</td>\n",
       "    </tr>\n",
       "    <tr>\n",
       "      <th>canal</th>\n",
       "      <td>True</td>\n",
       "      <td>True</td>\n",
       "      <td>True</td>\n",
       "      <td>True</td>\n",
       "      <td>False</td>\n",
       "    </tr>\n",
       "  </tbody>\n",
       "</table>\n",
       "</div>"
      ],
      "text/plain": [
       "                  bussinesssegment  concentracion    nse  segmentounico  canal\n",
       "bussinesssegment             False           True   True           True   True\n",
       "concentracion                 True          False   True           True   True\n",
       "nse                           True           True  False           True   True\n",
       "segmentounico                 True           True   True          False   True\n",
       "canal                         True           True   True           True  False"
      ]
     },
     "execution_count": 6,
     "metadata": {},
     "output_type": "execute_result"
    }
   ],
   "source": [
    "chi2_matrix(chi2_test, atributes, categorical, confidence_level=0.99)"
   ]
  },
  {
   "cell_type": "code",
   "execution_count": 7,
   "metadata": {},
   "outputs": [
    {
     "name": "stdout",
     "output_type": "stream",
     "text": [
      "shape: (9, 3)\n",
      "┌─────────────────────────────┬────────────┬─────────────────┐\n",
      "│ column                      ┆ null_count ┆ null_percentage │\n",
      "│ ---                         ┆ ---        ┆ ---             │\n",
      "│ str                         ┆ u32        ┆ f64             │\n",
      "╞═════════════════════════════╪════════════╪═════════════════╡\n",
      "│                             ┆ 0          ┆ 0.0             │\n",
      "│ poc                         ┆ 0          ┆ 0.0             │\n",
      "│ bussinesssegment            ┆ 0          ┆ 0.0             │\n",
      "│ totalvolumen                ┆ 0          ┆ 0.0             │\n",
      "│ skudistintospromediosxorden ┆ 0          ┆ 0.0             │\n",
      "│ skudistintostotales         ┆ 0          ┆ 0.0             │\n",
      "│ concentracion               ┆ 326        ┆ 7.409091        │\n",
      "│ segmentounico               ┆ 75         ┆ 1.704545        │\n",
      "│ canal                       ┆ 14         ┆ 0.318182        │\n",
      "└─────────────────────────────┴────────────┴─────────────────┘\n"
     ]
    },
    {
     "data": {
      "text/plain": [
       "(4400, 9)"
      ]
     },
     "execution_count": 7,
     "metadata": {},
     "output_type": "execute_result"
    }
   ],
   "source": [
    "categorical = [\"bussinesssegment\",\"concentracion\",\"segmentounico\",\"canal\"]\n",
    "# Eliminar la columna \"nse\" del DataFrame\n",
    "atributes = atributes.drop(\"nse\")\n",
    "print(check_null_values(atributes))\n",
    "atributes.shape"
   ]
  },
  {
   "cell_type": "markdown",
   "metadata": {},
   "source": [
    "##### Imputación de valores nulos\n",
    "\n",
    "* Para las variables concentración, canal y segmento único haremos imputación de datos\n",
    "\n",
    "* Usamo un modelo de regresión logística ordenada para entender la significancia estádistica e impacto de las variables numéricas en la cateogoría target\n",
    "\n",
    "* Luego, usamos las variables numéricas relevantes y las otras variables categóricas para imputar los valores faltantes de concentración, segmento único y canal utilizado, usando el algoritmo de Random Forest. El F1-score en datos de test del modelo que se usa para imputar da 0.53, 0.61 y 0.57, respectivamente. Debido a la baja performance del modelo que usamos para imputar y como mecanimos de validación, a medida que vamos haciendo las predicciones, vamos verificando que las distribuciones por categoría de las variables numéricas no cambien de forma significativa (nos fijamos en los percentiles, no en los promedios). Salvo casos aislados como el canal \"Otros-ref\", en general no hubo cambios de distibución importantes. "
   ]
  },
  {
   "cell_type": "code",
   "execution_count": 8,
   "metadata": {},
   "outputs": [
    {
     "data": {
      "text/html": [
       "<div><style>\n",
       ".dataframe > thead > tr,\n",
       ".dataframe > tbody > tr {\n",
       "  text-align: right;\n",
       "  white-space: pre-wrap;\n",
       "}\n",
       "</style>\n",
       "<small>shape: (18, 5)</small><table border=\"1\" class=\"dataframe\"><thead><tr><th>segmentounico</th><th>bussinesssegment</th><th>poc_distinct_count</th><th>total_first_column</th><th>poc_percentage</th></tr><tr><td>str</td><td>str</td><td>u32</td><td>u32</td><td>f64</td></tr></thead><tbody><tr><td>&quot;5.Select&quot;</td><td>&quot;PowerUsage&quot;</td><td>89</td><td>144</td><td>61.805556</td></tr><tr><td>&quot;5.Select&quot;</td><td>&quot;HighUsage&quot;</td><td>55</td><td>144</td><td>38.194444</td></tr><tr><td>&quot;4.Activos&quot;</td><td>&quot;PowerUsage&quot;</td><td>124</td><td>400</td><td>31.0</td></tr><tr><td>&quot;4.Activos&quot;</td><td>&quot;MinimalUsage&quot;</td><td>46</td><td>400</td><td>11.5</td></tr><tr><td>&quot;4.Activos&quot;</td><td>&quot;MediumUsage&quot;</td><td>111</td><td>400</td><td>27.75</td></tr><tr><td>&quot;4.Activos&quot;</td><td>&quot;HighUsage&quot;</td><td>119</td><td>400</td><td>29.75</td></tr><tr><td>&quot;3.Potenciales&quot;</td><td>&quot;PowerUsage&quot;</td><td>2</td><td>34</td><td>5.882353</td></tr><tr><td>&quot;3.Potenciales&quot;</td><td>&quot;MinimalUsage&quot;</td><td>14</td><td>34</td><td>41.176471</td></tr><tr><td>&quot;3.Potenciales&quot;</td><td>&quot;MediumUsage&quot;</td><td>13</td><td>34</td><td>38.235294</td></tr><tr><td>&quot;3.Potenciales&quot;</td><td>&quot;HighUsage&quot;</td><td>5</td><td>34</td><td>14.705882</td></tr><tr><td>&quot;2.Masivos&quot;</td><td>&quot;PowerUsage&quot;</td><td>8</td><td>204</td><td>3.921569</td></tr><tr><td>&quot;2.Masivos&quot;</td><td>&quot;MinimalUsage&quot;</td><td>100</td><td>204</td><td>49.019608</td></tr><tr><td>&quot;2.Masivos&quot;</td><td>&quot;MediumUsage&quot;</td><td>51</td><td>204</td><td>25.0</td></tr><tr><td>&quot;2.Masivos&quot;</td><td>&quot;HighUsage&quot;</td><td>45</td><td>204</td><td>22.058824</td></tr><tr><td>&quot;1.Inactivos&quot;</td><td>&quot;PowerUsage&quot;</td><td>6</td><td>218</td><td>2.752294</td></tr><tr><td>&quot;1.Inactivos&quot;</td><td>&quot;MinimalUsage&quot;</td><td>108</td><td>218</td><td>49.541284</td></tr><tr><td>&quot;1.Inactivos&quot;</td><td>&quot;MediumUsage&quot;</td><td>78</td><td>218</td><td>35.779817</td></tr><tr><td>&quot;1.Inactivos&quot;</td><td>&quot;HighUsage&quot;</td><td>26</td><td>218</td><td>11.926606</td></tr></tbody></table></div>"
      ],
      "text/plain": [
       "shape: (18, 5)\n",
       "┌───────────────┬──────────────────┬────────────────────┬────────────────────┬────────────────┐\n",
       "│ segmentounico ┆ bussinesssegment ┆ poc_distinct_count ┆ total_first_column ┆ poc_percentage │\n",
       "│ ---           ┆ ---              ┆ ---                ┆ ---                ┆ ---            │\n",
       "│ str           ┆ str              ┆ u32                ┆ u32                ┆ f64            │\n",
       "╞═══════════════╪══════════════════╪════════════════════╪════════════════════╪════════════════╡\n",
       "│ 5.Select      ┆ PowerUsage       ┆ 89                 ┆ 144                ┆ 61.805556      │\n",
       "│ 5.Select      ┆ HighUsage        ┆ 55                 ┆ 144                ┆ 38.194444      │\n",
       "│ 4.Activos     ┆ PowerUsage       ┆ 124                ┆ 400                ┆ 31.0           │\n",
       "│ 4.Activos     ┆ MinimalUsage     ┆ 46                 ┆ 400                ┆ 11.5           │\n",
       "│ 4.Activos     ┆ MediumUsage      ┆ 111                ┆ 400                ┆ 27.75          │\n",
       "│ 4.Activos     ┆ HighUsage        ┆ 119                ┆ 400                ┆ 29.75          │\n",
       "│ 3.Potenciales ┆ PowerUsage       ┆ 2                  ┆ 34                 ┆ 5.882353       │\n",
       "│ 3.Potenciales ┆ MinimalUsage     ┆ 14                 ┆ 34                 ┆ 41.176471      │\n",
       "│ 3.Potenciales ┆ MediumUsage      ┆ 13                 ┆ 34                 ┆ 38.235294      │\n",
       "│ 3.Potenciales ┆ HighUsage        ┆ 5                  ┆ 34                 ┆ 14.705882      │\n",
       "│ 2.Masivos     ┆ PowerUsage       ┆ 8                  ┆ 204                ┆ 3.921569       │\n",
       "│ 2.Masivos     ┆ MinimalUsage     ┆ 100                ┆ 204                ┆ 49.019608      │\n",
       "│ 2.Masivos     ┆ MediumUsage      ┆ 51                 ┆ 204                ┆ 25.0           │\n",
       "│ 2.Masivos     ┆ HighUsage        ┆ 45                 ┆ 204                ┆ 22.058824      │\n",
       "│ 1.Inactivos   ┆ PowerUsage       ┆ 6                  ┆ 218                ┆ 2.752294       │\n",
       "│ 1.Inactivos   ┆ MinimalUsage     ┆ 108                ┆ 218                ┆ 49.541284      │\n",
       "│ 1.Inactivos   ┆ MediumUsage      ┆ 78                 ┆ 218                ┆ 35.779817      │\n",
       "│ 1.Inactivos   ┆ HighUsage        ┆ 26                 ┆ 218                ┆ 11.926606      │\n",
       "└───────────────┴──────────────────┴────────────────────┴────────────────────┴────────────────┘"
      ]
     },
     "execution_count": 8,
     "metadata": {},
     "output_type": "execute_result"
    }
   ],
   "source": [
    "count_distinct_grouped_by(df_with_nulls, y_column=\"poc\", x_columns=[\"segmentounico\",\"bussinesssegment\"],z_columns=[\"segmentounico\",\"bussinesssegment\"])"
   ]
  },
  {
   "cell_type": "code",
   "execution_count": 9,
   "metadata": {},
   "outputs": [
    {
     "name": "stdout",
     "output_type": "stream",
     "text": [
      "shape: (9, 4)\n",
      "┌────────────┬──────────────┬─────────────────────────────┬─────────────────────┐\n",
      "│ statistic  ┆ totalvolumen ┆ skudistintospromediosxorden ┆ skudistintostotales │\n",
      "│ ---        ┆ ---          ┆ ---                         ┆ ---                 │\n",
      "│ str        ┆ f64          ┆ f64                         ┆ f64                 │\n",
      "╞════════════╪══════════════╪═════════════════════════════╪═════════════════════╡\n",
      "│ count      ┆ 4011.0       ┆ 4011.0                      ┆ 4011.0              │\n",
      "│ null_count ┆ 0.0          ┆ 0.0                         ┆ 0.0                 │\n",
      "│ mean       ┆ 21.644617    ┆ 5.81108                     ┆ 28.328596           │\n",
      "│ std        ┆ 104.005686   ┆ 3.109883                    ┆ 21.90761            │\n",
      "│ min        ┆ 0.02124      ┆ 0.7027                      ┆ 1.0                 │\n",
      "│ 25%        ┆ 2.20068      ┆ 3.625                       ┆ 12.0                │\n",
      "│ 50%        ┆ 5.7351       ┆ 5.0                         ┆ 22.0                │\n",
      "│ 75%        ┆ 14.2607      ┆ 7.2143                      ┆ 39.0                │\n",
      "│ max        ┆ 4274.44416   ┆ 28.0                        ┆ 157.0               │\n",
      "└────────────┴──────────────┴─────────────────────────────┴─────────────────────┘\n"
     ]
    }
   ],
   "source": [
    "# Filter the original DataFrame to keep only rows without null values\n",
    "df_without_nulls = filter_rows_without_nulls(atributes)\n",
    "print(df_without_nulls[numerical].describe())"
   ]
  },
  {
   "cell_type": "code",
   "execution_count": 10,
   "metadata": {},
   "outputs": [
    {
     "name": "stdout",
     "output_type": "stream",
     "text": [
      "Optimization terminated successfully.\n",
      "         Current function value: 0.781970\n",
      "         Iterations: 18\n",
      "         Function evaluations: 22\n",
      "         Gradient evaluations: 22\n"
     ]
    },
    {
     "data": {
      "text/html": [
       "<table class=\"simpletable\">\n",
       "<caption>OrderedModel Results</caption>\n",
       "<tr>\n",
       "  <th>Dep. Variable:</th>          <td>encoded</td>      <th>  Log-Likelihood:    </th> <td> -3136.5</td>\n",
       "</tr>\n",
       "<tr>\n",
       "  <th>Model:</th>               <td>OrderedModel</td>    <th>  AIC:               </th> <td>   6283.</td>\n",
       "</tr>\n",
       "<tr>\n",
       "  <th>Method:</th>           <td>Maximum Likelihood</td> <th>  BIC:               </th> <td>   6314.</td>\n",
       "</tr>\n",
       "<tr>\n",
       "  <th>Date:</th>              <td>Thu, 15 Aug 2024</td>  <th>                     </th>     <td> </td>   \n",
       "</tr>\n",
       "<tr>\n",
       "  <th>Time:</th>                  <td>09:03:24</td>      <th>                     </th>     <td> </td>   \n",
       "</tr>\n",
       "<tr>\n",
       "  <th>No. Observations:</th>       <td>  4011</td>       <th>                     </th>     <td> </td>   \n",
       "</tr>\n",
       "<tr>\n",
       "  <th>Df Residuals:</th>           <td>  4006</td>       <th>                     </th>     <td> </td>   \n",
       "</tr>\n",
       "<tr>\n",
       "  <th>Df Model:</th>               <td>     3</td>       <th>                     </th>     <td> </td>   \n",
       "</tr>\n",
       "</table>\n",
       "<table class=\"simpletable\">\n",
       "<tr>\n",
       "               <td></td>                  <th>coef</th>     <th>std err</th>      <th>z</th>      <th>P>|z|</th>  <th>[0.025</th>    <th>0.975]</th>  \n",
       "</tr>\n",
       "<tr>\n",
       "  <th>totalvolumen</th>                <td>    0.0006</td> <td>    0.000</td> <td>    1.486</td> <td> 0.137</td> <td>   -0.000</td> <td>    0.001</td>\n",
       "</tr>\n",
       "<tr>\n",
       "  <th>skudistintospromediosxorden</th> <td>   -0.1246</td> <td>    0.014</td> <td>   -8.633</td> <td> 0.000</td> <td>   -0.153</td> <td>   -0.096</td>\n",
       "</tr>\n",
       "<tr>\n",
       "  <th>skudistintostotales</th>         <td>   -0.0023</td> <td>    0.002</td> <td>   -1.156</td> <td> 0.248</td> <td>   -0.006</td> <td>    0.002</td>\n",
       "</tr>\n",
       "<tr>\n",
       "  <th>0/1</th>                         <td>   -0.6794</td> <td>    0.072</td> <td>   -9.472</td> <td> 0.000</td> <td>   -0.820</td> <td>   -0.539</td>\n",
       "</tr>\n",
       "<tr>\n",
       "  <th>1/2</th>                         <td>   -2.1040</td> <td>    0.091</td> <td>  -23.086</td> <td> 0.000</td> <td>   -2.283</td> <td>   -1.925</td>\n",
       "</tr>\n",
       "</table>"
      ],
      "text/latex": [
       "\\begin{center}\n",
       "\\begin{tabular}{lclc}\n",
       "\\toprule\n",
       "\\textbf{Dep. Variable:}              &      encoded       & \\textbf{  Log-Likelihood:    } &   -3136.5   \\\\\n",
       "\\textbf{Model:}                      &    OrderedModel    & \\textbf{  AIC:               } &     6283.   \\\\\n",
       "\\textbf{Method:}                     & Maximum Likelihood & \\textbf{  BIC:               } &     6314.   \\\\\n",
       "\\textbf{Date:}                       &  Thu, 15 Aug 2024  & \\textbf{                     } &             \\\\\n",
       "\\textbf{Time:}                       &      09:03:24      & \\textbf{                     } &             \\\\\n",
       "\\textbf{No. Observations:}           &         4011       & \\textbf{                     } &             \\\\\n",
       "\\textbf{Df Residuals:}               &         4006       & \\textbf{                     } &             \\\\\n",
       "\\textbf{Df Model:}                   &            3       & \\textbf{                     } &             \\\\\n",
       "\\bottomrule\n",
       "\\end{tabular}\n",
       "\\begin{tabular}{lcccccc}\n",
       "                                     & \\textbf{coef} & \\textbf{std err} & \\textbf{z} & \\textbf{P$> |$z$|$} & \\textbf{[0.025} & \\textbf{0.975]}  \\\\\n",
       "\\midrule\n",
       "\\textbf{totalvolumen}                &       0.0006  &        0.000     &     1.486  &         0.137        &       -0.000    &        0.001     \\\\\n",
       "\\textbf{skudistintospromediosxorden} &      -0.1246  &        0.014     &    -8.633  &         0.000        &       -0.153    &       -0.096     \\\\\n",
       "\\textbf{skudistintostotales}         &      -0.0023  &        0.002     &    -1.156  &         0.248        &       -0.006    &        0.002     \\\\\n",
       "\\textbf{0/1}                         &      -0.6794  &        0.072     &    -9.472  &         0.000        &       -0.820    &       -0.539     \\\\\n",
       "\\textbf{1/2}                         &      -2.1040  &        0.091     &   -23.086  &         0.000        &       -2.283    &       -1.925     \\\\\n",
       "\\bottomrule\n",
       "\\end{tabular}\n",
       "%\\caption{OrderedModel Results}\n",
       "\\end{center}"
      ],
      "text/plain": [
       "<class 'statsmodels.iolib.summary.Summary'>\n",
       "\"\"\"\n",
       "                             OrderedModel Results                             \n",
       "==============================================================================\n",
       "Dep. Variable:                encoded   Log-Likelihood:                -3136.5\n",
       "Model:                   OrderedModel   AIC:                             6283.\n",
       "Method:            Maximum Likelihood   BIC:                             6314.\n",
       "Date:                Thu, 15 Aug 2024                                         \n",
       "Time:                        09:03:24                                         \n",
       "No. Observations:                4011                                         \n",
       "Df Residuals:                    4006                                         \n",
       "Df Model:                           3                                         \n",
       "===============================================================================================\n",
       "                                  coef    std err          z      P>|z|      [0.025      0.975]\n",
       "-----------------------------------------------------------------------------------------------\n",
       "totalvolumen                    0.0006      0.000      1.486      0.137      -0.000       0.001\n",
       "skudistintospromediosxorden    -0.1246      0.014     -8.633      0.000      -0.153      -0.096\n",
       "skudistintostotales            -0.0023      0.002     -1.156      0.248      -0.006       0.002\n",
       "0/1                            -0.6794      0.072     -9.472      0.000      -0.820      -0.539\n",
       "1/2                            -2.1040      0.091    -23.086      0.000      -2.283      -1.925\n",
       "===============================================================================================\n",
       "\"\"\""
      ]
     },
     "execution_count": 10,
     "metadata": {},
     "output_type": "execute_result"
    }
   ],
   "source": [
    "# Ejemplo de uso:\n",
    "result = fit_ordered_logistic_regression(df_without_nulls, 'concentracion', numerical)\n",
    "result.summary()"
   ]
  },
  {
   "cell_type": "code",
   "execution_count": 11,
   "metadata": {},
   "outputs": [
    {
     "name": "stdout",
     "output_type": "stream",
     "text": [
      "              precision    recall  f1-score   support\n",
      "\n",
      "        Alto       0.58      0.55      0.57       427\n",
      "        Bajo       0.09      0.03      0.05        29\n",
      "       Medio       0.49      0.55      0.52       359\n",
      "\n",
      "    accuracy                           0.53       815\n",
      "   macro avg       0.39      0.38      0.38       815\n",
      "weighted avg       0.53      0.53      0.53       815\n",
      "\n",
      "Accuracy: 0.5325153374233129\n",
      "Cross-validation mean score: 0.5256156173136185\n"
     ]
    },
    {
     "data": {
      "text/html": [
       "<div><style>\n",
       ".dataframe > thead > tr,\n",
       ".dataframe > tbody > tr {\n",
       "  text-align: right;\n",
       "  white-space: pre-wrap;\n",
       "}\n",
       "</style>\n",
       "<small>shape: (9, 3)</small><table border=\"1\" class=\"dataframe\"><thead><tr><th>column</th><th>null_count</th><th>null_percentage</th></tr><tr><td>str</td><td>u32</td><td>f64</td></tr></thead><tbody><tr><td>&quot;column_0&quot;</td><td>0</td><td>0.0</td></tr><tr><td>&quot;poc&quot;</td><td>0</td><td>0.0</td></tr><tr><td>&quot;bussinesssegment&quot;</td><td>0</td><td>0.0</td></tr><tr><td>&quot;totalvolumen&quot;</td><td>0</td><td>0.0</td></tr><tr><td>&quot;skudistintospromediosxorden&quot;</td><td>0</td><td>0.0</td></tr><tr><td>&quot;skudistintostotales&quot;</td><td>0</td><td>0.0</td></tr><tr><td>&quot;concentracion&quot;</td><td>0</td><td>0.0</td></tr><tr><td>&quot;segmentounico&quot;</td><td>75</td><td>1.704545</td></tr><tr><td>&quot;canal&quot;</td><td>14</td><td>0.318182</td></tr></tbody></table></div>"
      ],
      "text/plain": [
       "shape: (9, 3)\n",
       "┌─────────────────────────────┬────────────┬─────────────────┐\n",
       "│ column                      ┆ null_count ┆ null_percentage │\n",
       "│ ---                         ┆ ---        ┆ ---             │\n",
       "│ str                         ┆ u32        ┆ f64             │\n",
       "╞═════════════════════════════╪════════════╪═════════════════╡\n",
       "│ column_0                    ┆ 0          ┆ 0.0             │\n",
       "│ poc                         ┆ 0          ┆ 0.0             │\n",
       "│ bussinesssegment            ┆ 0          ┆ 0.0             │\n",
       "│ totalvolumen                ┆ 0          ┆ 0.0             │\n",
       "│ skudistintospromediosxorden ┆ 0          ┆ 0.0             │\n",
       "│ skudistintostotales         ┆ 0          ┆ 0.0             │\n",
       "│ concentracion               ┆ 0          ┆ 0.0             │\n",
       "│ segmentounico               ┆ 75         ┆ 1.704545        │\n",
       "│ canal                       ┆ 14         ┆ 0.318182        │\n",
       "└─────────────────────────────┴────────────┴─────────────────┘"
      ]
     },
     "execution_count": 11,
     "metadata": {},
     "output_type": "execute_result"
    }
   ],
   "source": [
    "# Ejemplo de uso:\n",
    "atributes_updated ,cf_report, accuracy, cross_val_mean= fill_missing_values(atributes, 'concentracion', ['skudistintostotales'], ['bussinesssegment', 'segmentounico', 'canal'])\n",
    "# Evaluar el modelo\n",
    "print(cf_report)\n",
    "print(\"Accuracy:\", accuracy)\n",
    "print(\"Cross-validation mean score:\", cross_val_mean)\n",
    "# Mostrar las primeras filas del DataFrame actualizado\n",
    "check_null_values(atributes_updated)"
   ]
  },
  {
   "cell_type": "code",
   "execution_count": 12,
   "metadata": {},
   "outputs": [
    {
     "name": "stdout",
     "output_type": "stream",
     "text": [
      "shape: (3, 4)\n",
      "┌───────────────┬────────────────────┬────────────────────┬────────────────┐\n",
      "│ concentracion ┆ poc_distinct_count ┆ total_first_column ┆ poc_percentage │\n",
      "│ ---           ┆ ---                ┆ ---                ┆ ---            │\n",
      "│ str           ┆ u32                ┆ i32                ┆ f64            │\n",
      "╞═══════════════╪════════════════════╪════════════════════╪════════════════╡\n",
      "│ Alto          ┆ 2319               ┆ 4400               ┆ 52.704545      │\n",
      "│ Medio         ┆ 1954               ┆ 4400               ┆ 44.409091      │\n",
      "│ Bajo          ┆ 127                ┆ 4400               ┆ 2.886364       │\n",
      "└───────────────┴────────────────────┴────────────────────┴────────────────┘\n"
     ]
    },
    {
     "data": {
      "text/html": [
       "<div><style>\n",
       ".dataframe > thead > tr,\n",
       ".dataframe > tbody > tr {\n",
       "  text-align: right;\n",
       "  white-space: pre-wrap;\n",
       "}\n",
       "</style>\n",
       "<small>shape: (3, 4)</small><table border=\"1\" class=\"dataframe\"><thead><tr><th>concentracion</th><th>poc_distinct_count</th><th>total_first_column</th><th>poc_percentage</th></tr><tr><td>str</td><td>u32</td><td>i32</td><td>f64</td></tr></thead><tbody><tr><td>&quot;Alto&quot;</td><td>2089</td><td>4011</td><td>52.081775</td></tr><tr><td>&quot;Medio&quot;</td><td>1805</td><td>4011</td><td>45.001247</td></tr><tr><td>&quot;Bajo&quot;</td><td>117</td><td>4011</td><td>2.916978</td></tr></tbody></table></div>"
      ],
      "text/plain": [
       "shape: (3, 4)\n",
       "┌───────────────┬────────────────────┬────────────────────┬────────────────┐\n",
       "│ concentracion ┆ poc_distinct_count ┆ total_first_column ┆ poc_percentage │\n",
       "│ ---           ┆ ---                ┆ ---                ┆ ---            │\n",
       "│ str           ┆ u32                ┆ i32                ┆ f64            │\n",
       "╞═══════════════╪════════════════════╪════════════════════╪════════════════╡\n",
       "│ Alto          ┆ 2089               ┆ 4011               ┆ 52.081775      │\n",
       "│ Medio         ┆ 1805               ┆ 4011               ┆ 45.001247      │\n",
       "│ Bajo          ┆ 117                ┆ 4011               ┆ 2.916978       │\n",
       "└───────────────┴────────────────────┴────────────────────┴────────────────┘"
      ]
     },
     "execution_count": 12,
     "metadata": {},
     "output_type": "execute_result"
    }
   ],
   "source": [
    "print(count_distinct_grouped_by(atributes_updated, y_column=\"poc\", x_columns=[\"concentracion\"],z_columns=[\"poc_percentage\"]))\n",
    "count_distinct_grouped_by(df_without_nulls, y_column=\"poc\", x_columns=[\"concentracion\"],z_columns=[\"poc_percentage\"])"
   ]
  },
  {
   "cell_type": "code",
   "execution_count": 13,
   "metadata": {},
   "outputs": [
    {
     "data": {
      "text/html": [
       "<div><style>\n",
       ".dataframe > thead > tr,\n",
       ".dataframe > tbody > tr {\n",
       "  text-align: right;\n",
       "  white-space: pre-wrap;\n",
       "}\n",
       "</style>\n",
       "<small>shape: (3, 19)</small><table border=\"1\" class=\"dataframe\"><thead><tr><th>concentracion</th><th>totalvolumen_mean</th><th>skudistintospromediosxorden_mean</th><th>skudistintostotales_mean</th><th>totalvolumen_median</th><th>skudistintospromediosxorden_median</th><th>skudistintostotales_median</th><th>totalvolumen_std_dev</th><th>skudistintospromediosxorden_std_dev</th><th>skudistintostotales_std_dev</th><th>totalvolumen_p25</th><th>totalvolumen_p50</th><th>totalvolumen_p75</th><th>skudistintospromediosxorden_p25</th><th>skudistintospromediosxorden_p50</th><th>skudistintospromediosxorden_p75</th><th>skudistintostotales_p25</th><th>skudistintostotales_p50</th><th>skudistintostotales_p75</th></tr><tr><td>str</td><td>f64</td><td>f64</td><td>f64</td><td>f64</td><td>f64</td><td>f64</td><td>f64</td><td>f64</td><td>f64</td><td>f64</td><td>f64</td><td>f64</td><td>f64</td><td>f64</td><td>f64</td><td>f64</td><td>f64</td><td>f64</td></tr></thead><tbody><tr><td>&quot;Alto&quot;</td><td>18.892961</td><td>6.402027</td><td>31.218765</td><td>5.85912</td><td>5.6818</td><td>25.0</td><td>71.696408</td><td>3.337813</td><td>23.44018</td><td>2.12358</td><td>5.85912</td><td>14.87472</td><td>4.0</td><td>5.6818</td><td>8.0</td><td>13.0</td><td>25.0</td><td>43.0</td></tr><tr><td>&quot;Bajo&quot;</td><td>20.168322</td><td>4.902802</td><td>22.777778</td><td>5.81728</td><td>4.2857</td><td>14.0</td><td>73.472624</td><td>2.382811</td><td>21.367116</td><td>2.158</td><td>5.81728</td><td>13.63538</td><td>3.125</td><td>4.2857</td><td>6.3571</td><td>10.0</td><td>14.0</td><td>31.0</td></tr><tr><td>&quot;Medio&quot;</td><td>24.924913</td><td>5.186029</td><td>25.34349</td><td>5.6224</td><td>4.5556</td><td>20.0</td><td>133.1482</td><td>2.718291</td><td>19.518015</td><td>2.29222</td><td>5.6224</td><td>13.56136</td><td>3.3333</td><td>4.5556</td><td>6.3182</td><td>11.0</td><td>20.0</td><td>34.0</td></tr></tbody></table></div>"
      ],
      "text/plain": [
       "shape: (3, 19)\n",
       "┌───────────┬───────────┬───────────┬───────────┬───┬───────────┬───────────┬───────────┬──────────┐\n",
       "│ concentra ┆ totalvolu ┆ skudistin ┆ skudistin ┆ … ┆ skudistin ┆ skudistin ┆ skudistin ┆ skudisti │\n",
       "│ cion      ┆ men_mean  ┆ tospromed ┆ tostotale ┆   ┆ tospromed ┆ tostotale ┆ tostotale ┆ ntostota │\n",
       "│ ---       ┆ ---       ┆ iosxorden ┆ s_mean    ┆   ┆ iosxorden ┆ s_p25     ┆ s_p50     ┆ les_p75  │\n",
       "│ str       ┆ f64       ┆ _me…      ┆ ---       ┆   ┆ _p7…      ┆ ---       ┆ ---       ┆ ---      │\n",
       "│           ┆           ┆ ---       ┆ f64       ┆   ┆ ---       ┆ f64       ┆ f64       ┆ f64      │\n",
       "│           ┆           ┆ f64       ┆           ┆   ┆ f64       ┆           ┆           ┆          │\n",
       "╞═══════════╪═══════════╪═══════════╪═══════════╪═══╪═══════════╪═══════════╪═══════════╪══════════╡\n",
       "│ Alto      ┆ 18.892961 ┆ 6.402027  ┆ 31.218765 ┆ … ┆ 8.0       ┆ 13.0      ┆ 25.0      ┆ 43.0     │\n",
       "│ Bajo      ┆ 20.168322 ┆ 4.902802  ┆ 22.777778 ┆ … ┆ 6.3571    ┆ 10.0      ┆ 14.0      ┆ 31.0     │\n",
       "│ Medio     ┆ 24.924913 ┆ 5.186029  ┆ 25.34349  ┆ … ┆ 6.3182    ┆ 11.0      ┆ 20.0      ┆ 34.0     │\n",
       "└───────────┴───────────┴───────────┴───────────┴───┴───────────┴───────────┴───────────┴──────────┘"
      ]
     },
     "execution_count": 13,
     "metadata": {},
     "output_type": "execute_result"
    }
   ],
   "source": [
    "group_and_describe_with_percentiles(df_without_nulls, \"concentracion\", numerical).sort('concentracion')"
   ]
  },
  {
   "cell_type": "code",
   "execution_count": 14,
   "metadata": {},
   "outputs": [
    {
     "data": {
      "text/html": [
       "<div><style>\n",
       ".dataframe > thead > tr,\n",
       ".dataframe > tbody > tr {\n",
       "  text-align: right;\n",
       "  white-space: pre-wrap;\n",
       "}\n",
       "</style>\n",
       "<small>shape: (3, 19)</small><table border=\"1\" class=\"dataframe\"><thead><tr><th>concentracion</th><th>totalvolumen_mean</th><th>skudistintospromediosxorden_mean</th><th>skudistintostotales_mean</th><th>totalvolumen_median</th><th>skudistintospromediosxorden_median</th><th>skudistintostotales_median</th><th>totalvolumen_std_dev</th><th>skudistintospromediosxorden_std_dev</th><th>skudistintostotales_std_dev</th><th>totalvolumen_p25</th><th>totalvolumen_p50</th><th>totalvolumen_p75</th><th>skudistintospromediosxorden_p25</th><th>skudistintospromediosxorden_p50</th><th>skudistintospromediosxorden_p75</th><th>skudistintostotales_p25</th><th>skudistintostotales_p50</th><th>skudistintostotales_p75</th></tr><tr><td>str</td><td>f64</td><td>f64</td><td>f64</td><td>f64</td><td>f64</td><td>f64</td><td>f64</td><td>f64</td><td>f64</td><td>f64</td><td>f64</td><td>f64</td><td>f64</td><td>f64</td><td>f64</td><td>f64</td><td>f64</td><td>f64</td></tr></thead><tbody><tr><td>&quot;Alto&quot;</td><td>19.318276</td><td>6.483111</td><td>30.451488</td><td>5.64996</td><td>5.75</td><td>24.0</td><td>74.823073</td><td>3.461682</td><td>23.165108</td><td>2.05066</td><td>5.64996</td><td>14.39806</td><td>4.0</td><td>5.75</td><td>8.125</td><td>13.0</td><td>24.0</td><td>43.0</td></tr><tr><td>&quot;Bajo&quot;</td><td>19.218336</td><td>5.156998</td><td>23.330709</td><td>6.01514</td><td>4.4211</td><td>15.0</td><td>70.596346</td><td>2.633552</td><td>22.222559</td><td>2.32184</td><td>6.01514</td><td>13.63538</td><td>3.1818</td><td>4.4211</td><td>6.65</td><td>10.0</td><td>15.0</td><td>32.0</td></tr><tr><td>&quot;Medio&quot;</td><td>25.977151</td><td>5.281097</td><td>25.0174</td><td>5.53681</td><td>4.61065</td><td>20.0</td><td>136.47339</td><td>2.823124</td><td>19.200367</td><td>2.24466</td><td>5.537</td><td>13.3329</td><td>3.3333</td><td>4.6111</td><td>6.4211</td><td>11.0</td><td>20.0</td><td>33.0</td></tr></tbody></table></div>"
      ],
      "text/plain": [
       "shape: (3, 19)\n",
       "┌───────────┬───────────┬───────────┬───────────┬───┬───────────┬───────────┬───────────┬──────────┐\n",
       "│ concentra ┆ totalvolu ┆ skudistin ┆ skudistin ┆ … ┆ skudistin ┆ skudistin ┆ skudistin ┆ skudisti │\n",
       "│ cion      ┆ men_mean  ┆ tospromed ┆ tostotale ┆   ┆ tospromed ┆ tostotale ┆ tostotale ┆ ntostota │\n",
       "│ ---       ┆ ---       ┆ iosxorden ┆ s_mean    ┆   ┆ iosxorden ┆ s_p25     ┆ s_p50     ┆ les_p75  │\n",
       "│ str       ┆ f64       ┆ _me…      ┆ ---       ┆   ┆ _p7…      ┆ ---       ┆ ---       ┆ ---      │\n",
       "│           ┆           ┆ ---       ┆ f64       ┆   ┆ ---       ┆ f64       ┆ f64       ┆ f64      │\n",
       "│           ┆           ┆ f64       ┆           ┆   ┆ f64       ┆           ┆           ┆          │\n",
       "╞═══════════╪═══════════╪═══════════╪═══════════╪═══╪═══════════╪═══════════╪═══════════╪══════════╡\n",
       "│ Alto      ┆ 19.318276 ┆ 6.483111  ┆ 30.451488 ┆ … ┆ 8.125     ┆ 13.0      ┆ 24.0      ┆ 43.0     │\n",
       "│ Bajo      ┆ 19.218336 ┆ 5.156998  ┆ 23.330709 ┆ … ┆ 6.65      ┆ 10.0      ┆ 15.0      ┆ 32.0     │\n",
       "│ Medio     ┆ 25.977151 ┆ 5.281097  ┆ 25.0174   ┆ … ┆ 6.4211    ┆ 11.0      ┆ 20.0      ┆ 33.0     │\n",
       "└───────────┴───────────┴───────────┴───────────┴───┴───────────┴───────────┴───────────┴──────────┘"
      ]
     },
     "execution_count": 14,
     "metadata": {},
     "output_type": "execute_result"
    }
   ],
   "source": [
    "group_and_describe_with_percentiles(atributes_updated, \"concentracion\", numerical).sort('concentracion')"
   ]
  },
  {
   "cell_type": "code",
   "execution_count": 15,
   "metadata": {},
   "outputs": [
    {
     "name": "stdout",
     "output_type": "stream",
     "text": [
      "Optimization terminated successfully.\n",
      "         Current function value: 1.177408\n",
      "         Iterations: 27\n",
      "         Function evaluations: 32\n",
      "         Gradient evaluations: 32\n"
     ]
    },
    {
     "data": {
      "text/html": [
       "<table class=\"simpletable\">\n",
       "<caption>OrderedModel Results</caption>\n",
       "<tr>\n",
       "  <th>Dep. Variable:</th>          <td>encoded</td>      <th>  Log-Likelihood:    </th> <td> -4722.6</td>\n",
       "</tr>\n",
       "<tr>\n",
       "  <th>Model:</th>               <td>OrderedModel</td>    <th>  AIC:               </th> <td>   9459.</td>\n",
       "</tr>\n",
       "<tr>\n",
       "  <th>Method:</th>           <td>Maximum Likelihood</td> <th>  BIC:               </th> <td>   9503.</td>\n",
       "</tr>\n",
       "<tr>\n",
       "  <th>Date:</th>              <td>Thu, 15 Aug 2024</td>  <th>                     </th>     <td> </td>   \n",
       "</tr>\n",
       "<tr>\n",
       "  <th>Time:</th>                  <td>09:03:26</td>      <th>                     </th>     <td> </td>   \n",
       "</tr>\n",
       "<tr>\n",
       "  <th>No. Observations:</th>       <td>  4011</td>       <th>                     </th>     <td> </td>   \n",
       "</tr>\n",
       "<tr>\n",
       "  <th>Df Residuals:</th>           <td>  4004</td>       <th>                     </th>     <td> </td>   \n",
       "</tr>\n",
       "<tr>\n",
       "  <th>Df Model:</th>               <td>     3</td>       <th>                     </th>     <td> </td>   \n",
       "</tr>\n",
       "</table>\n",
       "<table class=\"simpletable\">\n",
       "<tr>\n",
       "               <td></td>                  <th>coef</th>     <th>std err</th>      <th>z</th>      <th>P>|z|</th>  <th>[0.025</th>    <th>0.975]</th>  \n",
       "</tr>\n",
       "<tr>\n",
       "  <th>totalvolumen</th>                <td>    0.0044</td> <td>    0.001</td> <td>    6.374</td> <td> 0.000</td> <td>    0.003</td> <td>    0.006</td>\n",
       "</tr>\n",
       "<tr>\n",
       "  <th>skudistintospromediosxorden</th> <td>   -0.1253</td> <td>    0.013</td> <td>   -9.892</td> <td> 0.000</td> <td>   -0.150</td> <td>   -0.100</td>\n",
       "</tr>\n",
       "<tr>\n",
       "  <th>skudistintostotales</th>         <td>    0.0690</td> <td>    0.002</td> <td>   29.609</td> <td> 0.000</td> <td>    0.064</td> <td>    0.074</td>\n",
       "</tr>\n",
       "<tr>\n",
       "  <th>0/1</th>                         <td>   -0.5033</td> <td>    0.068</td> <td>   -7.402</td> <td> 0.000</td> <td>   -0.637</td> <td>   -0.370</td>\n",
       "</tr>\n",
       "<tr>\n",
       "  <th>1/2</th>                         <td>    0.0757</td> <td>    0.034</td> <td>    2.199</td> <td> 0.028</td> <td>    0.008</td> <td>    0.143</td>\n",
       "</tr>\n",
       "<tr>\n",
       "  <th>2/3</th>                         <td>   -1.9356</td> <td>    0.094</td> <td>  -20.528</td> <td> 0.000</td> <td>   -2.120</td> <td>   -1.751</td>\n",
       "</tr>\n",
       "<tr>\n",
       "  <th>3/4</th>                         <td>    1.0603</td> <td>    0.023</td> <td>   46.715</td> <td> 0.000</td> <td>    1.016</td> <td>    1.105</td>\n",
       "</tr>\n",
       "</table>"
      ],
      "text/latex": [
       "\\begin{center}\n",
       "\\begin{tabular}{lclc}\n",
       "\\toprule\n",
       "\\textbf{Dep. Variable:}              &      encoded       & \\textbf{  Log-Likelihood:    } &   -4722.6   \\\\\n",
       "\\textbf{Model:}                      &    OrderedModel    & \\textbf{  AIC:               } &     9459.   \\\\\n",
       "\\textbf{Method:}                     & Maximum Likelihood & \\textbf{  BIC:               } &     9503.   \\\\\n",
       "\\textbf{Date:}                       &  Thu, 15 Aug 2024  & \\textbf{                     } &             \\\\\n",
       "\\textbf{Time:}                       &      09:03:26      & \\textbf{                     } &             \\\\\n",
       "\\textbf{No. Observations:}           &         4011       & \\textbf{                     } &             \\\\\n",
       "\\textbf{Df Residuals:}               &         4004       & \\textbf{                     } &             \\\\\n",
       "\\textbf{Df Model:}                   &            3       & \\textbf{                     } &             \\\\\n",
       "\\bottomrule\n",
       "\\end{tabular}\n",
       "\\begin{tabular}{lcccccc}\n",
       "                                     & \\textbf{coef} & \\textbf{std err} & \\textbf{z} & \\textbf{P$> |$z$|$} & \\textbf{[0.025} & \\textbf{0.975]}  \\\\\n",
       "\\midrule\n",
       "\\textbf{totalvolumen}                &       0.0044  &        0.001     &     6.374  &         0.000        &        0.003    &        0.006     \\\\\n",
       "\\textbf{skudistintospromediosxorden} &      -0.1253  &        0.013     &    -9.892  &         0.000        &       -0.150    &       -0.100     \\\\\n",
       "\\textbf{skudistintostotales}         &       0.0690  &        0.002     &    29.609  &         0.000        &        0.064    &        0.074     \\\\\n",
       "\\textbf{0/1}                         &      -0.5033  &        0.068     &    -7.402  &         0.000        &       -0.637    &       -0.370     \\\\\n",
       "\\textbf{1/2}                         &       0.0757  &        0.034     &     2.199  &         0.028        &        0.008    &        0.143     \\\\\n",
       "\\textbf{2/3}                         &      -1.9356  &        0.094     &   -20.528  &         0.000        &       -2.120    &       -1.751     \\\\\n",
       "\\textbf{3/4}                         &       1.0603  &        0.023     &    46.715  &         0.000        &        1.016    &        1.105     \\\\\n",
       "\\bottomrule\n",
       "\\end{tabular}\n",
       "%\\caption{OrderedModel Results}\n",
       "\\end{center}"
      ],
      "text/plain": [
       "<class 'statsmodels.iolib.summary.Summary'>\n",
       "\"\"\"\n",
       "                             OrderedModel Results                             \n",
       "==============================================================================\n",
       "Dep. Variable:                encoded   Log-Likelihood:                -4722.6\n",
       "Model:                   OrderedModel   AIC:                             9459.\n",
       "Method:            Maximum Likelihood   BIC:                             9503.\n",
       "Date:                Thu, 15 Aug 2024                                         \n",
       "Time:                        09:03:26                                         \n",
       "No. Observations:                4011                                         \n",
       "Df Residuals:                    4004                                         \n",
       "Df Model:                           3                                         \n",
       "===============================================================================================\n",
       "                                  coef    std err          z      P>|z|      [0.025      0.975]\n",
       "-----------------------------------------------------------------------------------------------\n",
       "totalvolumen                    0.0044      0.001      6.374      0.000       0.003       0.006\n",
       "skudistintospromediosxorden    -0.1253      0.013     -9.892      0.000      -0.150      -0.100\n",
       "skudistintostotales             0.0690      0.002     29.609      0.000       0.064       0.074\n",
       "0/1                            -0.5033      0.068     -7.402      0.000      -0.637      -0.370\n",
       "1/2                             0.0757      0.034      2.199      0.028       0.008       0.143\n",
       "2/3                            -1.9356      0.094    -20.528      0.000      -2.120      -1.751\n",
       "3/4                             1.0603      0.023     46.715      0.000       1.016       1.105\n",
       "===============================================================================================\n",
       "\"\"\""
      ]
     },
     "execution_count": 15,
     "metadata": {},
     "output_type": "execute_result"
    }
   ],
   "source": [
    "# Ejemplo de uso:\n",
    "result = fit_ordered_logistic_regression(df_without_nulls, 'segmentounico', numerical)\n",
    "result.summary()"
   ]
  },
  {
   "cell_type": "code",
   "execution_count": 16,
   "metadata": {},
   "outputs": [
    {
     "name": "stdout",
     "output_type": "stream",
     "text": [
      "               precision    recall  f1-score   support\n",
      "\n",
      "  1.Inactivos       0.67      0.68      0.68       184\n",
      "    2.Masivos       0.52      0.47      0.49       161\n",
      "3.Potenciales       0.15      0.07      0.10        28\n",
      "    4.Activos       0.61      0.70      0.65       367\n",
      "     5.Select       0.71      0.56      0.62       125\n",
      "\n",
      "     accuracy                           0.61       865\n",
      "    macro avg       0.53      0.50      0.51       865\n",
      " weighted avg       0.61      0.61      0.61       865\n",
      "\n",
      "Accuracy: 0.6127167630057804\n",
      "Cross-validation mean score: 0.6190751445086705\n"
     ]
    },
    {
     "data": {
      "text/html": [
       "<div><style>\n",
       ".dataframe > thead > tr,\n",
       ".dataframe > tbody > tr {\n",
       "  text-align: right;\n",
       "  white-space: pre-wrap;\n",
       "}\n",
       "</style>\n",
       "<small>shape: (9, 3)</small><table border=\"1\" class=\"dataframe\"><thead><tr><th>column</th><th>null_count</th><th>null_percentage</th></tr><tr><td>str</td><td>u32</td><td>f64</td></tr></thead><tbody><tr><td>&quot;column_0&quot;</td><td>0</td><td>0.0</td></tr><tr><td>&quot;poc&quot;</td><td>0</td><td>0.0</td></tr><tr><td>&quot;bussinesssegment&quot;</td><td>0</td><td>0.0</td></tr><tr><td>&quot;totalvolumen&quot;</td><td>0</td><td>0.0</td></tr><tr><td>&quot;skudistintospromediosxorden&quot;</td><td>0</td><td>0.0</td></tr><tr><td>&quot;skudistintostotales&quot;</td><td>0</td><td>0.0</td></tr><tr><td>&quot;concentracion&quot;</td><td>0</td><td>0.0</td></tr><tr><td>&quot;segmentounico&quot;</td><td>0</td><td>0.0</td></tr><tr><td>&quot;canal&quot;</td><td>14</td><td>0.318182</td></tr></tbody></table></div>"
      ],
      "text/plain": [
       "shape: (9, 3)\n",
       "┌─────────────────────────────┬────────────┬─────────────────┐\n",
       "│ column                      ┆ null_count ┆ null_percentage │\n",
       "│ ---                         ┆ ---        ┆ ---             │\n",
       "│ str                         ┆ u32        ┆ f64             │\n",
       "╞═════════════════════════════╪════════════╪═════════════════╡\n",
       "│ column_0                    ┆ 0          ┆ 0.0             │\n",
       "│ poc                         ┆ 0          ┆ 0.0             │\n",
       "│ bussinesssegment            ┆ 0          ┆ 0.0             │\n",
       "│ totalvolumen                ┆ 0          ┆ 0.0             │\n",
       "│ skudistintospromediosxorden ┆ 0          ┆ 0.0             │\n",
       "│ skudistintostotales         ┆ 0          ┆ 0.0             │\n",
       "│ concentracion               ┆ 0          ┆ 0.0             │\n",
       "│ segmentounico               ┆ 0          ┆ 0.0             │\n",
       "│ canal                       ┆ 14         ┆ 0.318182        │\n",
       "└─────────────────────────────┴────────────┴─────────────────┘"
      ]
     },
     "execution_count": 16,
     "metadata": {},
     "output_type": "execute_result"
    }
   ],
   "source": [
    "# Ejemplo de uso:\n",
    "atributes_updated ,cf_report, accuracy, cross_val_mean= fill_missing_values(atributes_updated, 'segmentounico', ['skudistintostotales','skudistintospromediosxorden','totalvolumen'], ['bussinesssegment', 'concentracion', 'canal'])\n",
    "# Evaluar el modelo\n",
    "print(cf_report)\n",
    "print(\"Accuracy:\", accuracy)\n",
    "print(\"Cross-validation mean score:\", cross_val_mean)\n",
    "# Mostrar las primeras filas del DataFrame actualizado\n",
    "check_null_values(atributes_updated)"
   ]
  },
  {
   "cell_type": "code",
   "execution_count": 17,
   "metadata": {},
   "outputs": [
    {
     "name": "stdout",
     "output_type": "stream",
     "text": [
      "shape: (5, 4)\n",
      "┌───────────────┬────────────────────┬────────────────────┬────────────────┐\n",
      "│ segmentounico ┆ poc_distinct_count ┆ total_first_column ┆ poc_percentage │\n",
      "│ ---           ┆ ---                ┆ ---                ┆ ---            │\n",
      "│ str           ┆ u32                ┆ i32                ┆ f64            │\n",
      "╞═══════════════╪════════════════════╪════════════════════╪════════════════╡\n",
      "│ 4.Activos     ┆ 1795               ┆ 4011               ┆ 44.751932      │\n",
      "│ 1.Inactivos   ┆ 804                ┆ 4011               ┆ 20.044877      │\n",
      "│ 2.Masivos     ┆ 708                ┆ 4011               ┆ 17.651458      │\n",
      "│ 5.Select      ┆ 595                ┆ 4011               ┆ 14.834206      │\n",
      "│ 3.Potenciales ┆ 109                ┆ 4011               ┆ 2.717527       │\n",
      "└───────────────┴────────────────────┴────────────────────┴────────────────┘\n"
     ]
    },
    {
     "data": {
      "text/html": [
       "<div><style>\n",
       ".dataframe > thead > tr,\n",
       ".dataframe > tbody > tr {\n",
       "  text-align: right;\n",
       "  white-space: pre-wrap;\n",
       "}\n",
       "</style>\n",
       "<small>shape: (5, 4)</small><table border=\"1\" class=\"dataframe\"><thead><tr><th>segmentounico</th><th>poc_distinct_count</th><th>total_first_column</th><th>poc_percentage</th></tr><tr><td>str</td><td>u32</td><td>i32</td><td>f64</td></tr></thead><tbody><tr><td>&quot;4.Activos&quot;</td><td>1934</td><td>4400</td><td>43.954545</td></tr><tr><td>&quot;1.Inactivos&quot;</td><td>888</td><td>4400</td><td>20.181818</td></tr><tr><td>&quot;2.Masivos&quot;</td><td>820</td><td>4400</td><td>18.636364</td></tr><tr><td>&quot;5.Select&quot;</td><td>631</td><td>4400</td><td>14.340909</td></tr><tr><td>&quot;3.Potenciales&quot;</td><td>127</td><td>4400</td><td>2.886364</td></tr></tbody></table></div>"
      ],
      "text/plain": [
       "shape: (5, 4)\n",
       "┌───────────────┬────────────────────┬────────────────────┬────────────────┐\n",
       "│ segmentounico ┆ poc_distinct_count ┆ total_first_column ┆ poc_percentage │\n",
       "│ ---           ┆ ---                ┆ ---                ┆ ---            │\n",
       "│ str           ┆ u32                ┆ i32                ┆ f64            │\n",
       "╞═══════════════╪════════════════════╪════════════════════╪════════════════╡\n",
       "│ 4.Activos     ┆ 1934               ┆ 4400               ┆ 43.954545      │\n",
       "│ 1.Inactivos   ┆ 888                ┆ 4400               ┆ 20.181818      │\n",
       "│ 2.Masivos     ┆ 820                ┆ 4400               ┆ 18.636364      │\n",
       "│ 5.Select      ┆ 631                ┆ 4400               ┆ 14.340909      │\n",
       "│ 3.Potenciales ┆ 127                ┆ 4400               ┆ 2.886364       │\n",
       "└───────────────┴────────────────────┴────────────────────┴────────────────┘"
      ]
     },
     "execution_count": 17,
     "metadata": {},
     "output_type": "execute_result"
    }
   ],
   "source": [
    "print(count_distinct_grouped_by(df_without_nulls, y_column=\"poc\", x_columns=[\"segmentounico\"],z_columns=[\"poc_percentage\"]))\n",
    "count_distinct_grouped_by(atributes_updated, y_column=\"poc\", x_columns=[\"segmentounico\"],z_columns=[\"poc_percentage\"])"
   ]
  },
  {
   "cell_type": "code",
   "execution_count": 18,
   "metadata": {},
   "outputs": [
    {
     "data": {
      "text/html": [
       "<div><style>\n",
       ".dataframe > thead > tr,\n",
       ".dataframe > tbody > tr {\n",
       "  text-align: right;\n",
       "  white-space: pre-wrap;\n",
       "}\n",
       "</style>\n",
       "<small>shape: (5, 19)</small><table border=\"1\" class=\"dataframe\"><thead><tr><th>segmentounico</th><th>totalvolumen_mean</th><th>skudistintospromediosxorden_mean</th><th>skudistintostotales_mean</th><th>totalvolumen_median</th><th>skudistintospromediosxorden_median</th><th>skudistintostotales_median</th><th>totalvolumen_std_dev</th><th>skudistintospromediosxorden_std_dev</th><th>skudistintostotales_std_dev</th><th>totalvolumen_p25</th><th>totalvolumen_p50</th><th>totalvolumen_p75</th><th>skudistintospromediosxorden_p25</th><th>skudistintospromediosxorden_p50</th><th>skudistintospromediosxorden_p75</th><th>skudistintostotales_p25</th><th>skudistintostotales_p50</th><th>skudistintostotales_p75</th></tr><tr><td>str</td><td>f64</td><td>f64</td><td>f64</td><td>f64</td><td>f64</td><td>f64</td><td>f64</td><td>f64</td><td>f64</td><td>f64</td><td>f64</td><td>f64</td><td>f64</td><td>f64</td><td>f64</td><td>f64</td><td>f64</td><td>f64</td></tr></thead><tbody><tr><td>&quot;2.Masivos&quot;</td><td>9.887889</td><td>5.629337</td><td>20.268362</td><td>4.48982</td><td>5.0</td><td>17.0</td><td>26.073617</td><td>3.049452</td><td>14.904553</td><td>1.90926</td><td>4.50136</td><td>8.09796</td><td>3.5</td><td>5.0</td><td>7.0714</td><td>9.0</td><td>17.0</td><td>28.0</td></tr><tr><td>&quot;3.Potenciales&quot;</td><td>45.953118</td><td>8.111235</td><td>35.449541</td><td>12.77314</td><td>7.5625</td><td>33.0</td><td>178.23672</td><td>3.311973</td><td>16.730703</td><td>7.95744</td><td>12.77314</td><td>28.38672</td><td>6.2</td><td>7.5625</td><td>9.75</td><td>24.0</td><td>33.0</td><td>44.0</td></tr><tr><td>&quot;4.Activos&quot;</td><td>17.971171</td><td>6.006615</td><td>30.945404</td><td>7.61332</td><td>5.2692</td><td>26.0</td><td>46.946604</td><td>3.086993</td><td>19.832192</td><td>3.30046</td><td>7.61332</td><td>15.79512</td><td>3.8333</td><td>5.2692</td><td>7.35</td><td>16.0</td><td>26.0</td><td>41.0</td></tr><tr><td>&quot;1.Inactivos&quot;</td><td>2.4877</td><td>4.476126</td><td>12.120647</td><td>1.56015</td><td>4.0</td><td>11.0</td><td>3.664449</td><td>2.250522</td><td>8.163438</td><td>0.76258</td><td>1.56126</td><td>2.98188</td><td>3.0</td><td>4.0</td><td>5.3333</td><td>6.0</td><td>11.0</td><td>16.0</td></tr><tr><td>&quot;5.Select&quot;</td><td>68.149044</td><td>6.819948</td><td>50.621849</td><td>17.3101</td><td>6.049</td><td>47.0</td><td>238.30285</td><td>3.47014</td><td>26.189863</td><td>8.35212</td><td>17.3101</td><td>36.2526</td><td>4.3</td><td>6.049</td><td>8.9815</td><td>30.0</td><td>47.0</td><td>68.0</td></tr></tbody></table></div>"
      ],
      "text/plain": [
       "shape: (5, 19)\n",
       "┌───────────┬───────────┬───────────┬───────────┬───┬───────────┬───────────┬───────────┬──────────┐\n",
       "│ segmentou ┆ totalvolu ┆ skudistin ┆ skudistin ┆ … ┆ skudistin ┆ skudistin ┆ skudistin ┆ skudisti │\n",
       "│ nico      ┆ men_mean  ┆ tospromed ┆ tostotale ┆   ┆ tospromed ┆ tostotale ┆ tostotale ┆ ntostota │\n",
       "│ ---       ┆ ---       ┆ iosxorden ┆ s_mean    ┆   ┆ iosxorden ┆ s_p25     ┆ s_p50     ┆ les_p75  │\n",
       "│ str       ┆ f64       ┆ _me…      ┆ ---       ┆   ┆ _p7…      ┆ ---       ┆ ---       ┆ ---      │\n",
       "│           ┆           ┆ ---       ┆ f64       ┆   ┆ ---       ┆ f64       ┆ f64       ┆ f64      │\n",
       "│           ┆           ┆ f64       ┆           ┆   ┆ f64       ┆           ┆           ┆          │\n",
       "╞═══════════╪═══════════╪═══════════╪═══════════╪═══╪═══════════╪═══════════╪═══════════╪══════════╡\n",
       "│ 2.Masivos ┆ 9.887889  ┆ 5.629337  ┆ 20.268362 ┆ … ┆ 7.0714    ┆ 9.0       ┆ 17.0      ┆ 28.0     │\n",
       "│ 3.Potenci ┆ 45.953118 ┆ 8.111235  ┆ 35.449541 ┆ … ┆ 9.75      ┆ 24.0      ┆ 33.0      ┆ 44.0     │\n",
       "│ ales      ┆           ┆           ┆           ┆   ┆           ┆           ┆           ┆          │\n",
       "│ 4.Activos ┆ 17.971171 ┆ 6.006615  ┆ 30.945404 ┆ … ┆ 7.35      ┆ 16.0      ┆ 26.0      ┆ 41.0     │\n",
       "│ 1.Inactiv ┆ 2.4877    ┆ 4.476126  ┆ 12.120647 ┆ … ┆ 5.3333    ┆ 6.0       ┆ 11.0      ┆ 16.0     │\n",
       "│ os        ┆           ┆           ┆           ┆   ┆           ┆           ┆           ┆          │\n",
       "│ 5.Select  ┆ 68.149044 ┆ 6.819948  ┆ 50.621849 ┆ … ┆ 8.9815    ┆ 30.0      ┆ 47.0      ┆ 68.0     │\n",
       "└───────────┴───────────┴───────────┴───────────┴───┴───────────┴───────────┴───────────┴──────────┘"
      ]
     },
     "execution_count": 18,
     "metadata": {},
     "output_type": "execute_result"
    }
   ],
   "source": [
    "group_and_describe_with_percentiles(df_without_nulls, \"segmentounico\", numerical)"
   ]
  },
  {
   "cell_type": "code",
   "execution_count": 19,
   "metadata": {},
   "outputs": [
    {
     "data": {
      "text/html": [
       "<div><style>\n",
       ".dataframe > thead > tr,\n",
       ".dataframe > tbody > tr {\n",
       "  text-align: right;\n",
       "  white-space: pre-wrap;\n",
       "}\n",
       "</style>\n",
       "<small>shape: (5, 19)</small><table border=\"1\" class=\"dataframe\"><thead><tr><th>segmentounico</th><th>totalvolumen_mean</th><th>skudistintospromediosxorden_mean</th><th>skudistintostotales_mean</th><th>totalvolumen_median</th><th>skudistintospromediosxorden_median</th><th>skudistintostotales_median</th><th>totalvolumen_std_dev</th><th>skudistintospromediosxorden_std_dev</th><th>skudistintostotales_std_dev</th><th>totalvolumen_p25</th><th>totalvolumen_p50</th><th>totalvolumen_p75</th><th>skudistintospromediosxorden_p25</th><th>skudistintospromediosxorden_p50</th><th>skudistintospromediosxorden_p75</th><th>skudistintostotales_p25</th><th>skudistintostotales_p50</th><th>skudistintostotales_p75</th></tr><tr><td>str</td><td>f64</td><td>f64</td><td>f64</td><td>f64</td><td>f64</td><td>f64</td><td>f64</td><td>f64</td><td>f64</td><td>f64</td><td>f64</td><td>f64</td><td>f64</td><td>f64</td><td>f64</td><td>f64</td><td>f64</td><td>f64</td></tr></thead><tbody><tr><td>&quot;1.Inactivos&quot;</td><td>2.444146</td><td>4.570655</td><td>12.154279</td><td>1.5582</td><td>4.125</td><td>11.0</td><td>3.545036</td><td>2.339944</td><td>8.181279</td><td>0.73942</td><td>1.55904</td><td>2.95866</td><td>3.0</td><td>4.125</td><td>5.6667</td><td>6.0</td><td>11.0</td><td>16.0</td></tr><tr><td>&quot;5.Select&quot;</td><td>73.224607</td><td>6.874734</td><td>50.275753</td><td>17.38062</td><td>6.0147</td><td>47.0</td><td>245.73012</td><td>3.671826</td><td>25.971597</td><td>8.34152</td><td>17.38062</td><td>37.51956</td><td>4.25</td><td>6.0147</td><td>8.9815</td><td>30.0</td><td>47.0</td><td>67.0</td></tr><tr><td>&quot;4.Activos&quot;</td><td>18.454372</td><td>6.101257</td><td>30.858842</td><td>7.619305</td><td>5.375</td><td>26.0</td><td>51.234575</td><td>3.15085</td><td>19.749052</td><td>3.2891</td><td>7.62095</td><td>15.78716</td><td>3.8667</td><td>5.375</td><td>7.5</td><td>16.0</td><td>26.0</td><td>41.0</td></tr><tr><td>&quot;2.Masivos&quot;</td><td>9.583716</td><td>5.770779</td><td>19.503659</td><td>4.3525</td><td>5.04285</td><td>16.0</td><td>25.447217</td><td>3.214566</td><td>14.506745</td><td>1.77432</td><td>4.3571</td><td>7.7421</td><td>3.5769</td><td>5.05</td><td>7.2</td><td>9.0</td><td>16.0</td><td>27.0</td></tr><tr><td>&quot;3.Potenciales&quot;</td><td>47.831755</td><td>8.503668</td><td>33.645669</td><td>11.991</td><td>7.7857</td><td>31.0</td><td>181.278135</td><td>3.670715</td><td>16.539768</td><td>6.4103</td><td>11.991</td><td>26.50188</td><td>6.3571</td><td>7.7857</td><td>10.8</td><td>23.0</td><td>31.0</td><td>43.0</td></tr></tbody></table></div>"
      ],
      "text/plain": [
       "shape: (5, 19)\n",
       "┌───────────┬───────────┬───────────┬───────────┬───┬───────────┬───────────┬───────────┬──────────┐\n",
       "│ segmentou ┆ totalvolu ┆ skudistin ┆ skudistin ┆ … ┆ skudistin ┆ skudistin ┆ skudistin ┆ skudisti │\n",
       "│ nico      ┆ men_mean  ┆ tospromed ┆ tostotale ┆   ┆ tospromed ┆ tostotale ┆ tostotale ┆ ntostota │\n",
       "│ ---       ┆ ---       ┆ iosxorden ┆ s_mean    ┆   ┆ iosxorden ┆ s_p25     ┆ s_p50     ┆ les_p75  │\n",
       "│ str       ┆ f64       ┆ _me…      ┆ ---       ┆   ┆ _p7…      ┆ ---       ┆ ---       ┆ ---      │\n",
       "│           ┆           ┆ ---       ┆ f64       ┆   ┆ ---       ┆ f64       ┆ f64       ┆ f64      │\n",
       "│           ┆           ┆ f64       ┆           ┆   ┆ f64       ┆           ┆           ┆          │\n",
       "╞═══════════╪═══════════╪═══════════╪═══════════╪═══╪═══════════╪═══════════╪═══════════╪══════════╡\n",
       "│ 1.Inactiv ┆ 2.444146  ┆ 4.570655  ┆ 12.154279 ┆ … ┆ 5.6667    ┆ 6.0       ┆ 11.0      ┆ 16.0     │\n",
       "│ os        ┆           ┆           ┆           ┆   ┆           ┆           ┆           ┆          │\n",
       "│ 5.Select  ┆ 73.224607 ┆ 6.874734  ┆ 50.275753 ┆ … ┆ 8.9815    ┆ 30.0      ┆ 47.0      ┆ 67.0     │\n",
       "│ 4.Activos ┆ 18.454372 ┆ 6.101257  ┆ 30.858842 ┆ … ┆ 7.5       ┆ 16.0      ┆ 26.0      ┆ 41.0     │\n",
       "│ 2.Masivos ┆ 9.583716  ┆ 5.770779  ┆ 19.503659 ┆ … ┆ 7.2       ┆ 9.0       ┆ 16.0      ┆ 27.0     │\n",
       "│ 3.Potenci ┆ 47.831755 ┆ 8.503668  ┆ 33.645669 ┆ … ┆ 10.8      ┆ 23.0      ┆ 31.0      ┆ 43.0     │\n",
       "│ ales      ┆           ┆           ┆           ┆   ┆           ┆           ┆           ┆          │\n",
       "└───────────┴───────────┴───────────┴───────────┴───┴───────────┴───────────┴───────────┴──────────┘"
      ]
     },
     "execution_count": 19,
     "metadata": {},
     "output_type": "execute_result"
    }
   ],
   "source": [
    "group_and_describe_with_percentiles(atributes_updated, \"segmentounico\", numerical)"
   ]
  },
  {
   "cell_type": "code",
   "execution_count": 20,
   "metadata": {},
   "outputs": [
    {
     "name": "stdout",
     "output_type": "stream",
     "text": [
      "Optimization terminated successfully.\n",
      "         Current function value: 1.174149\n",
      "         Iterations: 33\n",
      "         Function evaluations: 38\n",
      "         Gradient evaluations: 38\n"
     ]
    },
    {
     "data": {
      "text/html": [
       "<table class=\"simpletable\">\n",
       "<caption>OrderedModel Results</caption>\n",
       "<tr>\n",
       "  <th>Dep. Variable:</th>          <td>encoded</td>      <th>  Log-Likelihood:    </th> <td> -4709.5</td>\n",
       "</tr>\n",
       "<tr>\n",
       "  <th>Model:</th>               <td>OrderedModel</td>    <th>  AIC:               </th> <td>   9441.</td>\n",
       "</tr>\n",
       "<tr>\n",
       "  <th>Method:</th>           <td>Maximum Likelihood</td> <th>  BIC:               </th> <td>   9510.</td>\n",
       "</tr>\n",
       "<tr>\n",
       "  <th>Date:</th>              <td>Thu, 15 Aug 2024</td>  <th>                     </th>     <td> </td>   \n",
       "</tr>\n",
       "<tr>\n",
       "  <th>Time:</th>                  <td>09:03:27</td>      <th>                     </th>     <td> </td>   \n",
       "</tr>\n",
       "<tr>\n",
       "  <th>No. Observations:</th>       <td>  4011</td>       <th>                     </th>     <td> </td>   \n",
       "</tr>\n",
       "<tr>\n",
       "  <th>Df Residuals:</th>           <td>  4000</td>       <th>                     </th>     <td> </td>   \n",
       "</tr>\n",
       "<tr>\n",
       "  <th>Df Model:</th>               <td>     3</td>       <th>                     </th>     <td> </td>   \n",
       "</tr>\n",
       "</table>\n",
       "<table class=\"simpletable\">\n",
       "<tr>\n",
       "               <td></td>                  <th>coef</th>     <th>std err</th>      <th>z</th>      <th>P>|z|</th>  <th>[0.025</th>    <th>0.975]</th>  \n",
       "</tr>\n",
       "<tr>\n",
       "  <th>totalvolumen</th>                <td>   -0.0011</td> <td>    0.000</td> <td>   -2.964</td> <td> 0.003</td> <td>   -0.002</td> <td>   -0.000</td>\n",
       "</tr>\n",
       "<tr>\n",
       "  <th>skudistintospromediosxorden</th> <td>   -0.0476</td> <td>    0.013</td> <td>   -3.597</td> <td> 0.000</td> <td>   -0.073</td> <td>   -0.022</td>\n",
       "</tr>\n",
       "<tr>\n",
       "  <th>skudistintostotales</th>         <td>    0.0013</td> <td>    0.002</td> <td>    0.630</td> <td> 0.529</td> <td>   -0.003</td> <td>    0.005</td>\n",
       "</tr>\n",
       "<tr>\n",
       "  <th>0/1</th>                         <td>   -3.4076</td> <td>    0.100</td> <td>  -34.110</td> <td> 0.000</td> <td>   -3.603</td> <td>   -3.212</td>\n",
       "</tr>\n",
       "<tr>\n",
       "  <th>1/2</th>                         <td>   -0.8398</td> <td>    0.108</td> <td>   -7.764</td> <td> 0.000</td> <td>   -1.052</td> <td>   -0.628</td>\n",
       "</tr>\n",
       "<tr>\n",
       "  <th>2/3</th>                         <td>   -4.3778</td> <td>    0.578</td> <td>   -7.571</td> <td> 0.000</td> <td>   -5.511</td> <td>   -3.245</td>\n",
       "</tr>\n",
       "<tr>\n",
       "  <th>3/4</th>                         <td>   -0.0096</td> <td>    0.052</td> <td>   -0.184</td> <td> 0.854</td> <td>   -0.111</td> <td>    0.092</td>\n",
       "</tr>\n",
       "<tr>\n",
       "  <th>4/5</th>                         <td>   -2.0348</td> <td>    0.118</td> <td>  -17.292</td> <td> 0.000</td> <td>   -2.265</td> <td>   -1.804</td>\n",
       "</tr>\n",
       "<tr>\n",
       "  <th>5/6</th>                         <td>    0.0301</td> <td>    0.034</td> <td>    0.897</td> <td> 0.370</td> <td>   -0.036</td> <td>    0.096</td>\n",
       "</tr>\n",
       "<tr>\n",
       "  <th>6/7</th>                         <td>   -2.9886</td> <td>    0.145</td> <td>  -20.603</td> <td> 0.000</td> <td>   -3.273</td> <td>   -2.704</td>\n",
       "</tr>\n",
       "<tr>\n",
       "  <th>7/8</th>                         <td>   -6.8497</td> <td>    1.004</td> <td>   -6.825</td> <td> 0.000</td> <td>   -8.817</td> <td>   -4.883</td>\n",
       "</tr>\n",
       "</table>"
      ],
      "text/latex": [
       "\\begin{center}\n",
       "\\begin{tabular}{lclc}\n",
       "\\toprule\n",
       "\\textbf{Dep. Variable:}              &      encoded       & \\textbf{  Log-Likelihood:    } &   -4709.5   \\\\\n",
       "\\textbf{Model:}                      &    OrderedModel    & \\textbf{  AIC:               } &     9441.   \\\\\n",
       "\\textbf{Method:}                     & Maximum Likelihood & \\textbf{  BIC:               } &     9510.   \\\\\n",
       "\\textbf{Date:}                       &  Thu, 15 Aug 2024  & \\textbf{                     } &             \\\\\n",
       "\\textbf{Time:}                       &      09:03:27      & \\textbf{                     } &             \\\\\n",
       "\\textbf{No. Observations:}           &         4011       & \\textbf{                     } &             \\\\\n",
       "\\textbf{Df Residuals:}               &         4000       & \\textbf{                     } &             \\\\\n",
       "\\textbf{Df Model:}                   &            3       & \\textbf{                     } &             \\\\\n",
       "\\bottomrule\n",
       "\\end{tabular}\n",
       "\\begin{tabular}{lcccccc}\n",
       "                                     & \\textbf{coef} & \\textbf{std err} & \\textbf{z} & \\textbf{P$> |$z$|$} & \\textbf{[0.025} & \\textbf{0.975]}  \\\\\n",
       "\\midrule\n",
       "\\textbf{totalvolumen}                &      -0.0011  &        0.000     &    -2.964  &         0.003        &       -0.002    &       -0.000     \\\\\n",
       "\\textbf{skudistintospromediosxorden} &      -0.0476  &        0.013     &    -3.597  &         0.000        &       -0.073    &       -0.022     \\\\\n",
       "\\textbf{skudistintostotales}         &       0.0013  &        0.002     &     0.630  &         0.529        &       -0.003    &        0.005     \\\\\n",
       "\\textbf{0/1}                         &      -3.4076  &        0.100     &   -34.110  &         0.000        &       -3.603    &       -3.212     \\\\\n",
       "\\textbf{1/2}                         &      -0.8398  &        0.108     &    -7.764  &         0.000        &       -1.052    &       -0.628     \\\\\n",
       "\\textbf{2/3}                         &      -4.3778  &        0.578     &    -7.571  &         0.000        &       -5.511    &       -3.245     \\\\\n",
       "\\textbf{3/4}                         &      -0.0096  &        0.052     &    -0.184  &         0.854        &       -0.111    &        0.092     \\\\\n",
       "\\textbf{4/5}                         &      -2.0348  &        0.118     &   -17.292  &         0.000        &       -2.265    &       -1.804     \\\\\n",
       "\\textbf{5/6}                         &       0.0301  &        0.034     &     0.897  &         0.370        &       -0.036    &        0.096     \\\\\n",
       "\\textbf{6/7}                         &      -2.9886  &        0.145     &   -20.603  &         0.000        &       -3.273    &       -2.704     \\\\\n",
       "\\textbf{7/8}                         &      -6.8497  &        1.004     &    -6.825  &         0.000        &       -8.817    &       -4.883     \\\\\n",
       "\\bottomrule\n",
       "\\end{tabular}\n",
       "%\\caption{OrderedModel Results}\n",
       "\\end{center}"
      ],
      "text/plain": [
       "<class 'statsmodels.iolib.summary.Summary'>\n",
       "\"\"\"\n",
       "                             OrderedModel Results                             \n",
       "==============================================================================\n",
       "Dep. Variable:                encoded   Log-Likelihood:                -4709.5\n",
       "Model:                   OrderedModel   AIC:                             9441.\n",
       "Method:            Maximum Likelihood   BIC:                             9510.\n",
       "Date:                Thu, 15 Aug 2024                                         \n",
       "Time:                        09:03:27                                         \n",
       "No. Observations:                4011                                         \n",
       "Df Residuals:                    4000                                         \n",
       "Df Model:                           3                                         \n",
       "===============================================================================================\n",
       "                                  coef    std err          z      P>|z|      [0.025      0.975]\n",
       "-----------------------------------------------------------------------------------------------\n",
       "totalvolumen                   -0.0011      0.000     -2.964      0.003      -0.002      -0.000\n",
       "skudistintospromediosxorden    -0.0476      0.013     -3.597      0.000      -0.073      -0.022\n",
       "skudistintostotales             0.0013      0.002      0.630      0.529      -0.003       0.005\n",
       "0/1                            -3.4076      0.100    -34.110      0.000      -3.603      -3.212\n",
       "1/2                            -0.8398      0.108     -7.764      0.000      -1.052      -0.628\n",
       "2/3                            -4.3778      0.578     -7.571      0.000      -5.511      -3.245\n",
       "3/4                            -0.0096      0.052     -0.184      0.854      -0.111       0.092\n",
       "4/5                            -2.0348      0.118    -17.292      0.000      -2.265      -1.804\n",
       "5/6                             0.0301      0.034      0.897      0.370      -0.036       0.096\n",
       "6/7                            -2.9886      0.145    -20.603      0.000      -3.273      -2.704\n",
       "7/8                            -6.8497      1.004     -6.825      0.000      -8.817      -4.883\n",
       "===============================================================================================\n",
       "\"\"\""
      ]
     },
     "execution_count": 20,
     "metadata": {},
     "output_type": "execute_result"
    }
   ],
   "source": [
    "# Ejemplo de uso:\n",
    "result = fit_ordered_logistic_regression(df_without_nulls, 'canal', numerical)\n",
    "result.summary()"
   ]
  },
  {
   "cell_type": "code",
   "execution_count": 21,
   "metadata": {},
   "outputs": [
    {
     "name": "stderr",
     "output_type": "stream",
     "text": [
      "/opt/miniconda3/envs/challenge_abinbev/lib/python3.12/site-packages/sklearn/model_selection/_split.py:776: UserWarning: The least populated class in y has only 3 members, which is less than n_splits=5.\n",
      "  warnings.warn(\n"
     ]
    },
    {
     "name": "stdout",
     "output_type": "stream",
     "text": [
      "                     precision    recall  f1-score   support\n",
      "\n",
      "       Autoservicio       0.53      0.39      0.45        44\n",
      "             BEBIDA       0.00      0.00      0.00        16\n",
      "             COMIDA       0.40      0.28      0.33        98\n",
      "    ENTRETENIMIENTO       0.33      0.18      0.24        11\n",
      "      Instituciones       0.00      0.00      0.00         7\n",
      "      KA Minoristas       0.00      0.00      0.00         7\n",
      "Kioscos/Maxikioscos       0.31      0.23      0.26       164\n",
      "          Mayorista       0.60      0.50      0.55        12\n",
      "          OTROS REF       0.20      0.50      0.29         2\n",
      "        Tradicional       0.70      0.84      0.76       517\n",
      "\n",
      "           accuracy                           0.60       878\n",
      "          macro avg       0.31      0.29      0.29       878\n",
      "       weighted avg       0.55      0.60      0.57       878\n",
      "\n",
      "Accuracy: 0.5979498861047836\n",
      "Cross-validation mean score: 0.6134508699415975\n"
     ]
    },
    {
     "data": {
      "text/html": [
       "<div><style>\n",
       ".dataframe > thead > tr,\n",
       ".dataframe > tbody > tr {\n",
       "  text-align: right;\n",
       "  white-space: pre-wrap;\n",
       "}\n",
       "</style>\n",
       "<small>shape: (9, 3)</small><table border=\"1\" class=\"dataframe\"><thead><tr><th>column</th><th>null_count</th><th>null_percentage</th></tr><tr><td>str</td><td>u32</td><td>f64</td></tr></thead><tbody><tr><td>&quot;column_0&quot;</td><td>0</td><td>0.0</td></tr><tr><td>&quot;poc&quot;</td><td>0</td><td>0.0</td></tr><tr><td>&quot;bussinesssegment&quot;</td><td>0</td><td>0.0</td></tr><tr><td>&quot;totalvolumen&quot;</td><td>0</td><td>0.0</td></tr><tr><td>&quot;skudistintospromediosxorden&quot;</td><td>0</td><td>0.0</td></tr><tr><td>&quot;skudistintostotales&quot;</td><td>0</td><td>0.0</td></tr><tr><td>&quot;concentracion&quot;</td><td>0</td><td>0.0</td></tr><tr><td>&quot;segmentounico&quot;</td><td>0</td><td>0.0</td></tr><tr><td>&quot;canal&quot;</td><td>0</td><td>0.0</td></tr></tbody></table></div>"
      ],
      "text/plain": [
       "shape: (9, 3)\n",
       "┌─────────────────────────────┬────────────┬─────────────────┐\n",
       "│ column                      ┆ null_count ┆ null_percentage │\n",
       "│ ---                         ┆ ---        ┆ ---             │\n",
       "│ str                         ┆ u32        ┆ f64             │\n",
       "╞═════════════════════════════╪════════════╪═════════════════╡\n",
       "│ column_0                    ┆ 0          ┆ 0.0             │\n",
       "│ poc                         ┆ 0          ┆ 0.0             │\n",
       "│ bussinesssegment            ┆ 0          ┆ 0.0             │\n",
       "│ totalvolumen                ┆ 0          ┆ 0.0             │\n",
       "│ skudistintospromediosxorden ┆ 0          ┆ 0.0             │\n",
       "│ skudistintostotales         ┆ 0          ┆ 0.0             │\n",
       "│ concentracion               ┆ 0          ┆ 0.0             │\n",
       "│ segmentounico               ┆ 0          ┆ 0.0             │\n",
       "│ canal                       ┆ 0          ┆ 0.0             │\n",
       "└─────────────────────────────┴────────────┴─────────────────┘"
      ]
     },
     "execution_count": 21,
     "metadata": {},
     "output_type": "execute_result"
    }
   ],
   "source": [
    "# Ejemplo de uso:\n",
    "atributes_updated ,cf_report, accuracy, cross_val_mean= fill_missing_values(atributes_updated, 'canal', ['skudistintospromediosxorden','totalvolumen'], ['bussinesssegment', 'concentracion', 'segmentounico'])\n",
    "# Evaluar el modelo\n",
    "print(cf_report)\n",
    "print(\"Accuracy:\", accuracy)\n",
    "print(\"Cross-validation mean score:\", cross_val_mean)\n",
    "# Mostrar las primeras filas del DataFrame actualizado\n",
    "check_null_values(atributes_updated)"
   ]
  },
  {
   "cell_type": "code",
   "execution_count": 22,
   "metadata": {},
   "outputs": [
    {
     "name": "stdout",
     "output_type": "stream",
     "text": [
      "shape: (9, 4)\n",
      "┌─────────────────────┬────────────────────┬────────────────────┬────────────────┐\n",
      "│ canal               ┆ poc_distinct_count ┆ total_first_column ┆ poc_percentage │\n",
      "│ ---                 ┆ ---                ┆ ---                ┆ ---            │\n",
      "│ str                 ┆ u32                ┆ i32                ┆ f64            │\n",
      "╞═════════════════════╪════════════════════╪════════════════════╪════════════════╡\n",
      "│ Tradicional         ┆ 2491               ┆ 4011               ┆ 62.104213      │\n",
      "│ Kioscos/Maxikioscos ┆ 781                ┆ 4011               ┆ 19.471454      │\n",
      "│ COMIDA              ┆ 364                ┆ 4011               ┆ 9.075044       │\n",
      "│ Autoservicio        ┆ 168                ┆ 4011               ┆ 4.188482       │\n",
      "│ BEBIDA              ┆ 85                 ┆ 4011               ┆ 2.119172       │\n",
      "│ ENTRETENIMIENTO     ┆ 71                 ┆ 4011               ┆ 1.770132       │\n",
      "│ Mayorista           ┆ 47                 ┆ 4011               ┆ 1.171778       │\n",
      "│ Bar/Restaurant      ┆ 3                  ┆ 4011               ┆ 0.074794       │\n",
      "│ OTROS REF           ┆ 1                  ┆ 4011               ┆ 0.024931       │\n",
      "└─────────────────────┴────────────────────┴────────────────────┴────────────────┘\n"
     ]
    },
    {
     "data": {
      "text/html": [
       "<div><style>\n",
       ".dataframe > thead > tr,\n",
       ".dataframe > tbody > tr {\n",
       "  text-align: right;\n",
       "  white-space: pre-wrap;\n",
       "}\n",
       "</style>\n",
       "<small>shape: (11, 4)</small><table border=\"1\" class=\"dataframe\"><thead><tr><th>canal</th><th>poc_distinct_count</th><th>total_first_column</th><th>poc_percentage</th></tr><tr><td>str</td><td>u32</td><td>i32</td><td>f64</td></tr></thead><tbody><tr><td>&quot;Tradicional&quot;</td><td>2665</td><td>4400</td><td>60.568182</td></tr><tr><td>&quot;Kioscos/Maxikioscos&quot;</td><td>821</td><td>4400</td><td>18.659091</td></tr><tr><td>&quot;COMIDA&quot;</td><td>415</td><td>4400</td><td>9.431818</td></tr><tr><td>&quot;Autoservicio&quot;</td><td>186</td><td>4400</td><td>4.227273</td></tr><tr><td>&quot;BEBIDA&quot;</td><td>101</td><td>4400</td><td>2.295455</td></tr><tr><td>&quot;ENTRETENIMIENTO&quot;</td><td>79</td><td>4400</td><td>1.795455</td></tr><tr><td>&quot;Mayorista&quot;</td><td>53</td><td>4400</td><td>1.204545</td></tr><tr><td>&quot;Instituciones&quot;</td><td>43</td><td>4400</td><td>0.977273</td></tr><tr><td>&quot;KA Minoristas&quot;</td><td>18</td><td>4400</td><td>0.409091</td></tr><tr><td>&quot;OTROS REF&quot;</td><td>16</td><td>4400</td><td>0.363636</td></tr><tr><td>&quot;Bar/Restaurant&quot;</td><td>3</td><td>4400</td><td>0.068182</td></tr></tbody></table></div>"
      ],
      "text/plain": [
       "shape: (11, 4)\n",
       "┌─────────────────────┬────────────────────┬────────────────────┬────────────────┐\n",
       "│ canal               ┆ poc_distinct_count ┆ total_first_column ┆ poc_percentage │\n",
       "│ ---                 ┆ ---                ┆ ---                ┆ ---            │\n",
       "│ str                 ┆ u32                ┆ i32                ┆ f64            │\n",
       "╞═════════════════════╪════════════════════╪════════════════════╪════════════════╡\n",
       "│ Tradicional         ┆ 2665               ┆ 4400               ┆ 60.568182      │\n",
       "│ Kioscos/Maxikioscos ┆ 821                ┆ 4400               ┆ 18.659091      │\n",
       "│ COMIDA              ┆ 415                ┆ 4400               ┆ 9.431818       │\n",
       "│ Autoservicio        ┆ 186                ┆ 4400               ┆ 4.227273       │\n",
       "│ BEBIDA              ┆ 101                ┆ 4400               ┆ 2.295455       │\n",
       "│ ENTRETENIMIENTO     ┆ 79                 ┆ 4400               ┆ 1.795455       │\n",
       "│ Mayorista           ┆ 53                 ┆ 4400               ┆ 1.204545       │\n",
       "│ Instituciones       ┆ 43                 ┆ 4400               ┆ 0.977273       │\n",
       "│ KA Minoristas       ┆ 18                 ┆ 4400               ┆ 0.409091       │\n",
       "│ OTROS REF           ┆ 16                 ┆ 4400               ┆ 0.363636       │\n",
       "│ Bar/Restaurant      ┆ 3                  ┆ 4400               ┆ 0.068182       │\n",
       "└─────────────────────┴────────────────────┴────────────────────┴────────────────┘"
      ]
     },
     "execution_count": 22,
     "metadata": {},
     "output_type": "execute_result"
    }
   ],
   "source": [
    "print(count_distinct_grouped_by(df_without_nulls, y_column=\"poc\", x_columns=[\"canal\"],z_columns=[\"poc_percentage\"]))\n",
    "count_distinct_grouped_by(atributes_updated, y_column=\"poc\", x_columns=[\"canal\"],z_columns=[\"poc_percentage\"])"
   ]
  },
  {
   "cell_type": "code",
   "execution_count": 23,
   "metadata": {},
   "outputs": [
    {
     "data": {
      "text/html": [
       "<div><style>\n",
       ".dataframe > thead > tr,\n",
       ".dataframe > tbody > tr {\n",
       "  text-align: right;\n",
       "  white-space: pre-wrap;\n",
       "}\n",
       "</style>\n",
       "<small>shape: (9, 19)</small><table border=\"1\" class=\"dataframe\"><thead><tr><th>canal</th><th>totalvolumen_mean</th><th>skudistintospromediosxorden_mean</th><th>skudistintostotales_mean</th><th>totalvolumen_median</th><th>skudistintospromediosxorden_median</th><th>skudistintostotales_median</th><th>totalvolumen_std_dev</th><th>skudistintospromediosxorden_std_dev</th><th>skudistintostotales_std_dev</th><th>totalvolumen_p25</th><th>totalvolumen_p50</th><th>totalvolumen_p75</th><th>skudistintospromediosxorden_p25</th><th>skudistintospromediosxorden_p50</th><th>skudistintospromediosxorden_p75</th><th>skudistintostotales_p25</th><th>skudistintostotales_p50</th><th>skudistintostotales_p75</th></tr><tr><td>str</td><td>f64</td><td>f64</td><td>f64</td><td>f64</td><td>f64</td><td>f64</td><td>f64</td><td>f64</td><td>f64</td><td>f64</td><td>f64</td><td>f64</td><td>f64</td><td>f64</td><td>f64</td><td>f64</td><td>f64</td><td>f64</td></tr></thead><tbody><tr><td>&quot;Bar/Restaurant&quot;</td><td>25.168753</td><td>7.095233</td><td>27.333333</td><td>20.70388</td><td>8.125</td><td>28.0</td><td>17.600543</td><td>2.461856</td><td>9.0185</td><td>20.70388</td><td>20.70388</td><td>44.57174</td><td>8.125</td><td>8.125</td><td>8.875</td><td>28.0</td><td>28.0</td><td>36.0</td></tr><tr><td>&quot;Tradicional&quot;</td><td>15.819326</td><td>5.677488</td><td>27.995986</td><td>5.26854</td><td>5.0</td><td>22.0</td><td>67.008491</td><td>3.025904</td><td>21.178776</td><td>2.14448</td><td>5.26854</td><td>11.2006</td><td>3.5556</td><td>5.0</td><td>7.0</td><td>12.0</td><td>22.0</td><td>38.0</td></tr><tr><td>&quot;Kioscos/Maxikioscos&quot;</td><td>12.850601</td><td>5.814194</td><td>28.075544</td><td>4.51048</td><td>5.0</td><td>21.0</td><td>64.287668</td><td>3.288445</td><td>22.439678</td><td>1.68868</td><td>4.51048</td><td>11.12188</td><td>3.6111</td><td>5.0</td><td>7.1364</td><td>11.0</td><td>21.0</td><td>38.0</td></tr><tr><td>&quot;ENTRETENIMIENTO&quot;</td><td>18.777553</td><td>7.065762</td><td>19.0</td><td>6.6653</td><td>6.0</td><td>13.0</td><td>40.733979</td><td>3.641164</td><td>16.155494</td><td>2.64</td><td>6.6653</td><td>18.01776</td><td>4.1429</td><td>6.0</td><td>9.4545</td><td>7.0</td><td>13.0</td><td>26.0</td></tr><tr><td>&quot;OTROS REF&quot;</td><td>0.71946</td><td>4.0</td><td>6.0</td><td>0.71946</td><td>4.0</td><td>6.0</td><td>null</td><td>null</td><td>null</td><td>0.71946</td><td>0.71946</td><td>0.71946</td><td>4.0</td><td>4.0</td><td>4.0</td><td>6.0</td><td>6.0</td><td>6.0</td></tr><tr><td>&quot;COMIDA&quot;</td><td>19.02737</td><td>6.895146</td><td>23.777473</td><td>8.53539</td><td>6.4347</td><td>22.0</td><td>28.621773</td><td>3.13276</td><td>15.240313</td><td>3.2976</td><td>8.5656</td><td>24.0522</td><td>4.5833</td><td>6.4483</td><td>8.75</td><td>11.0</td><td>22.0</td><td>32.0</td></tr><tr><td>&quot;Mayorista&quot;</td><td>341.319174</td><td>3.909168</td><td>25.87234</td><td>166.7332</td><td>3.5263</td><td>21.0</td><td>657.108155</td><td>1.625721</td><td>20.127439</td><td>78.57696</td><td>166.7332</td><td>326.49782</td><td>3.0</td><td>3.5263</td><td>4.8846</td><td>11.0</td><td>21.0</td><td>34.0</td></tr><tr><td>&quot;BEBIDA&quot;</td><td>36.492496</td><td>6.144196</td><td>18.435294</td><td>12.40448</td><td>5.6818</td><td>17.0</td><td>74.463988</td><td>3.23918</td><td>13.837016</td><td>2.13636</td><td>12.40448</td><td>40.8229</td><td>3.75</td><td>5.6818</td><td>8.0</td><td>7.0</td><td>17.0</td><td>24.0</td></tr><tr><td>&quot;Autoservicio&quot;</td><td>58.89905</td><td>5.249761</td><td>54.083333</td><td>28.33092</td><td>4.64175</td><td>51.0</td><td>134.633948</td><td>2.701114</td><td>29.252036</td><td>18.13642</td><td>28.72142</td><td>47.46982</td><td>3.5385</td><td>4.6471</td><td>6.3182</td><td>37.0</td><td>51.0</td><td>69.0</td></tr></tbody></table></div>"
      ],
      "text/plain": [
       "shape: (9, 19)\n",
       "┌───────────┬───────────┬───────────┬───────────┬───┬───────────┬───────────┬───────────┬──────────┐\n",
       "│ canal     ┆ totalvolu ┆ skudistin ┆ skudistin ┆ … ┆ skudistin ┆ skudistin ┆ skudistin ┆ skudisti │\n",
       "│ ---       ┆ men_mean  ┆ tospromed ┆ tostotale ┆   ┆ tospromed ┆ tostotale ┆ tostotale ┆ ntostota │\n",
       "│ str       ┆ ---       ┆ iosxorden ┆ s_mean    ┆   ┆ iosxorden ┆ s_p25     ┆ s_p50     ┆ les_p75  │\n",
       "│           ┆ f64       ┆ _me…      ┆ ---       ┆   ┆ _p7…      ┆ ---       ┆ ---       ┆ ---      │\n",
       "│           ┆           ┆ ---       ┆ f64       ┆   ┆ ---       ┆ f64       ┆ f64       ┆ f64      │\n",
       "│           ┆           ┆ f64       ┆           ┆   ┆ f64       ┆           ┆           ┆          │\n",
       "╞═══════════╪═══════════╪═══════════╪═══════════╪═══╪═══════════╪═══════════╪═══════════╪══════════╡\n",
       "│ Bar/Resta ┆ 25.168753 ┆ 7.095233  ┆ 27.333333 ┆ … ┆ 8.875     ┆ 28.0      ┆ 28.0      ┆ 36.0     │\n",
       "│ urant     ┆           ┆           ┆           ┆   ┆           ┆           ┆           ┆          │\n",
       "│ Tradicion ┆ 15.819326 ┆ 5.677488  ┆ 27.995986 ┆ … ┆ 7.0       ┆ 12.0      ┆ 22.0      ┆ 38.0     │\n",
       "│ al        ┆           ┆           ┆           ┆   ┆           ┆           ┆           ┆          │\n",
       "│ Kioscos/M ┆ 12.850601 ┆ 5.814194  ┆ 28.075544 ┆ … ┆ 7.1364    ┆ 11.0      ┆ 21.0      ┆ 38.0     │\n",
       "│ axikiosco ┆           ┆           ┆           ┆   ┆           ┆           ┆           ┆          │\n",
       "│ s         ┆           ┆           ┆           ┆   ┆           ┆           ┆           ┆          │\n",
       "│ ENTRETENI ┆ 18.777553 ┆ 7.065762  ┆ 19.0      ┆ … ┆ 9.4545    ┆ 7.0       ┆ 13.0      ┆ 26.0     │\n",
       "│ MIENTO    ┆           ┆           ┆           ┆   ┆           ┆           ┆           ┆          │\n",
       "│ OTROS REF ┆ 0.71946   ┆ 4.0       ┆ 6.0       ┆ … ┆ 4.0       ┆ 6.0       ┆ 6.0       ┆ 6.0      │\n",
       "│ COMIDA    ┆ 19.02737  ┆ 6.895146  ┆ 23.777473 ┆ … ┆ 8.75      ┆ 11.0      ┆ 22.0      ┆ 32.0     │\n",
       "│ Mayorista ┆ 341.31917 ┆ 3.909168  ┆ 25.87234  ┆ … ┆ 4.8846    ┆ 11.0      ┆ 21.0      ┆ 34.0     │\n",
       "│           ┆ 4         ┆           ┆           ┆   ┆           ┆           ┆           ┆          │\n",
       "│ BEBIDA    ┆ 36.492496 ┆ 6.144196  ┆ 18.435294 ┆ … ┆ 8.0       ┆ 7.0       ┆ 17.0      ┆ 24.0     │\n",
       "│ Autoservi ┆ 58.89905  ┆ 5.249761  ┆ 54.083333 ┆ … ┆ 6.3182    ┆ 37.0      ┆ 51.0      ┆ 69.0     │\n",
       "│ cio       ┆           ┆           ┆           ┆   ┆           ┆           ┆           ┆          │\n",
       "└───────────┴───────────┴───────────┴───────────┴───┴───────────┴───────────┴───────────┴──────────┘"
      ]
     },
     "execution_count": 23,
     "metadata": {},
     "output_type": "execute_result"
    }
   ],
   "source": [
    "group_and_describe_with_percentiles(df_without_nulls, \"canal\", numerical)"
   ]
  },
  {
   "cell_type": "code",
   "execution_count": 24,
   "metadata": {},
   "outputs": [
    {
     "data": {
      "text/html": [
       "<div><style>\n",
       ".dataframe > thead > tr,\n",
       ".dataframe > tbody > tr {\n",
       "  text-align: right;\n",
       "  white-space: pre-wrap;\n",
       "}\n",
       "</style>\n",
       "<small>shape: (11, 19)</small><table border=\"1\" class=\"dataframe\"><thead><tr><th>canal</th><th>totalvolumen_mean</th><th>skudistintospromediosxorden_mean</th><th>skudistintostotales_mean</th><th>totalvolumen_median</th><th>skudistintospromediosxorden_median</th><th>skudistintostotales_median</th><th>totalvolumen_std_dev</th><th>skudistintospromediosxorden_std_dev</th><th>skudistintostotales_std_dev</th><th>totalvolumen_p25</th><th>totalvolumen_p50</th><th>totalvolumen_p75</th><th>skudistintospromediosxorden_p25</th><th>skudistintospromediosxorden_p50</th><th>skudistintospromediosxorden_p75</th><th>skudistintostotales_p25</th><th>skudistintostotales_p50</th><th>skudistintostotales_p75</th></tr><tr><td>str</td><td>f64</td><td>f64</td><td>f64</td><td>f64</td><td>f64</td><td>f64</td><td>f64</td><td>f64</td><td>f64</td><td>f64</td><td>f64</td><td>f64</td><td>f64</td><td>f64</td><td>f64</td><td>f64</td><td>f64</td><td>f64</td></tr></thead><tbody><tr><td>&quot;KA Minoristas&quot;</td><td>33.19843</td><td>5.952689</td><td>23.111111</td><td>8.93561</td><td>4.4197</td><td>17.0</td><td>52.849231</td><td>3.645564</td><td>14.76438</td><td>4.8864</td><td>9.42046</td><td>28.58948</td><td>3.0</td><td>4.9</td><td>7.2857</td><td>11.0</td><td>17.0</td><td>34.0</td></tr><tr><td>&quot;Tradicional&quot;</td><td>16.825898</td><td>5.765766</td><td>27.815385</td><td>5.113</td><td>5.0</td><td>22.0</td><td>73.298865</td><td>3.16468</td><td>20.998598</td><td>2.09766</td><td>5.113</td><td>11.05942</td><td>3.5714</td><td>5.0</td><td>7.1389</td><td>12.0</td><td>22.0</td><td>38.0</td></tr><tr><td>&quot;BEBIDA&quot;</td><td>32.453697</td><td>6.20932</td><td>18.118812</td><td>7.8888</td><td>5.625</td><td>15.0</td><td>69.455122</td><td>3.226456</td><td>13.862386</td><td>2.05506</td><td>7.8888</td><td>36.06468</td><td>3.75</td><td>5.625</td><td>8.0</td><td>7.0</td><td>15.0</td><td>24.0</td></tr><tr><td>&quot;ENTRETENIMIENTO&quot;</td><td>18.038128</td><td>7.284276</td><td>19.860759</td><td>6.78</td><td>6.5</td><td>14.0</td><td>38.813941</td><td>3.717107</td><td>16.571318</td><td>2.64</td><td>6.78</td><td>16.2</td><td>4.5</td><td>6.5</td><td>9.6667</td><td>8.0</td><td>14.0</td><td>29.0</td></tr><tr><td>&quot;Kioscos/Maxikioscos&quot;</td><td>14.823838</td><td>5.849775</td><td>27.830694</td><td>4.40692</td><td>5.0</td><td>21.0</td><td>84.713668</td><td>3.314463</td><td>22.342115</td><td>1.61206</td><td>4.40692</td><td>11.12188</td><td>3.6</td><td>5.0</td><td>7.1667</td><td>11.0</td><td>21.0</td><td>38.0</td></tr><tr><td>&quot;Instituciones&quot;</td><td>18.204722</td><td>6.872633</td><td>17.511628</td><td>6.098</td><td>6.0</td><td>16.0</td><td>38.469111</td><td>3.183014</td><td>12.044307</td><td>1.545</td><td>6.098</td><td>15.14662</td><td>4.5</td><td>6.0</td><td>9.7222</td><td>9.0</td><td>16.0</td><td>22.0</td></tr><tr><td>&quot;OTROS REF&quot;</td><td>4.28747</td><td>6.7125</td><td>14.1875</td><td>4.05886</td><td>6.03845</td><td>9.5</td><td>3.170279</td><td>3.261597</td><td>10.380872</td><td>0.93462</td><td>4.33632</td><td>6.6012</td><td>3.875</td><td>6.0769</td><td>10.0</td><td>6.0</td><td>11.0</td><td>25.0</td></tr><tr><td>&quot;Bar/Restaurant&quot;</td><td>25.168753</td><td>7.095233</td><td>27.333333</td><td>20.70388</td><td>8.125</td><td>28.0</td><td>17.600543</td><td>2.461856</td><td>9.0185</td><td>20.70388</td><td>20.70388</td><td>44.57174</td><td>8.125</td><td>8.125</td><td>8.875</td><td>28.0</td><td>28.0</td><td>36.0</td></tr><tr><td>&quot;COMIDA&quot;</td><td>17.925747</td><td>6.894312</td><td>22.821687</td><td>8.10584</td><td>6.4</td><td>21.0</td><td>27.53412</td><td>3.226332</td><td>15.072835</td><td>2.6552</td><td>8.10584</td><td>22.82666</td><td>4.5</td><td>6.4</td><td>8.7</td><td>10.0</td><td>21.0</td><td>31.0</td></tr><tr><td>&quot;Autoservicio&quot;</td><td>54.523032</td><td>5.562718</td><td>52.973118</td><td>26.16478</td><td>4.80625</td><td>51.0</td><td>128.684808</td><td>3.149527</td><td>29.279535</td><td>15.1704</td><td>26.32674</td><td>45.93754</td><td>3.5882</td><td>4.8095</td><td>6.381</td><td>36.0</td><td>51.0</td><td>68.0</td></tr><tr><td>&quot;Mayorista&quot;</td><td>324.150752</td><td>3.968723</td><td>24.264151</td><td>165.45096</td><td>3.5263</td><td>19.0</td><td>628.903331</td><td>1.713022</td><td>19.629404</td><td>64.1352</td><td>165.45096</td><td>325.81554</td><td>3.0</td><td>3.5263</td><td>4.8846</td><td>11.0</td><td>19.0</td><td>32.0</td></tr></tbody></table></div>"
      ],
      "text/plain": [
       "shape: (11, 19)\n",
       "┌───────────┬───────────┬───────────┬───────────┬───┬───────────┬───────────┬───────────┬──────────┐\n",
       "│ canal     ┆ totalvolu ┆ skudistin ┆ skudistin ┆ … ┆ skudistin ┆ skudistin ┆ skudistin ┆ skudisti │\n",
       "│ ---       ┆ men_mean  ┆ tospromed ┆ tostotale ┆   ┆ tospromed ┆ tostotale ┆ tostotale ┆ ntostota │\n",
       "│ str       ┆ ---       ┆ iosxorden ┆ s_mean    ┆   ┆ iosxorden ┆ s_p25     ┆ s_p50     ┆ les_p75  │\n",
       "│           ┆ f64       ┆ _me…      ┆ ---       ┆   ┆ _p7…      ┆ ---       ┆ ---       ┆ ---      │\n",
       "│           ┆           ┆ ---       ┆ f64       ┆   ┆ ---       ┆ f64       ┆ f64       ┆ f64      │\n",
       "│           ┆           ┆ f64       ┆           ┆   ┆ f64       ┆           ┆           ┆          │\n",
       "╞═══════════╪═══════════╪═══════════╪═══════════╪═══╪═══════════╪═══════════╪═══════════╪══════════╡\n",
       "│ KA Minori ┆ 33.19843  ┆ 5.952689  ┆ 23.111111 ┆ … ┆ 7.2857    ┆ 11.0      ┆ 17.0      ┆ 34.0     │\n",
       "│ stas      ┆           ┆           ┆           ┆   ┆           ┆           ┆           ┆          │\n",
       "│ Tradicion ┆ 16.825898 ┆ 5.765766  ┆ 27.815385 ┆ … ┆ 7.1389    ┆ 12.0      ┆ 22.0      ┆ 38.0     │\n",
       "│ al        ┆           ┆           ┆           ┆   ┆           ┆           ┆           ┆          │\n",
       "│ BEBIDA    ┆ 32.453697 ┆ 6.20932   ┆ 18.118812 ┆ … ┆ 8.0       ┆ 7.0       ┆ 15.0      ┆ 24.0     │\n",
       "│ ENTRETENI ┆ 18.038128 ┆ 7.284276  ┆ 19.860759 ┆ … ┆ 9.6667    ┆ 8.0       ┆ 14.0      ┆ 29.0     │\n",
       "│ MIENTO    ┆           ┆           ┆           ┆   ┆           ┆           ┆           ┆          │\n",
       "│ Kioscos/M ┆ 14.823838 ┆ 5.849775  ┆ 27.830694 ┆ … ┆ 7.1667    ┆ 11.0      ┆ 21.0      ┆ 38.0     │\n",
       "│ axikiosco ┆           ┆           ┆           ┆   ┆           ┆           ┆           ┆          │\n",
       "│ s         ┆           ┆           ┆           ┆   ┆           ┆           ┆           ┆          │\n",
       "│ Instituci ┆ 18.204722 ┆ 6.872633  ┆ 17.511628 ┆ … ┆ 9.7222    ┆ 9.0       ┆ 16.0      ┆ 22.0     │\n",
       "│ ones      ┆           ┆           ┆           ┆   ┆           ┆           ┆           ┆          │\n",
       "│ OTROS REF ┆ 4.28747   ┆ 6.7125    ┆ 14.1875   ┆ … ┆ 10.0      ┆ 6.0       ┆ 11.0      ┆ 25.0     │\n",
       "│ Bar/Resta ┆ 25.168753 ┆ 7.095233  ┆ 27.333333 ┆ … ┆ 8.875     ┆ 28.0      ┆ 28.0      ┆ 36.0     │\n",
       "│ urant     ┆           ┆           ┆           ┆   ┆           ┆           ┆           ┆          │\n",
       "│ COMIDA    ┆ 17.925747 ┆ 6.894312  ┆ 22.821687 ┆ … ┆ 8.7       ┆ 10.0      ┆ 21.0      ┆ 31.0     │\n",
       "│ Autoservi ┆ 54.523032 ┆ 5.562718  ┆ 52.973118 ┆ … ┆ 6.381     ┆ 36.0      ┆ 51.0      ┆ 68.0     │\n",
       "│ cio       ┆           ┆           ┆           ┆   ┆           ┆           ┆           ┆          │\n",
       "│ Mayorista ┆ 324.15075 ┆ 3.968723  ┆ 24.264151 ┆ … ┆ 4.8846    ┆ 11.0      ┆ 19.0      ┆ 32.0     │\n",
       "│           ┆ 2         ┆           ┆           ┆   ┆           ┆           ┆           ┆          │\n",
       "└───────────┴───────────┴───────────┴───────────┴───┴───────────┴───────────┴───────────┴──────────┘"
      ]
     },
     "execution_count": 24,
     "metadata": {},
     "output_type": "execute_result"
    }
   ],
   "source": [
    "group_and_describe_with_percentiles(atributes_updated, \"canal\", numerical)"
   ]
  },
  {
   "cell_type": "code",
   "execution_count": 25,
   "metadata": {},
   "outputs": [],
   "source": [
    "# Me quedo con el dataset con datos imputados y borro el temporal\n",
    "atributes = atributes_updated\n",
    "del atributes_updated"
   ]
  },
  {
   "cell_type": "markdown",
   "metadata": {},
   "source": [
    "##### **Análisis de outliers**\n",
    "\n",
    "* No observamos valores que parecieran estar fuera de rango (por ejemplo: volúmenes menores que 0), pero si encontramos outliers en la variable que nos entrega el volumen de hectolitros adquiridos por el cliente en los tres meses cerrados de análisis (Junio a Agosto)\n",
    "\n",
    "* Al revisar los outliers vemos que en el volumen es en donde es más determinante su presencia, pues el 98% está por debajo de 100 hectolitros, pero luego tenemos un 2% que varia entre 100 y 4274, que además tiene distribuciones diferentes para la variedad de productos (skudistintostotales) y la cantidad de sku por orden (skudistintospromediosxorden) que pide. Si bien esto es algo a considerar al momento de hacer predicciones, no es algo en lo que debamos intervenir necesariamente, por lo que de momento quedará como está."
   ]
  },
  {
   "cell_type": "code",
   "execution_count": 26,
   "metadata": {},
   "outputs": [
    {
     "name": "stdout",
     "output_type": "stream",
     "text": [
      "shape: (9, 4)\n",
      "┌────────────┬──────────────┬─────────────────────────────┬─────────────────────┐\n",
      "│ statistic  ┆ totalvolumen ┆ skudistintospromediosxorden ┆ skudistintostotales │\n",
      "│ ---        ┆ ---          ┆ ---                         ┆ ---                 │\n",
      "│ str        ┆ f64          ┆ f64                         ┆ f64                 │\n",
      "╞════════════╪══════════════╪═════════════════════════════╪═════════════════════╡\n",
      "│ count      ┆ 4400.0       ┆ 4400.0                      ┆ 4400.0              │\n",
      "│ null_count ┆ 0.0          ┆ 0.0                         ┆ 0.0                 │\n",
      "│ mean       ┆ 22.272537    ┆ 5.911031                    ┆ 27.832727           │\n",
      "│ std        ┆ 106.642437   ┆ 3.227491                    ┆ 21.640289           │\n",
      "│ min        ┆ 0.02124      ┆ 0.7027                      ┆ 1.0                 │\n",
      "│ 25%        ┆ 2.12124      ┆ 3.6667                      ┆ 12.0                │\n",
      "│ 50%        ┆ 5.6011       ┆ 5.1429                      ┆ 22.0                │\n",
      "│ 75%        ┆ 13.95536     ┆ 7.3542                      ┆ 38.0                │\n",
      "│ max        ┆ 4274.44416   ┆ 33.0                        ┆ 157.0               │\n",
      "└────────────┴──────────────┴─────────────────────────────┴─────────────────────┘\n"
     ]
    },
    {
     "data": {
      "image/png": "[encoded data removed]",
      "text/plain": [
       "<Figure size 1500x500 with 3 Axes>"
      ]
     },
     "metadata": {},
     "output_type": "display_data"
    },
    {
     "name": "stdout",
     "output_type": "stream",
     "text": [
      "shape: (16, 2)\n",
      "┌────────────┬────────────────────┐\n",
      "│ volume_bin ┆ poc_distinct_count │\n",
      "│ ---        ┆ ---                │\n",
      "│ f64        ┆ u32                │\n",
      "╞════════════╪════════════════════╡\n",
      "│ 0.0        ┆ 4261               │\n",
      "│ 100.0      ┆ 61                 │\n",
      "│ 200.0      ┆ 28                 │\n",
      "│ 300.0      ┆ 15                 │\n",
      "│ 400.0      ┆ 7                  │\n",
      "│ 500.0      ┆ 4                  │\n",
      "│ 600.0      ┆ 5                  │\n",
      "│ 700.0      ┆ 3                  │\n",
      "│ 800.0      ┆ 3                  │\n",
      "│ 900.0      ┆ 2                  │\n",
      "│ 1000.0     ┆ 3                  │\n",
      "│ 1100.0     ┆ 2                  │\n",
      "│ 1200.0     ┆ 1                  │\n",
      "│ 1300.0     ┆ 1                  │\n",
      "│ 1600.0     ┆ 3                  │\n",
      "│ 4200.0     ┆ 1                  │\n",
      "└────────────┴────────────────────┘\n"
     ]
    }
   ],
   "source": [
    "# measures of central tendency for numerical data\n",
    "print(atributes[numerical].describe())\n",
    "plot_histograms(atributes, numerical)\n",
    "# Contar los valores distintos de 'pocr' en bloques de 500 en la columna 'totalvolumen'\n",
    "result = count_distinct_in_bins(atributes, volume_column=\"totalvolumen\", column=\"poc\", bin_size=100)\n",
    "# Mostrar el resultado\n",
    "print(result)"
   ]
  },
  {
   "cell_type": "code",
   "execution_count": 47,
   "metadata": {},
   "outputs": [
    {
     "name": "stdout",
     "output_type": "stream",
     "text": [
      "shape: (9, 4)\n",
      "┌────────────┬──────────────┬─────────────────────────────┬─────────────────────┐\n",
      "│ statistic  ┆ totalvolumen ┆ skudistintospromediosxorden ┆ skudistintostotales │\n",
      "│ ---        ┆ ---          ┆ ---                         ┆ ---                 │\n",
      "│ str        ┆ f64          ┆ f64                         ┆ f64                 │\n",
      "╞════════════╪══════════════╪═════════════════════════════╪═════════════════════╡\n",
      "│ count      ┆ 4261.0       ┆ 4261.0                      ┆ 4261.0              │\n",
      "│ null_count ┆ 0.0          ┆ 0.0                         ┆ 0.0                 │\n",
      "│ mean       ┆ 10.555502    ┆ 5.949519                    ┆ 27.481342           │\n",
      "│ std        ┆ 14.581388    ┆ 3.193991                    ┆ 21.533846           │\n",
      "│ min        ┆ 0.02124      ┆ 0.75                        ┆ 1.0                 │\n",
      "│ 25%        ┆ 2.03756      ┆ 3.7143                      ┆ 12.0                │\n",
      "│ 50%        ┆ 5.31534      ┆ 5.2                         ┆ 21.0                │\n",
      "│ 75%        ┆ 12.68296     ┆ 7.4                         ┆ 38.0                │\n",
      "│ max        ┆ 99.05214     ┆ 33.0                        ┆ 157.0               │\n",
      "└────────────┴──────────────┴─────────────────────────────┴─────────────────────┘\n"
     ]
    },
    {
     "data": {
      "text/html": [
       "<div><style>\n",
       ".dataframe > thead > tr,\n",
       ".dataframe > tbody > tr {\n",
       "  text-align: right;\n",
       "  white-space: pre-wrap;\n",
       "}\n",
       "</style>\n",
       "<small>shape: (9, 4)</small><table border=\"1\" class=\"dataframe\"><thead><tr><th>statistic</th><th>totalvolumen</th><th>skudistintospromediosxorden</th><th>skudistintostotales</th></tr><tr><td>str</td><td>f64</td><td>f64</td><td>f64</td></tr></thead><tbody><tr><td>&quot;count&quot;</td><td>139.0</td><td>139.0</td><td>139.0</td></tr><tr><td>&quot;null_count&quot;</td><td>0.0</td><td>0.0</td><td>0.0</td></tr><tr><td>&quot;mean&quot;</td><td>381.454472</td><td>4.731182</td><td>38.604317</td></tr><tr><td>&quot;std&quot;</td><td>470.928405</td><td>3.960411</td><td>22.200868</td></tr><tr><td>&quot;min&quot;</td><td>100.71814</td><td>0.7027</td><td>3.0</td></tr><tr><td>&quot;25%&quot;</td><td>135.84414</td><td>2.4831</td><td>24.0</td></tr><tr><td>&quot;50%&quot;</td><td>231.26044</td><td>3.54</td><td>32.0</td></tr><tr><td>&quot;75%&quot;</td><td>409.65216</td><td>5.2222</td><td>51.0</td></tr><tr><td>&quot;max&quot;</td><td>4274.44416</td><td>25.6923</td><td>112.0</td></tr></tbody></table></div>"
      ],
      "text/plain": [
       "shape: (9, 4)\n",
       "┌────────────┬──────────────┬─────────────────────────────┬─────────────────────┐\n",
       "│ statistic  ┆ totalvolumen ┆ skudistintospromediosxorden ┆ skudistintostotales │\n",
       "│ ---        ┆ ---          ┆ ---                         ┆ ---                 │\n",
       "│ str        ┆ f64          ┆ f64                         ┆ f64                 │\n",
       "╞════════════╪══════════════╪═════════════════════════════╪═════════════════════╡\n",
       "│ count      ┆ 139.0        ┆ 139.0                       ┆ 139.0               │\n",
       "│ null_count ┆ 0.0          ┆ 0.0                         ┆ 0.0                 │\n",
       "│ mean       ┆ 381.454472   ┆ 4.731182                    ┆ 38.604317           │\n",
       "│ std        ┆ 470.928405   ┆ 3.960411                    ┆ 22.200868           │\n",
       "│ min        ┆ 100.71814    ┆ 0.7027                      ┆ 3.0                 │\n",
       "│ 25%        ┆ 135.84414    ┆ 2.4831                      ┆ 24.0                │\n",
       "│ 50%        ┆ 231.26044    ┆ 3.54                        ┆ 32.0                │\n",
       "│ 75%        ┆ 409.65216    ┆ 5.2222                      ┆ 51.0                │\n",
       "│ max        ┆ 4274.44416   ┆ 25.6923                     ┆ 112.0               │\n",
       "└────────────┴──────────────┴─────────────────────────────┴─────────────────────┘"
      ]
     },
     "execution_count": 47,
     "metadata": {},
     "output_type": "execute_result"
    }
   ],
   "source": [
    "# Filtrar los resultados para mostrar solo aquellos clientes con volumen de compra menores o iguales a 100 (97% de los datos)\n",
    "outliers = atributes.filter(pl.col(\"totalvolumen\") > 100)\n",
    "filtered_result = atributes.filter(pl.col(\"totalvolumen\") <= 100)\n",
    "print(filtered_result[numerical].describe())\n",
    "outliers[numerical].describe()"
   ]
  },
  {
   "cell_type": "code",
   "execution_count": 29,
   "metadata": {},
   "outputs": [
    {
     "data": {
      "image/png": "[encoded data removed]",
      "text/plain": [
       "<Figure size 1500x500 with 3 Axes>"
      ]
     },
     "metadata": {},
     "output_type": "display_data"
    },
    {
     "data": {
      "image/png": "[encoded data removed]",
      "text/plain": [
       "<Figure size 1500x500 with 3 Axes>"
      ]
     },
     "metadata": {},
     "output_type": "display_data"
    }
   ],
   "source": [
    "\n",
    "plot_histograms(filtered_result, numerical)\n",
    "plot_histograms(outliers, numerical)"
   ]
  },
  {
   "cell_type": "code",
   "execution_count": 46,
   "metadata": {},
   "outputs": [
    {
     "data": {
      "image/png": "[encoded data removed]",
      "text/plain": [
       "<Figure size 1200x600 with 3 Axes>"
      ]
     },
     "metadata": {},
     "output_type": "display_data"
    },
    {
     "data": {
      "image/png": "[encoded data removed]",
      "text/plain": [
       "<Figure size 1200x600 with 3 Axes>"
      ]
     },
     "metadata": {},
     "output_type": "display_data"
    }
   ],
   "source": [
    "plot_boxplots(filtered_result, numerical)\n",
    "plot_boxplots(outliers, numerical)"
   ]
  },
  {
   "cell_type": "code",
   "execution_count": 31,
   "metadata": {},
   "outputs": [],
   "source": [
    "atributes.write_csv(\"../data/processed/atributes.csv\")"
   ]
  },
  {
   "cell_type": "markdown",
   "metadata": {},
   "source": [
    "### Datos de transacciones de los clientes"
   ]
  },
  {
   "cell_type": "markdown",
   "metadata": {},
   "source": [
    "#### Calidad de los datos:\n",
    "* Revisar valores nulos\n",
    "* Revisar valores fuera de rango\n",
    "* Cuantificar outliers\n",
    "\n",
    "Transformaciones y/o agregaciones:\n",
    "\n",
    "* Convertir invoice_date a un formato de fecha: Aunque actualmente es un entero,convertiremos la variable invoice_date a un tipo de dato de fecha para realizar análisis temporales.\n",
    "\n",
    "* Crear dataset aparte con agrupación por cliente: Dado que estamos interesados en el comportamiento de compra de los clientes, vamos a agrupar los datos por account_id para analizar patrones de compra individuales.\n",
    "\n",
    "* Crear dataset aparte con agrupación por item: Dado que también estamos interesados en el comportamiento de compra sobre los items, vamos a agrupar los datos por sku_id para analizar patrones de compra que se dan en general para los items."
   ]
  },
  {
   "cell_type": "markdown",
   "metadata": {},
   "source": [
    "##### Calidad de los datos:\n",
    "* Revisar valores nulos --> No hay valores nulos en este dataset\n",
    "* Revisar valores fuera de rango --> no se identifican valores fuera de rango (ejemplo: cantidad de bultos comprados del producto negativos )\n",
    "* Cuantificar outliers --> vemos que hay bastantes outliers en la cantidad de bultos por SKU que se compran, lo cual no ocurre cuando vemos los datos como canastas y calculamos la cantidad de sku por canasta."
   ]
  },
  {
   "cell_type": "code",
   "execution_count": 32,
   "metadata": {},
   "outputs": [
    {
     "data": {
      "text/html": [
       "<div><style>\n",
       ".dataframe > thead > tr,\n",
       ".dataframe > tbody > tr {\n",
       "  text-align: right;\n",
       "  white-space: pre-wrap;\n",
       "}\n",
       "</style>\n",
       "<small>shape: (6, 3)</small><table border=\"1\" class=\"dataframe\"><thead><tr><th>column</th><th>null_count</th><th>null_percentage</th></tr><tr><td>str</td><td>u32</td><td>f64</td></tr></thead><tbody><tr><td>&quot;&quot;</td><td>0</td><td>0.0</td></tr><tr><td>&quot;account_id&quot;</td><td>0</td><td>0.0</td></tr><tr><td>&quot;sku_id&quot;</td><td>0</td><td>0.0</td></tr><tr><td>&quot;invoice_date&quot;</td><td>0</td><td>0.0</td></tr><tr><td>&quot;order_id&quot;</td><td>0</td><td>0.0</td></tr><tr><td>&quot;items_phys_cases&quot;</td><td>0</td><td>0.0</td></tr></tbody></table></div>"
      ],
      "text/plain": [
       "shape: (6, 3)\n",
       "┌──────────────────┬────────────┬─────────────────┐\n",
       "│ column           ┆ null_count ┆ null_percentage │\n",
       "│ ---              ┆ ---        ┆ ---             │\n",
       "│ str              ┆ u32        ┆ f64             │\n",
       "╞══════════════════╪════════════╪═════════════════╡\n",
       "│                  ┆ 0          ┆ 0.0             │\n",
       "│ account_id       ┆ 0          ┆ 0.0             │\n",
       "│ sku_id           ┆ 0          ┆ 0.0             │\n",
       "│ invoice_date     ┆ 0          ┆ 0.0             │\n",
       "│ order_id         ┆ 0          ┆ 0.0             │\n",
       "│ items_phys_cases ┆ 0          ┆ 0.0             │\n",
       "└──────────────────┴────────────┴─────────────────┘"
      ]
     },
     "execution_count": 32,
     "metadata": {},
     "output_type": "execute_result"
    }
   ],
   "source": [
    "check_null_values(transactions)"
   ]
  },
  {
   "cell_type": "code",
   "execution_count": 33,
   "metadata": {},
   "outputs": [
    {
     "data": {
      "text/html": [
       "<div><style>\n",
       ".dataframe > thead > tr,\n",
       ".dataframe > tbody > tr {\n",
       "  text-align: right;\n",
       "  white-space: pre-wrap;\n",
       "}\n",
       "</style>\n",
       "<small>shape: (5, 6)</small><table border=\"1\" class=\"dataframe\"><thead><tr><th></th><th>account_id</th><th>sku_id</th><th>invoice_date</th><th>order_id</th><th>items_phys_cases</th></tr><tr><td>i64</td><td>i64</td><td>i64</td><td>i64</td><td>str</td><td>f64</td></tr></thead><tbody><tr><td>0</td><td>430606</td><td>7038</td><td>20220729</td><td>&quot;512-3880249-0&quot;</td><td>100.0</td></tr><tr><td>1</td><td>323267</td><td>14933</td><td>20220729</td><td>&quot;512-3882307-0&quot;</td><td>1.0</td></tr><tr><td>2</td><td>357825</td><td>21971</td><td>20220723</td><td>&quot;512-3852880-0&quot;</td><td>8.0</td></tr><tr><td>3</td><td>444926</td><td>7038</td><td>20220805</td><td>&quot;512-3913163-0&quot;</td><td>20.0</td></tr><tr><td>4</td><td>450771</td><td>7030</td><td>20220816</td><td>&quot;512-3957000-0&quot;</td><td>5.0</td></tr></tbody></table></div>"
      ],
      "text/plain": [
       "shape: (5, 6)\n",
       "┌─────┬────────────┬────────┬──────────────┬───────────────┬──────────────────┐\n",
       "│     ┆ account_id ┆ sku_id ┆ invoice_date ┆ order_id      ┆ items_phys_cases │\n",
       "│ --- ┆ ---        ┆ ---    ┆ ---          ┆ ---           ┆ ---              │\n",
       "│ i64 ┆ i64        ┆ i64    ┆ i64          ┆ str           ┆ f64              │\n",
       "╞═════╪════════════╪════════╪══════════════╪═══════════════╪══════════════════╡\n",
       "│ 0   ┆ 430606     ┆ 7038   ┆ 20220729     ┆ 512-3880249-0 ┆ 100.0            │\n",
       "│ 1   ┆ 323267     ┆ 14933  ┆ 20220729     ┆ 512-3882307-0 ┆ 1.0              │\n",
       "│ 2   ┆ 357825     ┆ 21971  ┆ 20220723     ┆ 512-3852880-0 ┆ 8.0              │\n",
       "│ 3   ┆ 444926     ┆ 7038   ┆ 20220805     ┆ 512-3913163-0 ┆ 20.0             │\n",
       "│ 4   ┆ 450771     ┆ 7030   ┆ 20220816     ┆ 512-3957000-0 ┆ 5.0              │\n",
       "└─────┴────────────┴────────┴──────────────┴───────────────┴──────────────────┘"
      ]
     },
     "execution_count": 33,
     "metadata": {},
     "output_type": "execute_result"
    }
   ],
   "source": [
    "transactions.head()"
   ]
  },
  {
   "cell_type": "code",
   "execution_count": 34,
   "metadata": {},
   "outputs": [
    {
     "name": "stdout",
     "output_type": "stream",
     "text": [
      "shape: (9, 2)\n",
      "┌────────────┬───────────┐\n",
      "│ statistic  ┆ value     │\n",
      "│ ---        ┆ ---       │\n",
      "│ str        ┆ f64       │\n",
      "╞════════════╪═══════════╡\n",
      "│ count      ┆ 280828.0  │\n",
      "│ null_count ┆ 0.0       │\n",
      "│ mean       ┆ 3.967979  │\n",
      "│ std        ┆ 18.842399 │\n",
      "│ min        ┆ 0.083333  │\n",
      "│ 25%        ┆ 1.0       │\n",
      "│ 50%        ┆ 1.0       │\n",
      "│ 75%        ┆ 2.0       │\n",
      "│ max        ┆ 2000.0    │\n",
      "└────────────┴───────────┘\n"
     ]
    },
    {
     "data": {
      "image/png": "[encoded data removed]",
      "text/plain": [
       "<Figure size 400x600 with 1 Axes>"
      ]
     },
     "metadata": {},
     "output_type": "display_data"
    }
   ],
   "source": [
    "print(transactions['items_phys_cases'].describe())\n",
    "plot_boxplots(transactions, [\"items_phys_cases\"])"
   ]
  },
  {
   "cell_type": "code",
   "execution_count": 35,
   "metadata": {},
   "outputs": [
    {
     "name": "stdout",
     "output_type": "stream",
     "text": [
      "shape: (9, 2)\n",
      "┌────────────┬─────────┐\n",
      "│ statistic  ┆ value   │\n",
      "│ ---        ┆ ---     │\n",
      "│ str        ┆ f64     │\n",
      "╞════════════╪═════════╡\n",
      "│ count      ┆ 45552.0 │\n",
      "│ null_count ┆ 0.0     │\n",
      "│ mean       ┆ 1.0     │\n",
      "│ std        ┆ 0.0     │\n",
      "│ min        ┆ 1.0     │\n",
      "│ 25%        ┆ 1.0     │\n",
      "│ 50%        ┆ 1.0     │\n",
      "│ 75%        ┆ 1.0     │\n",
      "│ max        ┆ 1.0     │\n",
      "└────────────┴─────────┘\n"
     ]
    },
    {
     "data": {
      "image/png": "[encoded data removed]",
      "text/plain": [
       "<Figure size 400x600 with 1 Axes>"
      ]
     },
     "metadata": {},
     "output_type": "display_data"
    }
   ],
   "source": [
    "result = count_distinct_grouped_by(transactions, y_column=\"account_id\", x_columns=['invoice_date','account_id',\"order_id\"],z_columns=['invoice_date','account_id',\"order_id\"])\n",
    "print(result['account_id_distinct_count'].describe())\n",
    "plot_boxplots(result, [\"account_id_distinct_count\"])"
   ]
  },
  {
   "cell_type": "markdown",
   "metadata": {},
   "source": [
    "##### Transformaciones y/o agregaciones:\n",
    "\n",
    "* Convertir invoice_date a un formato de fecha: Aunque actualmente es un entero,convertiremos la variable invoice_date a un tipo de dato de fecha para realizar análisis temporales.\n",
    "\n",
    "* Crear dataset aparte de las canastas que es una agrupación por fecha-usuario-orden que contiene 1 o mas sku y que contiene 1 o más cantidades pedidas de cada sku"
   ]
  },
  {
   "cell_type": "code",
   "execution_count": 36,
   "metadata": {},
   "outputs": [
    {
     "data": {
      "text/html": [
       "<div><style>\n",
       ".dataframe > thead > tr,\n",
       ".dataframe > tbody > tr {\n",
       "  text-align: right;\n",
       "  white-space: pre-wrap;\n",
       "}\n",
       "</style>\n",
       "<small>shape: (5, 6)</small><table border=\"1\" class=\"dataframe\"><thead><tr><th></th><th>account_id</th><th>sku_id</th><th>invoice_date</th><th>order_id</th><th>items_phys_cases</th></tr><tr><td>i64</td><td>str</td><td>str</td><td>date</td><td>str</td><td>i64</td></tr></thead><tbody><tr><td>0</td><td>&quot;430606&quot;</td><td>&quot;7038&quot;</td><td>2022-07-29</td><td>&quot;512-3880249-0&quot;</td><td>100</td></tr><tr><td>1</td><td>&quot;323267&quot;</td><td>&quot;14933&quot;</td><td>2022-07-29</td><td>&quot;512-3882307-0&quot;</td><td>1</td></tr><tr><td>2</td><td>&quot;357825&quot;</td><td>&quot;21971&quot;</td><td>2022-07-23</td><td>&quot;512-3852880-0&quot;</td><td>8</td></tr><tr><td>3</td><td>&quot;444926&quot;</td><td>&quot;7038&quot;</td><td>2022-08-05</td><td>&quot;512-3913163-0&quot;</td><td>20</td></tr><tr><td>4</td><td>&quot;450771&quot;</td><td>&quot;7030&quot;</td><td>2022-08-16</td><td>&quot;512-3957000-0&quot;</td><td>5</td></tr></tbody></table></div>"
      ],
      "text/plain": [
       "shape: (5, 6)\n",
       "┌─────┬────────────┬────────┬──────────────┬───────────────┬──────────────────┐\n",
       "│     ┆ account_id ┆ sku_id ┆ invoice_date ┆ order_id      ┆ items_phys_cases │\n",
       "│ --- ┆ ---        ┆ ---    ┆ ---          ┆ ---           ┆ ---              │\n",
       "│ i64 ┆ str        ┆ str    ┆ date         ┆ str           ┆ i64              │\n",
       "╞═════╪════════════╪════════╪══════════════╪═══════════════╪══════════════════╡\n",
       "│ 0   ┆ 430606     ┆ 7038   ┆ 2022-07-29   ┆ 512-3880249-0 ┆ 100              │\n",
       "│ 1   ┆ 323267     ┆ 14933  ┆ 2022-07-29   ┆ 512-3882307-0 ┆ 1                │\n",
       "│ 2   ┆ 357825     ┆ 21971  ┆ 2022-07-23   ┆ 512-3852880-0 ┆ 8                │\n",
       "│ 3   ┆ 444926     ┆ 7038   ┆ 2022-08-05   ┆ 512-3913163-0 ┆ 20               │\n",
       "│ 4   ┆ 450771     ┆ 7030   ┆ 2022-08-16   ┆ 512-3957000-0 ┆ 5                │\n",
       "└─────┴────────────┴────────┴──────────────┴───────────────┴──────────────────┘"
      ]
     },
     "execution_count": 36,
     "metadata": {},
     "output_type": "execute_result"
    }
   ],
   "source": [
    "# Transform the f64 column to i64 (integer)\n",
    "transactions = transactions.with_columns(\n",
    "    pl.col(\"items_phys_cases\").cast(pl.Int64).alias(\"items_phys_cases\")\n",
    ")\n",
    "# Transform the f64 column to utf8 (string)\n",
    "transactions = transactions.with_columns(pl.col(\"sku_id\").cast(pl.Utf8))\n",
    "transactions = transactions.with_columns(pl.col(\"order_id\").cast(pl.Utf8))\n",
    "transactions = transactions.with_columns(pl.col(\"account_id\").cast(pl.Utf8))\n",
    "transactions = transform_to_date(transactions, ['invoice_date'])\n",
    "transactions.write_csv(\"../data/processed/transactions.csv\")\n",
    "transactions.head()"
   ]
  },
  {
   "cell_type": "code",
   "execution_count": 37,
   "metadata": {},
   "outputs": [
    {
     "name": "stdout",
     "output_type": "stream",
     "text": [
      "shape: (5, 6)\n",
      "┌──────────────┬────────────┬────────────────┬───────────────────┬──────────────┬──────────────────┐\n",
      "│ invoice_date ┆ account_id ┆ order_id       ┆ sku_id            ┆ sku_id_count ┆ items_phys_cases │\n",
      "│ ---          ┆ ---        ┆ ---            ┆ ---               ┆ ---          ┆ ---              │\n",
      "│ date         ┆ str        ┆ str            ┆ list[str]         ┆ u32          ┆ i64              │\n",
      "╞══════════════╪════════════╪════════════════╪═══════════════════╪══════════════╪══════════════════╡\n",
      "│ 2022-05-24   ┆ 74556      ┆ 102-38960010-0 ┆ [\"7038\", \"25030\", ┆ 3            ┆ 5                │\n",
      "│              ┆            ┆                ┆ \"7026\"]           ┆              ┆                  │\n",
      "│ 2022-05-24   ┆ 377860     ┆ 102-38958976-0 ┆ [\"7651\", \"23902\"] ┆ 2            ┆ 2                │\n",
      "│ 2022-05-24   ┆ 391399     ┆ 512-3605195-0  ┆ [\"18361\",         ┆ 12           ┆ 69               │\n",
      "│              ┆            ┆                ┆ \"16667\", …        ┆              ┆                  │\n",
      "│              ┆            ┆                ┆ \"1659\"]           ┆              ┆                  │\n",
      "│ 2022-05-24   ┆ 443775     ┆ 512-3602396-0  ┆ [\"21972\",         ┆ 4            ┆ 5                │\n",
      "│              ┆            ┆                ┆ \"24118\", …        ┆              ┆                  │\n",
      "│              ┆            ┆                ┆ \"14933\"]          ┆              ┆                  │\n",
      "│ 2022-05-24   ┆ 165294     ┆ 512-3603476-0  ┆ [\"19089\",         ┆ 13           ┆ 26               │\n",
      "│              ┆            ┆                ┆ \"19086\", …        ┆              ┆                  │\n",
      "│              ┆            ┆                ┆ \"77812\"]          ┆              ┆                  │\n",
      "└──────────────┴────────────┴────────────────┴───────────────────┴──────────────┴──────────────────┘\n"
     ]
    }
   ],
   "source": [
    "# Now let's try to use the function\n",
    "baskets = create_baskets(\n",
    "    df=transactions,\n",
    "    group_cols=['invoice_date','account_id','order_id'],\n",
    "    list_col='sku_id',\n",
    "    sum_cols=['items_phys_cases'],\n",
    "    sort_cols=['invoice_date']\n",
    ")\n",
    "print(baskets .head())\n",
    "# Save the DataFrame to a Parquet file\n",
    "baskets.write_parquet(\"../data/processed/baskets.parquet\")"
   ]
  },
  {
   "cell_type": "markdown",
   "metadata": {},
   "source": [
    "## EDA --> Preguntas a contestar\n",
    "\n",
    "**Sobre las clientes**\n",
    "* ¿A cúantos clientes se les debe hacer recomendación?\n",
    "* ¿Cuánto compran los clientes?\n",
    "* Si los categorizo por:\n",
    "    * Segmento de negocio\n",
    "    * Concentración\n",
    "    * NSE\n",
    "    * Segmento único\n",
    "    * Canal\n",
    "¿Hay diferencias significativas?\n",
    "¿Hay relación entre los clientes de las distintas categorías?\n",
    "  \n",
    "* ¿Con qué frecuencia los clientes realizan compras?\n",
    "* ¿Cómo varía la frecuencia de compra a lo largo del tiempo?\n",
    "* ¿Cuál es la cantidad de clientes que compran por item disponible para recomendación?\n",
    "* ¿Cuál es el tiempo entre compras consecutivas de los cliente?\n",
    "* ¿Existen clientes con comportamiento de compra repetitivo? ¿Quienes?\n",
    "* ¿Cómo se comportan las diferentes cohortes de clientes a lo largo del tiempo?\n",
    "* ¿Cómo evolucionan las ventas en diferentes cohortes?\n",
    "\n",
    "\n",
    "**Sobre las canastas**\n",
    "* ¿Cúanto es el gasto por canasta?\n",
    "* ¿Cuantas canastas compran los clientes?\n",
    "* ¿Cuántos items compran por canasta?\n",
    "\n",
    "\n",
    "\n",
    "**Sobre los items**\n",
    "* ¿Cuál es la cantidad total de items disponibles para recomendación?\n",
    "* ¿Cuál es la cantidad de items por canasta?\n",
    "* ¿Cuál es la cantidad de items por cliente disponible para recomendación?\n",
    "\n",
    "**Anomalias**\n",
    "\n",
    "* ¿Existen anomalías o irregularidades en la distribución de fechas de compra?\n",
    "* ¿Cómo afectan estas anomalías al negocio?"
   ]
  },
  {
   "cell_type": "markdown",
   "metadata": {},
   "source": [
    "### Análisis sobre los clientes "
   ]
  },
  {
   "cell_type": "markdown",
   "metadata": {},
   "source": [
    "##### ¿A cúantos clientes se les debe hacer recomendación? ¿Cuánto compran los clientes en cada compra? ¿Con qué frecuencia los clientes realizan compras?\n",
    " \n",
    "* R: hay 4400 clientes en la base de datos de atributos y 4535 en la de transacciones.  \n",
    "\n",
    "* R: De las transacciones registradas, podemos notar que se compran, en promedio, 5.7 productos distintos y 17 unidades por compra. También sabemos, por el dataset de atributos , que el 75% de los clientes compró 14 helectrolitros o menos pero que hubo algunos pocos que pasaron los 100 y llegaron hasta 4274. "
   ]
  },
  {
   "cell_type": "code",
   "execution_count": 38,
   "metadata": {},
   "outputs": [
    {
     "data": {
      "text/html": [
       "<div><style>\n",
       ".dataframe > thead > tr,\n",
       ".dataframe > tbody > tr {\n",
       "  text-align: right;\n",
       "  white-space: pre-wrap;\n",
       "}\n",
       "</style>\n",
       "<small>shape: (1, 13)</small><table border=\"1\" class=\"dataframe\"><thead><tr><th>account_id</th><th>sku_id_count_mean</th><th>items_phys_cases_mean</th><th>sku_id_count_median</th><th>items_phys_cases_median</th><th>sku_id_count_std_dev</th><th>items_phys_cases_std_dev</th><th>sku_id_count_p25</th><th>sku_id_count_p50</th><th>sku_id_count_p75</th><th>items_phys_cases_p25</th><th>items_phys_cases_p50</th><th>items_phys_cases_p75</th></tr><tr><td>str</td><td>f64</td><td>f64</td><td>f64</td><td>f64</td><td>f64</td><td>f64</td><td>f64</td><td>f64</td><td>f64</td><td>f64</td><td>f64</td><td>f64</td></tr></thead><tbody><tr><td>null</td><td>5.722985</td><td>16.955941</td><td>5.499669</td><td>15.488864</td><td>2.354361</td><td>9.086522</td><td>4.427122</td><td>5.705182</td><td>7.014333</td><td>11.71731</td><td>16.16097</td><td>21.396251</td></tr></tbody></table></div>"
      ],
      "text/plain": [
       "shape: (1, 13)\n",
       "┌───────────┬───────────┬───────────┬───────────┬───┬───────────┬───────────┬───────────┬──────────┐\n",
       "│ account_i ┆ sku_id_co ┆ items_phy ┆ sku_id_co ┆ … ┆ sku_id_co ┆ items_phy ┆ items_phy ┆ items_ph │\n",
       "│ d         ┆ unt_mean  ┆ s_cases_m ┆ unt_media ┆   ┆ unt_p75   ┆ s_cases_p ┆ s_cases_p ┆ ys_cases │\n",
       "│ ---       ┆ ---       ┆ ean       ┆ n         ┆   ┆ ---       ┆ 25        ┆ 50        ┆ _p75     │\n",
       "│ str       ┆ f64       ┆ ---       ┆ ---       ┆   ┆ f64       ┆ ---       ┆ ---       ┆ ---      │\n",
       "│           ┆           ┆ f64       ┆ f64       ┆   ┆           ┆ f64       ┆ f64       ┆ f64      │\n",
       "╞═══════════╪═══════════╪═══════════╪═══════════╪═══╪═══════════╪═══════════╪═══════════╪══════════╡\n",
       "│ null      ┆ 5.722985  ┆ 16.955941 ┆ 5.499669  ┆ … ┆ 7.014333  ┆ 11.71731  ┆ 16.16097  ┆ 21.39625 │\n",
       "│           ┆           ┆           ┆           ┆   ┆           ┆           ┆           ┆ 1        │\n",
       "└───────────┴───────────┴───────────┴───────────┴───┴───────────┴───────────┴───────────┴──────────┘"
      ]
     },
     "execution_count": 38,
     "metadata": {},
     "output_type": "execute_result"
    }
   ],
   "source": [
    "group_and_describe_with_percentiles(baskets, \"account_id\", ['sku_id_count','items_phys_cases']).select(pl.all().mean())"
   ]
  },
  {
   "cell_type": "code",
   "execution_count": 39,
   "metadata": {},
   "outputs": [
    {
     "name": "stdout",
     "output_type": "stream",
     "text": [
      "4535\n",
      "530\n",
      "4400\n"
     ]
    },
    {
     "data": {
      "text/html": [
       "<div><style>\n",
       ".dataframe > thead > tr,\n",
       ".dataframe > tbody > tr {\n",
       "  text-align: right;\n",
       "  white-space: pre-wrap;\n",
       "}\n",
       "</style>\n",
       "<small>shape: (9, 4)</small><table border=\"1\" class=\"dataframe\"><thead><tr><th>statistic</th><th>totalvolumen</th><th>skudistintospromediosxorden</th><th>skudistintostotales</th></tr><tr><td>str</td><td>f64</td><td>f64</td><td>f64</td></tr></thead><tbody><tr><td>&quot;count&quot;</td><td>4400.0</td><td>4400.0</td><td>4400.0</td></tr><tr><td>&quot;null_count&quot;</td><td>0.0</td><td>0.0</td><td>0.0</td></tr><tr><td>&quot;mean&quot;</td><td>22.272537</td><td>5.911031</td><td>27.832727</td></tr><tr><td>&quot;std&quot;</td><td>106.642437</td><td>3.227491</td><td>21.640289</td></tr><tr><td>&quot;min&quot;</td><td>0.02124</td><td>0.7027</td><td>1.0</td></tr><tr><td>&quot;25%&quot;</td><td>2.12124</td><td>3.6667</td><td>12.0</td></tr><tr><td>&quot;50%&quot;</td><td>5.6011</td><td>5.1429</td><td>22.0</td></tr><tr><td>&quot;75%&quot;</td><td>13.95536</td><td>7.3542</td><td>38.0</td></tr><tr><td>&quot;max&quot;</td><td>4274.44416</td><td>33.0</td><td>157.0</td></tr></tbody></table></div>"
      ],
      "text/plain": [
       "shape: (9, 4)\n",
       "┌────────────┬──────────────┬─────────────────────────────┬─────────────────────┐\n",
       "│ statistic  ┆ totalvolumen ┆ skudistintospromediosxorden ┆ skudistintostotales │\n",
       "│ ---        ┆ ---          ┆ ---                         ┆ ---                 │\n",
       "│ str        ┆ f64          ┆ f64                         ┆ f64                 │\n",
       "╞════════════╪══════════════╪═════════════════════════════╪═════════════════════╡\n",
       "│ count      ┆ 4400.0       ┆ 4400.0                      ┆ 4400.0              │\n",
       "│ null_count ┆ 0.0          ┆ 0.0                         ┆ 0.0                 │\n",
       "│ mean       ┆ 22.272537    ┆ 5.911031                    ┆ 27.832727           │\n",
       "│ std        ┆ 106.642437   ┆ 3.227491                    ┆ 21.640289           │\n",
       "│ min        ┆ 0.02124      ┆ 0.7027                      ┆ 1.0                 │\n",
       "│ 25%        ┆ 2.12124      ┆ 3.6667                      ┆ 12.0                │\n",
       "│ 50%        ┆ 5.6011       ┆ 5.1429                      ┆ 22.0                │\n",
       "│ 75%        ┆ 13.95536     ┆ 7.3542                      ┆ 38.0                │\n",
       "│ max        ┆ 4274.44416   ┆ 33.0                        ┆ 157.0               │\n",
       "└────────────┴──────────────┴─────────────────────────────┴─────────────────────┘"
      ]
     },
     "execution_count": 39,
     "metadata": {},
     "output_type": "execute_result"
    }
   ],
   "source": [
    "print(transactions.select('account_id').unique().height)\n",
    "print(transactions.select('sku_id').unique().height)\n",
    "# measures of central tendency for numerical data\n",
    "print(atributes.select('poc').unique().height)\n",
    "atributes[numerical].describe()"
   ]
  },
  {
   "cell_type": "markdown",
   "metadata": {},
   "source": [
    "#### Si los categorizo ¿Hay diferencias significativas en la categoría? ¿Estas categorías son independientes entre si? \n",
    "\n",
    "A continuación se presentan los resultados por categoría\n",
    "\n",
    "* Segmento de negocio : aunque es homogenea, es importante notar que solo un 21% de los clientes tiene un nivel de uso bajo o nulo de la aplicación (potencialmente descartable para el MVP)\n",
    "* Concentración : No es homogenea y la concentración de otros negocios de otra índole a 150mts2 es de un 90% su agrupamos los niveles alto y medio \n",
    "* NSE : No es homogenea y es importante notar que un 23% está sin datos\n",
    "* Segmento único: No es homogenea y los clientes con capacidad media de compra son el 61%, mientras que el 20% es de baja y el 17% es de alta, el resto no tiene datos\n",
    "* Canal : el 88% de los clientes pertenece al canal tradidicional, Kioscos o Maxikioscos  o Comida\n",
    "\n",
    "* Las categorías no son independientes entre si"
   ]
  },
  {
   "cell_type": "code",
   "execution_count": 40,
   "metadata": {},
   "outputs": [
    {
     "data": {
      "text/plain": [
       "{'bussinesssegment': 4, 'concentracion': 3, 'segmentounico': 5, 'canal': 11}"
      ]
     },
     "execution_count": 40,
     "metadata": {},
     "output_type": "execute_result"
    }
   ],
   "source": [
    "results = count_unique_values(atributes, categorical)\n",
    "results"
   ]
  },
  {
   "cell_type": "code",
   "execution_count": 41,
   "metadata": {},
   "outputs": [
    {
     "name": "stdout",
     "output_type": "stream",
     "text": [
      "shape: (4, 4)\n",
      "┌──────────────────┬────────────────────┬────────────────────┬────────────────┐\n",
      "│ bussinesssegment ┆ poc_distinct_count ┆ total_first_column ┆ poc_percentage │\n",
      "│ ---              ┆ ---                ┆ ---                ┆ ---            │\n",
      "│ str              ┆ u32                ┆ i32                ┆ f64            │\n",
      "╞══════════════════╪════════════════════╪════════════════════╪════════════════╡\n",
      "│ HighUsage        ┆ 1213               ┆ 4400               ┆ 27.568182      │\n",
      "│ PowerUsage       ┆ 1213               ┆ 4400               ┆ 27.568182      │\n",
      "│ MediumUsage      ┆ 1050               ┆ 4400               ┆ 23.863636      │\n",
      "│ MinimalUsage     ┆ 924                ┆ 4400               ┆ 21.0           │\n",
      "└──────────────────┴────────────────────┴────────────────────┴────────────────┘\n"
     ]
    },
    {
     "data": {
      "text/html": [
       "<div><style>\n",
       ".dataframe > thead > tr,\n",
       ".dataframe > tbody > tr {\n",
       "  text-align: right;\n",
       "  white-space: pre-wrap;\n",
       "}\n",
       "</style>\n",
       "<small>shape: (4, 19)</small><table border=\"1\" class=\"dataframe\"><thead><tr><th>bussinesssegment</th><th>totalvolumen_mean</th><th>skudistintospromediosxorden_mean</th><th>skudistintostotales_mean</th><th>totalvolumen_median</th><th>skudistintospromediosxorden_median</th><th>skudistintostotales_median</th><th>totalvolumen_std_dev</th><th>skudistintospromediosxorden_std_dev</th><th>skudistintostotales_std_dev</th><th>totalvolumen_p25</th><th>totalvolumen_p50</th><th>totalvolumen_p75</th><th>skudistintospromediosxorden_p25</th><th>skudistintospromediosxorden_p50</th><th>skudistintospromediosxorden_p75</th><th>skudistintostotales_p25</th><th>skudistintostotales_p50</th><th>skudistintostotales_p75</th></tr><tr><td>str</td><td>f64</td><td>f64</td><td>f64</td><td>f64</td><td>f64</td><td>f64</td><td>f64</td><td>f64</td><td>f64</td><td>f64</td><td>f64</td><td>f64</td><td>f64</td><td>f64</td><td>f64</td><td>f64</td><td>f64</td><td>f64</td></tr></thead><tbody><tr><td>&quot;MediumUsage&quot;</td><td>18.248128</td><td>5.894914</td><td>22.829524</td><td>4.39482</td><td>5.125</td><td>18.0</td><td>62.725376</td><td>3.405179</td><td>17.453096</td><td>1.68592</td><td>4.40312</td><td>10.92036</td><td>3.5714</td><td>5.125</td><td>7.3333</td><td>10.0</td><td>18.0</td><td>30.0</td></tr><tr><td>&quot;MinimalUsage&quot;</td><td>12.052428</td><td>5.919149</td><td>15.71645</td><td>2.22977</td><td>5.1048</td><td>12.0</td><td>69.843063</td><td>3.20535</td><td>12.983267</td><td>0.84192</td><td>2.23986</td><td>6.23052</td><td>3.5833</td><td>5.1429</td><td>7.4545</td><td>6.0</td><td>12.0</td><td>21.0</td></tr><tr><td>&quot;HighUsage&quot;</td><td>30.913514</td><td>5.819817</td><td>30.54493</td><td>6.39194</td><td>5.0</td><td>25.0</td><td>163.597805</td><td>3.183269</td><td>21.541211</td><td>2.79046</td><td>6.39194</td><td>15.22056</td><td>3.625</td><td>5.0</td><td>7.2308</td><td>15.0</td><td>25.0</td><td>42.0</td></tr><tr><td>&quot;PowerUsage&quot;</td><td>24.900324</td><td>6.010012</td><td>38.680956</td><td>9.49644</td><td>5.3103</td><td>33.0</td><td>84.9562</td><td>3.129854</td><td>24.185367</td><td>4.5829</td><td>9.49644</td><td>18.75456</td><td>3.8333</td><td>5.3103</td><td>7.375</td><td>20.0</td><td>33.0</td><td>51.0</td></tr></tbody></table></div>"
      ],
      "text/plain": [
       "shape: (4, 19)\n",
       "┌───────────┬───────────┬───────────┬───────────┬───┬───────────┬───────────┬───────────┬──────────┐\n",
       "│ bussiness ┆ totalvolu ┆ skudistin ┆ skudistin ┆ … ┆ skudistin ┆ skudistin ┆ skudistin ┆ skudisti │\n",
       "│ segment   ┆ men_mean  ┆ tospromed ┆ tostotale ┆   ┆ tospromed ┆ tostotale ┆ tostotale ┆ ntostota │\n",
       "│ ---       ┆ ---       ┆ iosxorden ┆ s_mean    ┆   ┆ iosxorden ┆ s_p25     ┆ s_p50     ┆ les_p75  │\n",
       "│ str       ┆ f64       ┆ _me…      ┆ ---       ┆   ┆ _p7…      ┆ ---       ┆ ---       ┆ ---      │\n",
       "│           ┆           ┆ ---       ┆ f64       ┆   ┆ ---       ┆ f64       ┆ f64       ┆ f64      │\n",
       "│           ┆           ┆ f64       ┆           ┆   ┆ f64       ┆           ┆           ┆          │\n",
       "╞═══════════╪═══════════╪═══════════╪═══════════╪═══╪═══════════╪═══════════╪═══════════╪══════════╡\n",
       "│ MediumUsa ┆ 18.248128 ┆ 5.894914  ┆ 22.829524 ┆ … ┆ 7.3333    ┆ 10.0      ┆ 18.0      ┆ 30.0     │\n",
       "│ ge        ┆           ┆           ┆           ┆   ┆           ┆           ┆           ┆          │\n",
       "│ MinimalUs ┆ 12.052428 ┆ 5.919149  ┆ 15.71645  ┆ … ┆ 7.4545    ┆ 6.0       ┆ 12.0      ┆ 21.0     │\n",
       "│ age       ┆           ┆           ┆           ┆   ┆           ┆           ┆           ┆          │\n",
       "│ HighUsage ┆ 30.913514 ┆ 5.819817  ┆ 30.54493  ┆ … ┆ 7.2308    ┆ 15.0      ┆ 25.0      ┆ 42.0     │\n",
       "│ PowerUsag ┆ 24.900324 ┆ 6.010012  ┆ 38.680956 ┆ … ┆ 7.375     ┆ 20.0      ┆ 33.0      ┆ 51.0     │\n",
       "│ e         ┆           ┆           ┆           ┆   ┆           ┆           ┆           ┆          │\n",
       "└───────────┴───────────┴───────────┴───────────┴───┴───────────┴───────────┴───────────┴──────────┘"
      ]
     },
     "execution_count": 41,
     "metadata": {},
     "output_type": "execute_result"
    }
   ],
   "source": [
    "print(count_distinct_grouped_by(atributes, y_column=\"poc\", x_columns=[\"bussinesssegment\"],z_columns=[\"poc_percentage\"]))\n",
    "group_and_describe_with_percentiles(atributes, \"bussinesssegment\", numerical)"
   ]
  },
  {
   "cell_type": "code",
   "execution_count": 42,
   "metadata": {},
   "outputs": [
    {
     "name": "stdout",
     "output_type": "stream",
     "text": [
      "shape: (3, 4)\n",
      "┌───────────────┬────────────────────┬────────────────────┬────────────────┐\n",
      "│ concentracion ┆ poc_distinct_count ┆ total_first_column ┆ poc_percentage │\n",
      "│ ---           ┆ ---                ┆ ---                ┆ ---            │\n",
      "│ str           ┆ u32                ┆ i32                ┆ f64            │\n",
      "╞═══════════════╪════════════════════╪════════════════════╪════════════════╡\n",
      "│ Alto          ┆ 2319               ┆ 4400               ┆ 52.704545      │\n",
      "│ Medio         ┆ 1954               ┆ 4400               ┆ 44.409091      │\n",
      "│ Bajo          ┆ 127                ┆ 4400               ┆ 2.886364       │\n",
      "└───────────────┴────────────────────┴────────────────────┴────────────────┘\n"
     ]
    },
    {
     "data": {
      "text/html": [
       "<div><style>\n",
       ".dataframe > thead > tr,\n",
       ".dataframe > tbody > tr {\n",
       "  text-align: right;\n",
       "  white-space: pre-wrap;\n",
       "}\n",
       "</style>\n",
       "<small>shape: (3, 19)</small><table border=\"1\" class=\"dataframe\"><thead><tr><th>concentracion</th><th>totalvolumen_mean</th><th>skudistintospromediosxorden_mean</th><th>skudistintostotales_mean</th><th>totalvolumen_median</th><th>skudistintospromediosxorden_median</th><th>skudistintostotales_median</th><th>totalvolumen_std_dev</th><th>skudistintospromediosxorden_std_dev</th><th>skudistintostotales_std_dev</th><th>totalvolumen_p25</th><th>totalvolumen_p50</th><th>totalvolumen_p75</th><th>skudistintospromediosxorden_p25</th><th>skudistintospromediosxorden_p50</th><th>skudistintospromediosxorden_p75</th><th>skudistintostotales_p25</th><th>skudistintostotales_p50</th><th>skudistintostotales_p75</th></tr><tr><td>str</td><td>f64</td><td>f64</td><td>f64</td><td>f64</td><td>f64</td><td>f64</td><td>f64</td><td>f64</td><td>f64</td><td>f64</td><td>f64</td><td>f64</td><td>f64</td><td>f64</td><td>f64</td><td>f64</td><td>f64</td><td>f64</td></tr></thead><tbody><tr><td>&quot;Bajo&quot;</td><td>19.218336</td><td>5.156998</td><td>23.330709</td><td>6.01514</td><td>4.4211</td><td>15.0</td><td>70.596346</td><td>2.633552</td><td>22.222559</td><td>2.32184</td><td>6.01514</td><td>13.63538</td><td>3.1818</td><td>4.4211</td><td>6.65</td><td>10.0</td><td>15.0</td><td>32.0</td></tr><tr><td>&quot;Alto&quot;</td><td>19.318276</td><td>6.483111</td><td>30.451488</td><td>5.64996</td><td>5.75</td><td>24.0</td><td>74.823073</td><td>3.461682</td><td>23.165108</td><td>2.05066</td><td>5.64996</td><td>14.39806</td><td>4.0</td><td>5.75</td><td>8.125</td><td>13.0</td><td>24.0</td><td>43.0</td></tr><tr><td>&quot;Medio&quot;</td><td>25.977151</td><td>5.281097</td><td>25.0174</td><td>5.53681</td><td>4.61065</td><td>20.0</td><td>136.47339</td><td>2.823124</td><td>19.200367</td><td>2.24466</td><td>5.537</td><td>13.3329</td><td>3.3333</td><td>4.6111</td><td>6.4211</td><td>11.0</td><td>20.0</td><td>33.0</td></tr></tbody></table></div>"
      ],
      "text/plain": [
       "shape: (3, 19)\n",
       "┌───────────┬───────────┬───────────┬───────────┬───┬───────────┬───────────┬───────────┬──────────┐\n",
       "│ concentra ┆ totalvolu ┆ skudistin ┆ skudistin ┆ … ┆ skudistin ┆ skudistin ┆ skudistin ┆ skudisti │\n",
       "│ cion      ┆ men_mean  ┆ tospromed ┆ tostotale ┆   ┆ tospromed ┆ tostotale ┆ tostotale ┆ ntostota │\n",
       "│ ---       ┆ ---       ┆ iosxorden ┆ s_mean    ┆   ┆ iosxorden ┆ s_p25     ┆ s_p50     ┆ les_p75  │\n",
       "│ str       ┆ f64       ┆ _me…      ┆ ---       ┆   ┆ _p7…      ┆ ---       ┆ ---       ┆ ---      │\n",
       "│           ┆           ┆ ---       ┆ f64       ┆   ┆ ---       ┆ f64       ┆ f64       ┆ f64      │\n",
       "│           ┆           ┆ f64       ┆           ┆   ┆ f64       ┆           ┆           ┆          │\n",
       "╞═══════════╪═══════════╪═══════════╪═══════════╪═══╪═══════════╪═══════════╪═══════════╪══════════╡\n",
       "│ Bajo      ┆ 19.218336 ┆ 5.156998  ┆ 23.330709 ┆ … ┆ 6.65      ┆ 10.0      ┆ 15.0      ┆ 32.0     │\n",
       "│ Alto      ┆ 19.318276 ┆ 6.483111  ┆ 30.451488 ┆ … ┆ 8.125     ┆ 13.0      ┆ 24.0      ┆ 43.0     │\n",
       "│ Medio     ┆ 25.977151 ┆ 5.281097  ┆ 25.0174   ┆ … ┆ 6.4211    ┆ 11.0      ┆ 20.0      ┆ 33.0     │\n",
       "└───────────┴───────────┴───────────┴───────────┴───┴───────────┴───────────┴───────────┴──────────┘"
      ]
     },
     "execution_count": 42,
     "metadata": {},
     "output_type": "execute_result"
    }
   ],
   "source": [
    "print(count_distinct_grouped_by(atributes, y_column=\"poc\", x_columns=[\"concentracion\"],z_columns=[\"poc_percentage\"]))\n",
    "group_and_describe_with_percentiles(atributes, \"concentracion\", numerical)"
   ]
  },
  {
   "cell_type": "code",
   "execution_count": 43,
   "metadata": {},
   "outputs": [
    {
     "name": "stdout",
     "output_type": "stream",
     "text": [
      "shape: (5, 4)\n",
      "┌───────────────┬────────────────────┬────────────────────┬────────────────┐\n",
      "│ segmentounico ┆ poc_distinct_count ┆ total_first_column ┆ poc_percentage │\n",
      "│ ---           ┆ ---                ┆ ---                ┆ ---            │\n",
      "│ str           ┆ u32                ┆ i32                ┆ f64            │\n",
      "╞═══════════════╪════════════════════╪════════════════════╪════════════════╡\n",
      "│ 4.Activos     ┆ 1934               ┆ 4400               ┆ 43.954545      │\n",
      "│ 1.Inactivos   ┆ 888                ┆ 4400               ┆ 20.181818      │\n",
      "│ 2.Masivos     ┆ 820                ┆ 4400               ┆ 18.636364      │\n",
      "│ 5.Select      ┆ 631                ┆ 4400               ┆ 14.340909      │\n",
      "│ 3.Potenciales ┆ 127                ┆ 4400               ┆ 2.886364       │\n",
      "└───────────────┴────────────────────┴────────────────────┴────────────────┘\n"
     ]
    },
    {
     "data": {
      "text/html": [
       "<div><style>\n",
       ".dataframe > thead > tr,\n",
       ".dataframe > tbody > tr {\n",
       "  text-align: right;\n",
       "  white-space: pre-wrap;\n",
       "}\n",
       "</style>\n",
       "<small>shape: (5, 19)</small><table border=\"1\" class=\"dataframe\"><thead><tr><th>segmentounico</th><th>totalvolumen_mean</th><th>skudistintospromediosxorden_mean</th><th>skudistintostotales_mean</th><th>totalvolumen_median</th><th>skudistintospromediosxorden_median</th><th>skudistintostotales_median</th><th>totalvolumen_std_dev</th><th>skudistintospromediosxorden_std_dev</th><th>skudistintostotales_std_dev</th><th>totalvolumen_p25</th><th>totalvolumen_p50</th><th>totalvolumen_p75</th><th>skudistintospromediosxorden_p25</th><th>skudistintospromediosxorden_p50</th><th>skudistintospromediosxorden_p75</th><th>skudistintostotales_p25</th><th>skudistintostotales_p50</th><th>skudistintostotales_p75</th></tr><tr><td>str</td><td>f64</td><td>f64</td><td>f64</td><td>f64</td><td>f64</td><td>f64</td><td>f64</td><td>f64</td><td>f64</td><td>f64</td><td>f64</td><td>f64</td><td>f64</td><td>f64</td><td>f64</td><td>f64</td><td>f64</td><td>f64</td></tr></thead><tbody><tr><td>&quot;4.Activos&quot;</td><td>18.454372</td><td>6.101257</td><td>30.858842</td><td>7.619305</td><td>5.375</td><td>26.0</td><td>51.234575</td><td>3.15085</td><td>19.749052</td><td>3.2891</td><td>7.62095</td><td>15.78716</td><td>3.8667</td><td>5.375</td><td>7.5</td><td>16.0</td><td>26.0</td><td>41.0</td></tr><tr><td>&quot;2.Masivos&quot;</td><td>9.583716</td><td>5.770779</td><td>19.503659</td><td>4.3525</td><td>5.04285</td><td>16.0</td><td>25.447217</td><td>3.214566</td><td>14.506745</td><td>1.77432</td><td>4.3571</td><td>7.7421</td><td>3.5769</td><td>5.05</td><td>7.2</td><td>9.0</td><td>16.0</td><td>27.0</td></tr><tr><td>&quot;3.Potenciales&quot;</td><td>47.831755</td><td>8.503668</td><td>33.645669</td><td>11.991</td><td>7.7857</td><td>31.0</td><td>181.278135</td><td>3.670715</td><td>16.539768</td><td>6.4103</td><td>11.991</td><td>26.50188</td><td>6.3571</td><td>7.7857</td><td>10.8</td><td>23.0</td><td>31.0</td><td>43.0</td></tr><tr><td>&quot;5.Select&quot;</td><td>73.224607</td><td>6.874734</td><td>50.275753</td><td>17.38062</td><td>6.0147</td><td>47.0</td><td>245.73012</td><td>3.671826</td><td>25.971597</td><td>8.34152</td><td>17.38062</td><td>37.51956</td><td>4.25</td><td>6.0147</td><td>8.9815</td><td>30.0</td><td>47.0</td><td>67.0</td></tr><tr><td>&quot;1.Inactivos&quot;</td><td>2.444146</td><td>4.570655</td><td>12.154279</td><td>1.5582</td><td>4.125</td><td>11.0</td><td>3.545036</td><td>2.339944</td><td>8.181279</td><td>0.73942</td><td>1.55904</td><td>2.95866</td><td>3.0</td><td>4.125</td><td>5.6667</td><td>6.0</td><td>11.0</td><td>16.0</td></tr></tbody></table></div>"
      ],
      "text/plain": [
       "shape: (5, 19)\n",
       "┌───────────┬───────────┬───────────┬───────────┬───┬───────────┬───────────┬───────────┬──────────┐\n",
       "│ segmentou ┆ totalvolu ┆ skudistin ┆ skudistin ┆ … ┆ skudistin ┆ skudistin ┆ skudistin ┆ skudisti │\n",
       "│ nico      ┆ men_mean  ┆ tospromed ┆ tostotale ┆   ┆ tospromed ┆ tostotale ┆ tostotale ┆ ntostota │\n",
       "│ ---       ┆ ---       ┆ iosxorden ┆ s_mean    ┆   ┆ iosxorden ┆ s_p25     ┆ s_p50     ┆ les_p75  │\n",
       "│ str       ┆ f64       ┆ _me…      ┆ ---       ┆   ┆ _p7…      ┆ ---       ┆ ---       ┆ ---      │\n",
       "│           ┆           ┆ ---       ┆ f64       ┆   ┆ ---       ┆ f64       ┆ f64       ┆ f64      │\n",
       "│           ┆           ┆ f64       ┆           ┆   ┆ f64       ┆           ┆           ┆          │\n",
       "╞═══════════╪═══════════╪═══════════╪═══════════╪═══╪═══════════╪═══════════╪═══════════╪══════════╡\n",
       "│ 4.Activos ┆ 18.454372 ┆ 6.101257  ┆ 30.858842 ┆ … ┆ 7.5       ┆ 16.0      ┆ 26.0      ┆ 41.0     │\n",
       "│ 2.Masivos ┆ 9.583716  ┆ 5.770779  ┆ 19.503659 ┆ … ┆ 7.2       ┆ 9.0       ┆ 16.0      ┆ 27.0     │\n",
       "│ 3.Potenci ┆ 47.831755 ┆ 8.503668  ┆ 33.645669 ┆ … ┆ 10.8      ┆ 23.0      ┆ 31.0      ┆ 43.0     │\n",
       "│ ales      ┆           ┆           ┆           ┆   ┆           ┆           ┆           ┆          │\n",
       "│ 5.Select  ┆ 73.224607 ┆ 6.874734  ┆ 50.275753 ┆ … ┆ 8.9815    ┆ 30.0      ┆ 47.0      ┆ 67.0     │\n",
       "│ 1.Inactiv ┆ 2.444146  ┆ 4.570655  ┆ 12.154279 ┆ … ┆ 5.6667    ┆ 6.0       ┆ 11.0      ┆ 16.0     │\n",
       "│ os        ┆           ┆           ┆           ┆   ┆           ┆           ┆           ┆          │\n",
       "└───────────┴───────────┴───────────┴───────────┴───┴───────────┴───────────┴───────────┴──────────┘"
      ]
     },
     "execution_count": 43,
     "metadata": {},
     "output_type": "execute_result"
    }
   ],
   "source": [
    "print(count_distinct_grouped_by(atributes, y_column=\"poc\", x_columns=[\"segmentounico\"],z_columns=[\"poc_percentage\"]))\n",
    "group_and_describe_with_percentiles(atributes, \"segmentounico\", numerical)"
   ]
  },
  {
   "cell_type": "code",
   "execution_count": 44,
   "metadata": {},
   "outputs": [
    {
     "name": "stdout",
     "output_type": "stream",
     "text": [
      "shape: (11, 4)\n",
      "┌─────────────────────┬────────────────────┬────────────────────┬────────────────┐\n",
      "│ canal               ┆ poc_distinct_count ┆ total_first_column ┆ poc_percentage │\n",
      "│ ---                 ┆ ---                ┆ ---                ┆ ---            │\n",
      "│ str                 ┆ u32                ┆ i32                ┆ f64            │\n",
      "╞═════════════════════╪════════════════════╪════════════════════╪════════════════╡\n",
      "│ Tradicional         ┆ 2665               ┆ 4400               ┆ 60.568182      │\n",
      "│ Kioscos/Maxikioscos ┆ 821                ┆ 4400               ┆ 18.659091      │\n",
      "│ COMIDA              ┆ 415                ┆ 4400               ┆ 9.431818       │\n",
      "│ Autoservicio        ┆ 186                ┆ 4400               ┆ 4.227273       │\n",
      "│ BEBIDA              ┆ 101                ┆ 4400               ┆ 2.295455       │\n",
      "│ ENTRETENIMIENTO     ┆ 79                 ┆ 4400               ┆ 1.795455       │\n",
      "│ Mayorista           ┆ 53                 ┆ 4400               ┆ 1.204545       │\n",
      "│ Instituciones       ┆ 43                 ┆ 4400               ┆ 0.977273       │\n",
      "│ KA Minoristas       ┆ 18                 ┆ 4400               ┆ 0.409091       │\n",
      "│ OTROS REF           ┆ 16                 ┆ 4400               ┆ 0.363636       │\n",
      "│ Bar/Restaurant      ┆ 3                  ┆ 4400               ┆ 0.068182       │\n",
      "└─────────────────────┴────────────────────┴────────────────────┴────────────────┘\n"
     ]
    },
    {
     "data": {
      "text/html": [
       "<div><style>\n",
       ".dataframe > thead > tr,\n",
       ".dataframe > tbody > tr {\n",
       "  text-align: right;\n",
       "  white-space: pre-wrap;\n",
       "}\n",
       "</style>\n",
       "<small>shape: (11, 19)</small><table border=\"1\" class=\"dataframe\"><thead><tr><th>canal</th><th>totalvolumen_mean</th><th>skudistintospromediosxorden_mean</th><th>skudistintostotales_mean</th><th>totalvolumen_median</th><th>skudistintospromediosxorden_median</th><th>skudistintostotales_median</th><th>totalvolumen_std_dev</th><th>skudistintospromediosxorden_std_dev</th><th>skudistintostotales_std_dev</th><th>totalvolumen_p25</th><th>totalvolumen_p50</th><th>totalvolumen_p75</th><th>skudistintospromediosxorden_p25</th><th>skudistintospromediosxorden_p50</th><th>skudistintospromediosxorden_p75</th><th>skudistintostotales_p25</th><th>skudistintostotales_p50</th><th>skudistintostotales_p75</th></tr><tr><td>str</td><td>f64</td><td>f64</td><td>f64</td><td>f64</td><td>f64</td><td>f64</td><td>f64</td><td>f64</td><td>f64</td><td>f64</td><td>f64</td><td>f64</td><td>f64</td><td>f64</td><td>f64</td><td>f64</td><td>f64</td><td>f64</td></tr></thead><tbody><tr><td>&quot;OTROS REF&quot;</td><td>4.28747</td><td>6.7125</td><td>14.1875</td><td>4.05886</td><td>6.03845</td><td>9.5</td><td>3.170279</td><td>3.261597</td><td>10.380872</td><td>0.93462</td><td>4.33632</td><td>6.6012</td><td>3.875</td><td>6.0769</td><td>10.0</td><td>6.0</td><td>11.0</td><td>25.0</td></tr><tr><td>&quot;KA Minoristas&quot;</td><td>33.19843</td><td>5.952689</td><td>23.111111</td><td>8.93561</td><td>4.4197</td><td>17.0</td><td>52.849231</td><td>3.645564</td><td>14.76438</td><td>4.8864</td><td>9.42046</td><td>28.58948</td><td>3.0</td><td>4.9</td><td>7.2857</td><td>11.0</td><td>17.0</td><td>34.0</td></tr><tr><td>&quot;ENTRETENIMIENTO&quot;</td><td>18.038128</td><td>7.284276</td><td>19.860759</td><td>6.78</td><td>6.5</td><td>14.0</td><td>38.813941</td><td>3.717107</td><td>16.571318</td><td>2.64</td><td>6.78</td><td>16.2</td><td>4.5</td><td>6.5</td><td>9.6667</td><td>8.0</td><td>14.0</td><td>29.0</td></tr><tr><td>&quot;BEBIDA&quot;</td><td>32.453697</td><td>6.20932</td><td>18.118812</td><td>7.8888</td><td>5.625</td><td>15.0</td><td>69.455122</td><td>3.226456</td><td>13.862386</td><td>2.05506</td><td>7.8888</td><td>36.06468</td><td>3.75</td><td>5.625</td><td>8.0</td><td>7.0</td><td>15.0</td><td>24.0</td></tr><tr><td>&quot;Autoservicio&quot;</td><td>54.523032</td><td>5.562718</td><td>52.973118</td><td>26.16478</td><td>4.80625</td><td>51.0</td><td>128.684808</td><td>3.149527</td><td>29.279535</td><td>15.1704</td><td>26.32674</td><td>45.93754</td><td>3.5882</td><td>4.8095</td><td>6.381</td><td>36.0</td><td>51.0</td><td>68.0</td></tr><tr><td>&quot;Tradicional&quot;</td><td>16.825898</td><td>5.765766</td><td>27.815385</td><td>5.113</td><td>5.0</td><td>22.0</td><td>73.298865</td><td>3.16468</td><td>20.998598</td><td>2.09766</td><td>5.113</td><td>11.05942</td><td>3.5714</td><td>5.0</td><td>7.1389</td><td>12.0</td><td>22.0</td><td>38.0</td></tr><tr><td>&quot;Bar/Restaurant&quot;</td><td>25.168753</td><td>7.095233</td><td>27.333333</td><td>20.70388</td><td>8.125</td><td>28.0</td><td>17.600543</td><td>2.461856</td><td>9.0185</td><td>20.70388</td><td>20.70388</td><td>44.57174</td><td>8.125</td><td>8.125</td><td>8.875</td><td>28.0</td><td>28.0</td><td>36.0</td></tr><tr><td>&quot;COMIDA&quot;</td><td>17.925747</td><td>6.894312</td><td>22.821687</td><td>8.10584</td><td>6.4</td><td>21.0</td><td>27.53412</td><td>3.226332</td><td>15.072835</td><td>2.6552</td><td>8.10584</td><td>22.82666</td><td>4.5</td><td>6.4</td><td>8.7</td><td>10.0</td><td>21.0</td><td>31.0</td></tr><tr><td>&quot;Kioscos/Maxikioscos&quot;</td><td>14.823838</td><td>5.849775</td><td>27.830694</td><td>4.40692</td><td>5.0</td><td>21.0</td><td>84.713668</td><td>3.314463</td><td>22.342115</td><td>1.61206</td><td>4.40692</td><td>11.12188</td><td>3.6</td><td>5.0</td><td>7.1667</td><td>11.0</td><td>21.0</td><td>38.0</td></tr><tr><td>&quot;Mayorista&quot;</td><td>324.150752</td><td>3.968723</td><td>24.264151</td><td>165.45096</td><td>3.5263</td><td>19.0</td><td>628.903331</td><td>1.713022</td><td>19.629404</td><td>64.1352</td><td>165.45096</td><td>325.81554</td><td>3.0</td><td>3.5263</td><td>4.8846</td><td>11.0</td><td>19.0</td><td>32.0</td></tr><tr><td>&quot;Instituciones&quot;</td><td>18.204722</td><td>6.872633</td><td>17.511628</td><td>6.098</td><td>6.0</td><td>16.0</td><td>38.469111</td><td>3.183014</td><td>12.044307</td><td>1.545</td><td>6.098</td><td>15.14662</td><td>4.5</td><td>6.0</td><td>9.7222</td><td>9.0</td><td>16.0</td><td>22.0</td></tr></tbody></table></div>"
      ],
      "text/plain": [
       "shape: (11, 19)\n",
       "┌───────────┬───────────┬───────────┬───────────┬───┬───────────┬───────────┬───────────┬──────────┐\n",
       "│ canal     ┆ totalvolu ┆ skudistin ┆ skudistin ┆ … ┆ skudistin ┆ skudistin ┆ skudistin ┆ skudisti │\n",
       "│ ---       ┆ men_mean  ┆ tospromed ┆ tostotale ┆   ┆ tospromed ┆ tostotale ┆ tostotale ┆ ntostota │\n",
       "│ str       ┆ ---       ┆ iosxorden ┆ s_mean    ┆   ┆ iosxorden ┆ s_p25     ┆ s_p50     ┆ les_p75  │\n",
       "│           ┆ f64       ┆ _me…      ┆ ---       ┆   ┆ _p7…      ┆ ---       ┆ ---       ┆ ---      │\n",
       "│           ┆           ┆ ---       ┆ f64       ┆   ┆ ---       ┆ f64       ┆ f64       ┆ f64      │\n",
       "│           ┆           ┆ f64       ┆           ┆   ┆ f64       ┆           ┆           ┆          │\n",
       "╞═══════════╪═══════════╪═══════════╪═══════════╪═══╪═══════════╪═══════════╪═══════════╪══════════╡\n",
       "│ OTROS REF ┆ 4.28747   ┆ 6.7125    ┆ 14.1875   ┆ … ┆ 10.0      ┆ 6.0       ┆ 11.0      ┆ 25.0     │\n",
       "│ KA Minori ┆ 33.19843  ┆ 5.952689  ┆ 23.111111 ┆ … ┆ 7.2857    ┆ 11.0      ┆ 17.0      ┆ 34.0     │\n",
       "│ stas      ┆           ┆           ┆           ┆   ┆           ┆           ┆           ┆          │\n",
       "│ ENTRETENI ┆ 18.038128 ┆ 7.284276  ┆ 19.860759 ┆ … ┆ 9.6667    ┆ 8.0       ┆ 14.0      ┆ 29.0     │\n",
       "│ MIENTO    ┆           ┆           ┆           ┆   ┆           ┆           ┆           ┆          │\n",
       "│ BEBIDA    ┆ 32.453697 ┆ 6.20932   ┆ 18.118812 ┆ … ┆ 8.0       ┆ 7.0       ┆ 15.0      ┆ 24.0     │\n",
       "│ Autoservi ┆ 54.523032 ┆ 5.562718  ┆ 52.973118 ┆ … ┆ 6.381     ┆ 36.0      ┆ 51.0      ┆ 68.0     │\n",
       "│ cio       ┆           ┆           ┆           ┆   ┆           ┆           ┆           ┆          │\n",
       "│ Tradicion ┆ 16.825898 ┆ 5.765766  ┆ 27.815385 ┆ … ┆ 7.1389    ┆ 12.0      ┆ 22.0      ┆ 38.0     │\n",
       "│ al        ┆           ┆           ┆           ┆   ┆           ┆           ┆           ┆          │\n",
       "│ Bar/Resta ┆ 25.168753 ┆ 7.095233  ┆ 27.333333 ┆ … ┆ 8.875     ┆ 28.0      ┆ 28.0      ┆ 36.0     │\n",
       "│ urant     ┆           ┆           ┆           ┆   ┆           ┆           ┆           ┆          │\n",
       "│ COMIDA    ┆ 17.925747 ┆ 6.894312  ┆ 22.821687 ┆ … ┆ 8.7       ┆ 10.0      ┆ 21.0      ┆ 31.0     │\n",
       "│ Kioscos/M ┆ 14.823838 ┆ 5.849775  ┆ 27.830694 ┆ … ┆ 7.1667    ┆ 11.0      ┆ 21.0      ┆ 38.0     │\n",
       "│ axikiosco ┆           ┆           ┆           ┆   ┆           ┆           ┆           ┆          │\n",
       "│ s         ┆           ┆           ┆           ┆   ┆           ┆           ┆           ┆          │\n",
       "│ Mayorista ┆ 324.15075 ┆ 3.968723  ┆ 24.264151 ┆ … ┆ 4.8846    ┆ 11.0      ┆ 19.0      ┆ 32.0     │\n",
       "│           ┆ 2         ┆           ┆           ┆   ┆           ┆           ┆           ┆          │\n",
       "│ Instituci ┆ 18.204722 ┆ 6.872633  ┆ 17.511628 ┆ … ┆ 9.7222    ┆ 9.0       ┆ 16.0      ┆ 22.0     │\n",
       "│ ones      ┆           ┆           ┆           ┆   ┆           ┆           ┆           ┆          │\n",
       "└───────────┴───────────┴───────────┴───────────┴───┴───────────┴───────────┴───────────┴──────────┘"
      ]
     },
     "execution_count": 44,
     "metadata": {},
     "output_type": "execute_result"
    }
   ],
   "source": [
    "print(count_distinct_grouped_by(atributes, y_column=\"poc\", x_columns=[\"canal\"],z_columns=[\"poc_percentage\"]))\n",
    "group_and_describe_with_percentiles(atributes, \"canal\", numerical)"
   ]
  },
  {
   "cell_type": "markdown",
   "metadata": {},
   "source": [
    "#### ¿Con qué frecuencia los clientes realizan compras?"
   ]
  },
  {
   "cell_type": "code",
   "execution_count": null,
   "metadata": {},
   "outputs": [],
   "source": []
  },
  {
   "cell_type": "code",
   "execution_count": null,
   "metadata": {},
   "outputs": [],
   "source": []
  },
  {
   "cell_type": "markdown",
   "metadata": {},
   "source": [
    "#### ¿Cuál es la cantidad de clientes que compran por item disponible para recomendación?"
   ]
  },
  {
   "cell_type": "code",
   "execution_count": 45,
   "metadata": {},
   "outputs": [
    {
     "data": {
      "text/html": [
       "<div><style>\n",
       ".dataframe > thead > tr,\n",
       ".dataframe > tbody > tr {\n",
       "  text-align: right;\n",
       "  white-space: pre-wrap;\n",
       "}\n",
       "</style>\n",
       "<small>shape: (5, 6)</small><table border=\"1\" class=\"dataframe\"><thead><tr><th>invoice_date</th><th>account_id</th><th>order_id</th><th>sku_id</th><th>sku_id_count</th><th>items_phys_cases</th></tr><tr><td>date</td><td>str</td><td>str</td><td>list[str]</td><td>u32</td><td>i64</td></tr></thead><tbody><tr><td>2022-05-24</td><td>&quot;74556&quot;</td><td>&quot;102-38960010-0&quot;</td><td>[&quot;7038&quot;, &quot;25030&quot;, &quot;7026&quot;]</td><td>3</td><td>5</td></tr><tr><td>2022-05-24</td><td>&quot;377860&quot;</td><td>&quot;102-38958976-0&quot;</td><td>[&quot;7651&quot;, &quot;23902&quot;]</td><td>2</td><td>2</td></tr><tr><td>2022-05-24</td><td>&quot;391399&quot;</td><td>&quot;512-3605195-0&quot;</td><td>[&quot;18361&quot;, &quot;16667&quot;, … &quot;1659&quot;]</td><td>12</td><td>69</td></tr><tr><td>2022-05-24</td><td>&quot;443775&quot;</td><td>&quot;512-3602396-0&quot;</td><td>[&quot;21972&quot;, &quot;24118&quot;, … &quot;14933&quot;]</td><td>4</td><td>5</td></tr><tr><td>2022-05-24</td><td>&quot;165294&quot;</td><td>&quot;512-3603476-0&quot;</td><td>[&quot;19089&quot;, &quot;19086&quot;, … &quot;77812&quot;]</td><td>13</td><td>26</td></tr></tbody></table></div>"
      ],
      "text/plain": [
       "shape: (5, 6)\n",
       "┌──────────────┬────────────┬────────────────┬───────────────────┬──────────────┬──────────────────┐\n",
       "│ invoice_date ┆ account_id ┆ order_id       ┆ sku_id            ┆ sku_id_count ┆ items_phys_cases │\n",
       "│ ---          ┆ ---        ┆ ---            ┆ ---               ┆ ---          ┆ ---              │\n",
       "│ date         ┆ str        ┆ str            ┆ list[str]         ┆ u32          ┆ i64              │\n",
       "╞══════════════╪════════════╪════════════════╪═══════════════════╪══════════════╪══════════════════╡\n",
       "│ 2022-05-24   ┆ 74556      ┆ 102-38960010-0 ┆ [\"7038\", \"25030\", ┆ 3            ┆ 5                │\n",
       "│              ┆            ┆                ┆ \"7026\"]           ┆              ┆                  │\n",
       "│ 2022-05-24   ┆ 377860     ┆ 102-38958976-0 ┆ [\"7651\", \"23902\"] ┆ 2            ┆ 2                │\n",
       "│ 2022-05-24   ┆ 391399     ┆ 512-3605195-0  ┆ [\"18361\",         ┆ 12           ┆ 69               │\n",
       "│              ┆            ┆                ┆ \"16667\", …        ┆              ┆                  │\n",
       "│              ┆            ┆                ┆ \"1659\"]           ┆              ┆                  │\n",
       "│ 2022-05-24   ┆ 443775     ┆ 512-3602396-0  ┆ [\"21972\",         ┆ 4            ┆ 5                │\n",
       "│              ┆            ┆                ┆ \"24118\", …        ┆              ┆                  │\n",
       "│              ┆            ┆                ┆ \"14933\"]          ┆              ┆                  │\n",
       "│ 2022-05-24   ┆ 165294     ┆ 512-3603476-0  ┆ [\"19089\",         ┆ 13           ┆ 26               │\n",
       "│              ┆            ┆                ┆ \"19086\", …        ┆              ┆                  │\n",
       "│              ┆            ┆                ┆ \"77812\"]          ┆              ┆                  │\n",
       "└──────────────┴────────────┴────────────────┴───────────────────┴──────────────┴──────────────────┘"
      ]
     },
     "execution_count": 45,
     "metadata": {},
     "output_type": "execute_result"
    }
   ],
   "source": [
    "baskets.head()"
   ]
  },
  {
   "cell_type": "markdown",
   "metadata": {},
   "source": [
    "#### ¿Cuál es la cantidad de clientes que compran por item disponible para recomendación?\n",
    "* ¿Cuál es el tiempo entre compras consecutivas de los cliente?\n",
    "* ¿Cuál es la frecuencia de compra por cliente?\n",
    "* ¿Existen clientes con comportamiento de compra repetitivo? ¿Quienes?\n",
    "* ¿Cómo se comportan las diferentes cohortes de clientes a lo largo del tiempo?\n",
    "* ¿Cómo evolucionan las ventas en diferentes cohortes?"
   ]
  },
  {
   "cell_type": "code",
   "execution_count": null,
   "metadata": {},
   "outputs": [],
   "source": []
  },
  {
   "cell_type": "code",
   "execution_count": null,
   "metadata": {},
   "outputs": [],
   "source": []
  },
  {
   "cell_type": "markdown",
   "metadata": {},
   "source": []
  }
 ],
 "metadata": {
  "kernelspec": {
   "display_name": "challenge_abinbev",
   "language": "python",
   "name": "python3"
  },
  "language_info": {
   "codemirror_mode": {
    "name": "ipython",
    "version": 3
   },
   "file_extension": ".py",
   "mimetype": "text/x-python",
   "name": "python",
   "nbconvert_exporter": "python",
   "pygments_lexer": "ipython3",
   "version": "3.12.5"
  }
 },
 "nbformat": 4,
 "nbformat_minor": 2
}
