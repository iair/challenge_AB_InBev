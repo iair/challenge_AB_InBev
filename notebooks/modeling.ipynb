{
 "cells": [
  {
   "cell_type": "code",
   "execution_count": 1,
   "metadata": {},
   "outputs": [],
   "source": [
    "from utils import *\n",
    "from functools import reduce"
   ]
  },
  {
   "cell_type": "code",
   "execution_count": null,
   "metadata": {},
   "outputs": [],
   "source": [
    "# Read the csv files of the atributes\n",
    "file_path_atributes = \"../data/processed/atributos.csv\"\n",
    "atributes = read_csv_with_lowercase_columns(file_path_transactions)\n",
    "# Read the csv files of the transactions\n",
    "file_path_transactions = \"../data/processed/transacciones.csv\"\n",
    "transactions = read_csv_with_lowercase_columns(file_path_transactions)\n",
    "# Read the csv files of the baskets\n",
    "file_path_transactions = \"../data/processed/baskets.csv\"\n",
    "transactions = read_csv_with_lowercase_columns(file_path_transactions)\n",
    "# Display the first rows of the DataFrame of the transactions\n",
    "print(baskets.head())"
   ]
  },
  {
   "cell_type": "markdown",
   "metadata": {},
   "source": [
    "## Modelado\n",
    "\n",
    "Se implementarán los algoritmos TIFUKNN y , pues son los dos algoritmos que combinan de forma adecuada la simplicidad con buena performance en los benchmark públicos según la literatura\n",
    "\n",
    "El proceso es el siguiente:\n",
    "\n",
    "1.- Construir una matriz que capture la frecuencia de compra de cada sku_id por cliente (account_id).\n",
    "\n",
    "2.- Calcula la similitud entre los SKU utilizando la similitud coseno basada en las frecuencias de compra.\n",
    "\n",
    "3.- Utilizar la similitud calculada para recomendar los SKU más similares basados en la frecuencia y recencia de compra."
   ]
  },
  {
   "cell_type": "markdown",
   "metadata": {},
   "source": [
    "item_user_matrix = build_matrix_item_user(transactions, col_sku=\"sku_id\", col_account=\"account_id\")\n",
    "col_account=\"account_id\"\n",
    "users = transactions[col_account].unique().to_list()\n",
    "item_user_vectors, items = matrix_to_vector(item_user_matrix, users, col_account=\"account_id\")\n",
    "# Calcular la similitud coseno entre los ítems\n",
    "item_similarity = cosine_similarity(item_user_vectors)"
   ]
  }
 ],
 "metadata": {
  "kernelspec": {
   "display_name": "challenge_abinbev",
   "language": "python",
   "name": "python3"
  },
  "language_info": {
   "codemirror_mode": {
    "name": "ipython",
    "version": 3
   },
   "file_extension": ".py",
   "mimetype": "text/x-python",
   "name": "python",
   "nbconvert_exporter": "python",
   "pygments_lexer": "ipython3",
   "version": "3.12.5"
  }
 },
 "nbformat": 4,
 "nbformat_minor": 2
}
